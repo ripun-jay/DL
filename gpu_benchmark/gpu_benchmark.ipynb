{
 "cells": [
  {
   "cell_type": "markdown",
   "id": "1cd9bb84",
   "metadata": {},
   "source": [
    "### Import required packages"
   ]
  },
  {
   "cell_type": "code",
   "execution_count": 1,
   "id": "977964c0",
   "metadata": {},
   "outputs": [],
   "source": [
    "import tensorflow as tf\n",
    "from tensorflow import keras\n",
    "import pandas as pd\n",
    "import numpy as np"
   ]
  },
  {
   "cell_type": "code",
   "execution_count": 2,
   "id": "1d436f69",
   "metadata": {},
   "outputs": [],
   "source": [
    "import matplotlib.pyplot as plt"
   ]
  },
  {
   "cell_type": "markdown",
   "id": "4631fc7e",
   "metadata": {},
   "source": [
    "#### Checking Available Devices build with CUDA for Computing"
   ]
  },
  {
   "cell_type": "code",
   "execution_count": 3,
   "id": "405c95f1",
   "metadata": {},
   "outputs": [
    {
     "data": {
      "text/plain": [
       "[PhysicalDevice(name='/physical_device:CPU:0', device_type='CPU'),\n",
       " PhysicalDevice(name='/physical_device:GPU:0', device_type='GPU')]"
      ]
     },
     "execution_count": 3,
     "metadata": {},
     "output_type": "execute_result"
    }
   ],
   "source": [
    "tf.config.experimental.list_physical_devices()"
   ]
  },
  {
   "cell_type": "code",
   "execution_count": 4,
   "id": "85e23ee2",
   "metadata": {},
   "outputs": [
    {
     "data": {
      "text/plain": [
       "True"
      ]
     },
     "execution_count": 4,
     "metadata": {},
     "output_type": "execute_result"
    }
   ],
   "source": [
    "tf.test.is_built_with_cuda()"
   ]
  },
  {
   "cell_type": "markdown",
   "id": "1f0f6b01",
   "metadata": {},
   "source": [
    "# Image classfication of cifar10 dataset"
   ]
  },
  {
   "cell_type": "markdown",
   "id": "877ce509",
   "metadata": {},
   "source": [
    "#### Loading Dataset"
   ]
  },
  {
   "cell_type": "code",
   "execution_count": 5,
   "id": "729a1a5e",
   "metadata": {},
   "outputs": [],
   "source": [
    "cifar = keras.datasets.cifar10.load_data()"
   ]
  },
  {
   "cell_type": "markdown",
   "id": "dfb89a86",
   "metadata": {},
   "source": [
    "#### Train_test_split"
   ]
  },
  {
   "cell_type": "code",
   "execution_count": 6,
   "id": "fa4c9d33",
   "metadata": {},
   "outputs": [],
   "source": [
    "(X_train, y_train), (X_test, y_test) = cifar"
   ]
  },
  {
   "cell_type": "code",
   "execution_count": 7,
   "id": "6260f851",
   "metadata": {},
   "outputs": [
    {
     "data": {
      "text/plain": [
       "(50000, 32, 32, 3)"
      ]
     },
     "execution_count": 7,
     "metadata": {},
     "output_type": "execute_result"
    }
   ],
   "source": [
    "X_train.shape"
   ]
  },
  {
   "cell_type": "code",
   "execution_count": 8,
   "id": "3f163d5a",
   "metadata": {},
   "outputs": [
    {
     "data": {
      "text/plain": [
       "array([[[ 59,  62,  63],\n",
       "        [ 43,  46,  45],\n",
       "        [ 50,  48,  43],\n",
       "        ...,\n",
       "        [158, 132, 108],\n",
       "        [152, 125, 102],\n",
       "        [148, 124, 103]],\n",
       "\n",
       "       [[ 16,  20,  20],\n",
       "        [  0,   0,   0],\n",
       "        [ 18,   8,   0],\n",
       "        ...,\n",
       "        [123,  88,  55],\n",
       "        [119,  83,  50],\n",
       "        [122,  87,  57]],\n",
       "\n",
       "       [[ 25,  24,  21],\n",
       "        [ 16,   7,   0],\n",
       "        [ 49,  27,   8],\n",
       "        ...,\n",
       "        [118,  84,  50],\n",
       "        [120,  84,  50],\n",
       "        [109,  73,  42]],\n",
       "\n",
       "       ...,\n",
       "\n",
       "       [[208, 170,  96],\n",
       "        [201, 153,  34],\n",
       "        [198, 161,  26],\n",
       "        ...,\n",
       "        [160, 133,  70],\n",
       "        [ 56,  31,   7],\n",
       "        [ 53,  34,  20]],\n",
       "\n",
       "       [[180, 139,  96],\n",
       "        [173, 123,  42],\n",
       "        [186, 144,  30],\n",
       "        ...,\n",
       "        [184, 148,  94],\n",
       "        [ 97,  62,  34],\n",
       "        [ 83,  53,  34]],\n",
       "\n",
       "       [[177, 144, 116],\n",
       "        [168, 129,  94],\n",
       "        [179, 142,  87],\n",
       "        ...,\n",
       "        [216, 184, 140],\n",
       "        [151, 118,  84],\n",
       "        [123,  92,  72]]], dtype=uint8)"
      ]
     },
     "execution_count": 8,
     "metadata": {},
     "output_type": "execute_result"
    }
   ],
   "source": [
    "X_train[0]"
   ]
  },
  {
   "cell_type": "code",
   "execution_count": 9,
   "id": "71208cf5",
   "metadata": {},
   "outputs": [
    {
     "data": {
      "text/plain": [
       "array([[6],\n",
       "       [9],\n",
       "       [9],\n",
       "       ...,\n",
       "       [9],\n",
       "       [1],\n",
       "       [1]], dtype=uint8)"
      ]
     },
     "execution_count": 9,
     "metadata": {},
     "output_type": "execute_result"
    }
   ],
   "source": [
    "y_train"
   ]
  },
  {
   "cell_type": "markdown",
   "id": "556a0743",
   "metadata": {},
   "source": [
    "##### Define classes of label"
   ]
  },
  {
   "cell_type": "code",
   "execution_count": 10,
   "id": "adce81b3",
   "metadata": {},
   "outputs": [],
   "source": [
    "classes = [\"airplane\",\"automobile\",\"bird\",\"cat\",\"deer\",\"dog\",\"frog\",\"horse\",\"ship\",\"truck\"]"
   ]
  },
  {
   "cell_type": "markdown",
   "id": "67f60029",
   "metadata": {},
   "source": [
    "###### Visualiization"
   ]
  },
  {
   "cell_type": "code",
   "execution_count": 11,
   "id": "d4d6cb77",
   "metadata": {},
   "outputs": [
    {
     "data": {
      "image/png": "[encoded data removed]",
      "text/plain": [
       "<Figure size 72x72 with 1 Axes>"
      ]
     },
     "metadata": {
      "needs_background": "light"
     },
     "output_type": "display_data"
    }
   ],
   "source": [
    "def show_image(index):\n",
    "    plt.figure(figsize=(1,1))\n",
    "    plt.imshow(X_train[index])\n",
    "    plt.title(classes[y_train[index][0]])\n",
    "        \n",
    "show_image(1)        "
   ]
  },
  {
   "cell_type": "code",
   "execution_count": 12,
   "id": "a509505c",
   "metadata": {},
   "outputs": [
    {
     "data": {
      "text/plain": [
       "array([6], dtype=uint8)"
      ]
     },
     "execution_count": 12,
     "metadata": {},
     "output_type": "execute_result"
    }
   ],
   "source": [
    "y_train[0]"
   ]
  },
  {
   "cell_type": "code",
   "execution_count": 13,
   "id": "510f0caa",
   "metadata": {},
   "outputs": [
    {
     "data": {
      "text/plain": [
       "array([6], dtype=uint8)"
      ]
     },
     "execution_count": 13,
     "metadata": {},
     "output_type": "execute_result"
    }
   ],
   "source": [
    "y_train[0]"
   ]
  },
  {
   "cell_type": "markdown",
   "id": "b42403e5",
   "metadata": {},
   "source": [
    "##### Preprocessing Data"
   ]
  },
  {
   "cell_type": "code",
   "execution_count": 14,
   "id": "1f723237",
   "metadata": {},
   "outputs": [
    {
     "data": {
      "text/plain": [
       "array([[[0.23137255, 0.24313725, 0.24705882],\n",
       "        [0.16862745, 0.18039216, 0.17647059],\n",
       "        [0.19607843, 0.18823529, 0.16862745],\n",
       "        ...,\n",
       "        [0.61960784, 0.51764706, 0.42352941],\n",
       "        [0.59607843, 0.49019608, 0.4       ],\n",
       "        [0.58039216, 0.48627451, 0.40392157]],\n",
       "\n",
       "       [[0.0627451 , 0.07843137, 0.07843137],\n",
       "        [0.        , 0.        , 0.        ],\n",
       "        [0.07058824, 0.03137255, 0.        ],\n",
       "        ...,\n",
       "        [0.48235294, 0.34509804, 0.21568627],\n",
       "        [0.46666667, 0.3254902 , 0.19607843],\n",
       "        [0.47843137, 0.34117647, 0.22352941]],\n",
       "\n",
       "       [[0.09803922, 0.09411765, 0.08235294],\n",
       "        [0.0627451 , 0.02745098, 0.        ],\n",
       "        [0.19215686, 0.10588235, 0.03137255],\n",
       "        ...,\n",
       "        [0.4627451 , 0.32941176, 0.19607843],\n",
       "        [0.47058824, 0.32941176, 0.19607843],\n",
       "        [0.42745098, 0.28627451, 0.16470588]],\n",
       "\n",
       "       ...,\n",
       "\n",
       "       [[0.81568627, 0.66666667, 0.37647059],\n",
       "        [0.78823529, 0.6       , 0.13333333],\n",
       "        [0.77647059, 0.63137255, 0.10196078],\n",
       "        ...,\n",
       "        [0.62745098, 0.52156863, 0.2745098 ],\n",
       "        [0.21960784, 0.12156863, 0.02745098],\n",
       "        [0.20784314, 0.13333333, 0.07843137]],\n",
       "\n",
       "       [[0.70588235, 0.54509804, 0.37647059],\n",
       "        [0.67843137, 0.48235294, 0.16470588],\n",
       "        [0.72941176, 0.56470588, 0.11764706],\n",
       "        ...,\n",
       "        [0.72156863, 0.58039216, 0.36862745],\n",
       "        [0.38039216, 0.24313725, 0.13333333],\n",
       "        [0.3254902 , 0.20784314, 0.13333333]],\n",
       "\n",
       "       [[0.69411765, 0.56470588, 0.45490196],\n",
       "        [0.65882353, 0.50588235, 0.36862745],\n",
       "        [0.70196078, 0.55686275, 0.34117647],\n",
       "        ...,\n",
       "        [0.84705882, 0.72156863, 0.54901961],\n",
       "        [0.59215686, 0.4627451 , 0.32941176],\n",
       "        [0.48235294, 0.36078431, 0.28235294]]])"
      ]
     },
     "execution_count": 14,
     "metadata": {},
     "output_type": "execute_result"
    }
   ],
   "source": [
    "X_train_scaled = X_train/255   #scaling\n",
    "X_test_scaled = X_test/255\n",
    "X_train_scaled[0]"
   ]
  },
  {
   "cell_type": "code",
   "execution_count": 15,
   "id": "9a177e93",
   "metadata": {},
   "outputs": [],
   "source": [
    "y_train_categorical = keras.utils.to_categorical(y_train, num_classes=10, dtype= \"float32\")\n",
    "y_test_categorical = keras.utils.to_categorical(y_test, num_classes= 10, dtype=\"float32\")"
   ]
  },
  {
   "cell_type": "code",
   "execution_count": 16,
   "id": "1e8808ef",
   "metadata": {},
   "outputs": [
    {
     "data": {
      "text/plain": [
       "array([0., 0., 0., 1., 0., 0., 0., 0., 0., 0.], dtype=float32)"
      ]
     },
     "execution_count": 16,
     "metadata": {},
     "output_type": "execute_result"
    }
   ],
   "source": [
    "y_test_categorical[0]"
   ]
  },
  {
   "cell_type": "code",
   "execution_count": 17,
   "id": "de718139",
   "metadata": {},
   "outputs": [
    {
     "data": {
      "text/plain": [
       "(10000, 10)"
      ]
     },
     "execution_count": 17,
     "metadata": {},
     "output_type": "execute_result"
    }
   ],
   "source": [
    "y_test_categorical.shape"
   ]
  },
  {
   "cell_type": "code",
   "execution_count": 18,
   "id": "fdb802d1",
   "metadata": {},
   "outputs": [
    {
     "data": {
      "text/plain": [
       "(50000, 10)"
      ]
     },
     "execution_count": 18,
     "metadata": {},
     "output_type": "execute_result"
    }
   ],
   "source": [
    "y_train_categorical.shape"
   ]
  },
  {
   "cell_type": "markdown",
   "id": "3425b059",
   "metadata": {},
   "source": [
    "<h4 style=\"color:purple\">Model building and training</h4>"
   ]
  },
  {
   "cell_type": "code",
   "execution_count": 53,
   "id": "4ece61ec",
   "metadata": {},
   "outputs": [
    {
     "name": "stdout",
     "output_type": "stream",
     "text": [
      "Train on 50000 samples\n",
      "Epoch 1/34\n",
      "50000/50000 [==============================] - 10s 208us/sample - loss: 1.8588 - accuracy: 0.3328\n",
      "Epoch 2/34\n",
      "50000/50000 [==============================] - 10s 198us/sample - loss: 1.6532 - accuracy: 0.4167\n",
      "Epoch 3/34\n",
      "50000/50000 [==============================] - 11s 227us/sample - loss: 1.5658 - accuracy: 0.4469- loss: 1.5 - ETA: 0s - loss: 1.5657 - accuracy\n",
      "Epoch 4/34\n",
      "50000/50000 [==============================] - 12s 232us/sample - loss: 1.5040 - accuracy: 0.4713\n",
      "Epoch 5/34\n",
      "50000/50000 [==============================] - 11s 211us/sample - loss: 1.4569 - accuracy: 0.4854\n",
      "Epoch 6/34\n",
      "50000/50000 [==============================] - 12s 238us/sample - loss: 1.4106 - accuracy: 0.5028\n",
      "Epoch 7/34\n",
      "50000/50000 [==============================] - 11s 220us/sample - loss: 1.3744 - accuracy: 0.5153\n",
      "Epoch 8/34\n",
      "50000/50000 [==============================] - 12s 230us/sample - loss: 1.3387 - accuracy: 0.5277\n",
      "Epoch 9/34\n",
      "50000/50000 [==============================] - 11s 222us/sample - loss: 1.3039 - accuracy: 0.5416\n",
      "Epoch 10/34\n",
      "50000/50000 [==============================] - 12s 235us/sample - loss: 1.2741 - accuracy: 0.5532\n",
      "Epoch 11/34\n",
      "50000/50000 [==============================] - 11s 227us/sample - loss: 1.2467 - accuracy: 0.5607\n",
      "Epoch 12/34\n",
      "50000/50000 [==============================] - 12s 233us/sample - loss: 1.2172 - accuracy: 0.5751\n",
      "Epoch 13/34\n",
      "50000/50000 [==============================] - 11s 225us/sample - loss: 1.1912 - accuracy: 0.5807\n",
      "Epoch 14/34\n",
      "50000/50000 [==============================] - 12s 236us/sample - loss: 1.1625 - accuracy: 0.5906\n",
      "Epoch 15/34\n",
      "50000/50000 [==============================] - 11s 224us/sample - loss: 1.1378 - accuracy: 0.6011\n",
      "Epoch 16/34\n",
      "50000/50000 [==============================] - 12s 234us/sample - loss: 1.1114 - accuracy: 0.6112\n",
      "Epoch 17/34\n",
      "50000/50000 [==============================] - 12s 245us/sample - loss: 1.0838 - accuracy: 0.6224\n",
      "Epoch 18/34\n",
      "50000/50000 [==============================] - 11s 229us/sample - loss: 1.0583 - accuracy: 0.6290\n",
      "Epoch 19/34\n",
      "50000/50000 [==============================] - 11s 226us/sample - loss: 1.0349 - accuracy: 0.6382\n",
      "Epoch 20/34\n",
      "50000/50000 [==============================] - 11s 228us/sample - loss: 1.0116 - accuracy: 0.6498\n",
      "Epoch 21/34\n",
      "50000/50000 [==============================] - 11s 226us/sample - loss: 0.9839 - accuracy: 0.6567\n",
      "Epoch 22/34\n",
      "50000/50000 [==============================] - 12s 238us/sample - loss: 0.9612 - accuracy: 0.6656\n",
      "Epoch 23/34\n",
      "50000/50000 [==============================] - 12s 245us/sample - loss: 0.9346 - accuracy: 0.6748\n",
      "Epoch 24/34\n",
      "50000/50000 [==============================] - 11s 213us/sample - loss: 0.9099 - accuracy: 0.6842- los\n",
      "Epoch 25/34\n",
      "50000/50000 [==============================] - 12s 237us/sample - loss: 0.8845 - accuracy: 0.6931\n",
      "Epoch 26/34\n",
      "50000/50000 [==============================] - 11s 227us/sample - loss: 0.8608 - accuracy: 0.7008- loss: 0.8514 -  - ETA: 2s - loss: 0.8539 - accuracy: 0. -\n",
      "Epoch 27/34\n",
      "50000/50000 [==============================] - 12s 239us/sample - loss: 0.8353 - accuracy: 0.7120\n",
      "Epoch 28/34\n",
      "50000/50000 [==============================] - 12s 236us/sample - loss: 0.8126 - accuracy: 0.7198\n",
      "Epoch 29/34\n",
      "50000/50000 [==============================] - 11s 229us/sample - loss: 0.7915 - accuracy: 0.7261\n",
      "Epoch 30/34\n",
      "50000/50000 [==============================] - 12s 241us/sample - loss: 0.7625 - accuracy: 0.7373\n",
      "Epoch 31/34\n",
      "50000/50000 [==============================] - 12s 237us/sample - loss: 0.7381 - accuracy: 0.7451\n",
      "Epoch 32/34\n",
      "50000/50000 [==============================] - 11s 223us/sample - loss: 0.7170 - accuracy: 0.7534\n",
      "Epoch 33/34\n",
      "50000/50000 [==============================] - 11s 224us/sample - loss: 0.6881 - accuracy: 0.7629\n",
      "Epoch 34/34\n",
      "50000/50000 [==============================] - 12s 245us/sample - loss: 0.6715 - accuracy: 0.7716\n"
     ]
    },
    {
     "data": {
      "text/plain": [
       "<tensorflow.python.keras.callbacks.History at 0x1e2e80eb2e8>"
      ]
     },
     "execution_count": 53,
     "metadata": {},
     "output_type": "execute_result"
    }
   ],
   "source": [
    "model = keras.Sequential([\n",
    "        keras.layers.Flatten(input_shape=(32,32,3)),\n",
    "        keras.layers.Dense(3000, activation='relu'),\n",
    "        keras.layers.Dense(1000, activation='relu'),\n",
    "        keras.layers.Dense(10, activation='sigmoid')    \n",
    "    ])\n",
    "\n",
    "model.compile(optimizer='SGD',   # SGD for large dataset\n",
    "              loss='categorical_crossentropy',\n",
    "              metrics=['accuracy'])\n",
    "\n",
    "model.fit(X_train_scaled, y_train_categorical, epochs=34,)"
   ]
  },
  {
   "cell_type": "markdown",
   "id": "067cd3c2",
   "metadata": {},
   "source": [
    "<h4 style=\"color:purple\">Let's make some predictions</h4>"
   ]
  },
  {
   "cell_type": "code",
   "execution_count": 66,
   "id": "a4aedaeb",
   "metadata": {},
   "outputs": [
    {
     "data": {
      "text/plain": [
       "'airplane'"
      ]
     },
     "execution_count": 66,
     "metadata": {},
     "output_type": "execute_result"
    }
   ],
   "source": [
    "classes[np.argmax(model.predict(X_test_scaled)[10])]"
   ]
  },
  {
   "cell_type": "code",
   "execution_count": 67,
   "id": "568a370f",
   "metadata": {},
   "outputs": [
    {
     "data": {
      "image/png": "[encoded data removed]",
      "text/plain": [
       "<Figure size 72x72 with 1 Axes>"
      ]
     },
     "metadata": {
      "needs_background": "light"
     },
     "output_type": "display_data"
    }
   ],
   "source": [
    "show_image(10)"
   ]
  },
  {
   "cell_type": "code",
   "execution_count": 85,
   "id": "4d1ecd50",
   "metadata": {},
   "outputs": [
    {
     "data": {
      "text/plain": [
       "['frog', 'truck', 'truck', 'frog', 'automobile']"
      ]
     },
     "execution_count": 85,
     "metadata": {},
     "output_type": "execute_result"
    }
   ],
   "source": [
    "y_pred= (model.predict(X_train_scaled))\n",
    "y_pred.shape\n",
    "\n",
    "y_preda = []\n",
    "for arr in y_pred:\n",
    "    classs = classes[np.argmax(arr)]\n",
    "    y_preda.append(classs)\n",
    "y_preda[:5]    "
   ]
  },
  {
   "cell_type": "code",
   "execution_count": 86,
   "id": "c16c4665",
   "metadata": {},
   "outputs": [
    {
     "data": {
      "text/plain": [
       "['frog', 'truck', 'truck', 'deer', 'automobile']"
      ]
     },
     "execution_count": 86,
     "metadata": {},
     "output_type": "execute_result"
    }
   ],
   "source": [
    "y_true = []\n",
    "\n",
    "for arr in y_train:\n",
    "    y_true.append(classes[arr[0]])\n",
    "    \n",
    "y_true[:5]"
   ]
  },
  {
   "cell_type": "markdown",
   "id": "3944906f",
   "metadata": {},
   "source": [
    "##### Evaluate the model"
   ]
  },
  {
   "cell_type": "code",
   "execution_count": null,
   "id": "b5f884ff",
   "metadata": {},
   "outputs": [],
   "source": [
    "model.evaluate(X_train_scaled, y_train_categorical)"
   ]
  },
  {
   "cell_type": "markdown",
   "id": "55b9b54d",
   "metadata": {},
   "source": [
    "#### defing model for device benchmarking"
   ]
  },
  {
   "cell_type": "code",
   "execution_count": 106,
   "id": "b19d0dd2",
   "metadata": {},
   "outputs": [],
   "source": [
    "def get_model():\n",
    "    model = keras.Sequential([\n",
    "        keras.layers.Flatten(input_shape=(32,32,3)),\n",
    "        keras.layers.Dense(3000, activation='relu'),\n",
    "        keras.layers.Dense(1000, activation='relu'),\n",
    "        keras.layers.Dense(10, activation='sigmoid')    \n",
    "    ])\n",
    "\n",
    "    model.compile(optimizer='SGD',   # SGD for large dataset\n",
    "              loss='categorical_crossentropy',\n",
    "              metrics=['accuracy'])\n",
    "    \n",
    "    return model"
   ]
  },
  {
   "cell_type": "markdown",
   "id": "cc27225c",
   "metadata": {},
   "source": [
    "##### GPU model"
   ]
  },
  {
   "cell_type": "code",
   "execution_count": 108,
   "id": "b0c1341a",
   "metadata": {},
   "outputs": [
    {
     "name": "stdout",
     "output_type": "stream",
     "text": [
      "Train on 50000 samples\n",
      "50000/50000 [==============================] - ETA: 0s - loss: 1.8576 - accuracy: 0.33 - 9s 171us/sample - loss: 1.8574 - accuracy: 0.3357\n",
      "11.8 s ± 0 ns per loop (mean ± std. dev. of 1 run, 1 loop each)\n"
     ]
    }
   ],
   "source": [
    "%%timeit -n1 -r1 \n",
    "with tf.device('/GPU:0'):\n",
    "    gpu_model = get_model()\n",
    "    gpu_model.fit(X_train_scaled, y_train_categorical, epochs=1)"
   ]
  },
  {
   "cell_type": "markdown",
   "id": "c5c676c9",
   "metadata": {},
   "source": [
    "##### CPU model"
   ]
  },
  {
   "cell_type": "code",
   "execution_count": 109,
   "id": "73ef811b",
   "metadata": {},
   "outputs": [
    {
     "name": "stdout",
     "output_type": "stream",
     "text": [
      "Train on 50000 samples\n",
      "50000/50000 [==============================] - 126s 3ms/sample - loss: 1.8589 - accuracy: 0.3347\n",
      "2min 6s ± 0 ns per loop (mean ± std. dev. of 1 run, 1 loop each)\n"
     ]
    }
   ],
   "source": [
    "%%timeit -n1 -r1\n",
    "with tf.device('/CPU:0'):\n",
    "    cpu_model = get_model()\n",
    "    cpu_model.fit(X_train_scaled, y_train_categorical, epochs= 1)\n",
    "    \n",
    "    "
   ]
  },
  {
   "cell_type": "markdown",
   "id": "c91e962f",
   "metadata": {},
   "source": [
    "#### cheacking gpu vs cpu performance on 5 epochs"
   ]
  },
  {
   "cell_type": "code",
   "execution_count": 111,
   "id": "15295473",
   "metadata": {},
   "outputs": [
    {
     "name": "stdout",
     "output_type": "stream",
     "text": [
      "Train on 50000 samples\n",
      "Epoch 1/5\n",
      "50000/50000 [==============================] - 126s 3ms/sample - loss: 1.8626 - accuracy: 0.3308\n",
      "Epoch 2/5\n",
      "50000/50000 [==============================] - 125s 2ms/sample - loss: 1.6584 - accuracy: 0.4118\n",
      "Epoch 3/5\n",
      "50000/50000 [==============================] - 124s 2ms/sample - loss: 1.5706 - accuracy: 0.4432\n",
      "Epoch 4/5\n",
      "50000/50000 [==============================] - 125s 3ms/sample - loss: 1.5078 - accuracy: 0.4686\n",
      "Epoch 5/5\n",
      "50000/50000 [==============================] - 133s 3ms/sample - loss: 1.4555 - accuracy: 0.4881\n",
      "10min 34s ± 0 ns per loop (mean ± std. dev. of 1 run, 1 loop each)\n"
     ]
    }
   ],
   "source": [
    "%%timeit -n1 -r1\n",
    "with tf.device('CPU:0'):\n",
    "    cpu_model = get_model()\n",
    "    cpu_model.fit(X_train_scaled, y_train_categorical, epochs= 5)\n",
    "    \n",
    "cpu_model.predict(X_test_scaled[:5])"
   ]
  },
  {
   "cell_type": "code",
   "execution_count": 120,
   "id": "f7f8b4ba",
   "metadata": {},
   "outputs": [
    {
     "name": "stdout",
     "output_type": "stream",
     "text": [
      "Train on 50000 samples\n",
      "Epoch 1/5\n",
      "50000/50000 [==============================] - 9s 179us/sample - loss: 1.8610 - accuracy: 0.3364\n",
      "Epoch 2/5\n",
      "50000/50000 [==============================] - 10s 205us/sample - loss: 1.6562 - accuracy: 0.4141\n",
      "Epoch 3/5\n",
      "50000/50000 [==============================] - 11s 227us/sample - loss: 1.5699 - accuracy: 0.4449\n",
      "Epoch 4/5\n",
      "50000/50000 [==============================] - 12s 240us/sample - loss: 1.5094 - accuracy: 0.4683\n",
      "Epoch 5/5\n",
      "50000/50000 [==============================] - 12s 243us/sample - loss: 1.4593 - accuracy: 0.4849\n",
      "57.9 s ± 0 ns per loop (mean ± std. dev. of 1 run, 1 loop each)\n"
     ]
    }
   ],
   "source": [
    "%%timeit -n1 -r1\n",
    "with tf.device(\"GPU:0\"):\n",
    "    gpu_model = get_model()\n",
    "    gpu_model.fit(X_train_scaled, y_train_categorical, epochs= 5)\n",
    "    \n",
    "gpu_model.predict(X_test_scaled[:5])"
   ]
  },
  {
   "cell_type": "markdown",
   "id": "3e698ee3",
   "metadata": {},
   "source": [
    "## COMPARE"
   ]
  },
  {
   "cell_type": "code",
   "execution_count": 122,
   "id": "b3cf2a58",
   "metadata": {},
   "outputs": [
    {
     "data": {
      "text/html": [
       "<div>\n",
       "<style scoped>\n",
       "    .dataframe tbody tr th:only-of-type {\n",
       "        vertical-align: middle;\n",
       "    }\n",
       "\n",
       "    .dataframe tbody tr th {\n",
       "        vertical-align: top;\n",
       "    }\n",
       "\n",
       "    .dataframe thead th {\n",
       "        text-align: right;\n",
       "    }\n",
       "</style>\n",
       "<table border=\"1\" class=\"dataframe\">\n",
       "  <thead>\n",
       "    <tr style=\"text-align: right;\">\n",
       "      <th></th>\n",
       "      <th>GPU</th>\n",
       "      <th>CPU</th>\n",
       "    </tr>\n",
       "    <tr>\n",
       "      <th>Epochs</th>\n",
       "      <th></th>\n",
       "      <th></th>\n",
       "    </tr>\n",
       "  </thead>\n",
       "  <tbody>\n",
       "    <tr>\n",
       "      <th>1</th>\n",
       "      <td>12</td>\n",
       "      <td>126</td>\n",
       "    </tr>\n",
       "    <tr>\n",
       "      <th>5</th>\n",
       "      <td>58</td>\n",
       "      <td>634</td>\n",
       "    </tr>\n",
       "  </tbody>\n",
       "</table>\n",
       "</div>"
      ],
      "text/plain": [
       "        GPU  CPU\n",
       "Epochs          \n",
       "1        12  126\n",
       "5        58  634"
      ]
     },
     "execution_count": 122,
     "metadata": {},
     "output_type": "execute_result"
    }
   ],
   "source": [
    "compare = pd.DataFrame([[1, 12, 126],[5, 58, 634]], columns= [\"Epochs\", \"GPU\", \"CPU\"], index= compare[\"Epochs\"])\n",
    "compare.drop(\"Epochs\", axis= \"columns\")"
   ]
  },
  {
   "cell_type": "markdown",
   "id": "123e3cd8",
   "metadata": {},
   "source": [
    "<h1 align= \"center\", colo>CONCLUSION - CPU is almost 10 times slower then GPU</h1>"
   ]
  },
  {
   "cell_type": "code",
   "execution_count": null,
   "id": "4816a065",
   "metadata": {},
   "outputs": [],
   "source": []
  }
 ],
 "metadata": {
  "kernelspec": {
   "display_name": "Python 3",
   "language": "python",
   "name": "python3"
  },
  "language_info": {
   "codemirror_mode": {
    "name": "ipython",
    "version": 3
   },
   "file_extension": ".py",
   "mimetype": "text/x-python",
   "name": "python",
   "nbconvert_exporter": "python",
   "pygments_lexer": "ipython3",
   "version": "3.6.13"
  }
 },
 "nbformat": 4,
 "nbformat_minor": 5
}
