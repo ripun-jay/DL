{
 "cells": [
  {
   "cell_type": "markdown",
   "id": "527ce012",
   "metadata": {},
   "source": [
    "# Implemating Cost function using numpy"
   ]
  },
  {
   "cell_type": "code",
   "execution_count": 1,
   "id": "241a4e79",
   "metadata": {},
   "outputs": [],
   "source": [
    "import numpy as np"
   ]
  },
  {
   "cell_type": "code",
   "execution_count": 29,
   "id": "3cc3d866",
   "metadata": {},
   "outputs": [],
   "source": [
    "class Cost:\n",
    "    def __init__(self, y_true, y_predicted):\n",
    "        self.y_true = y_true\n",
    "        self.y_predicted = y_predicted\n",
    "        \n",
    "    # Mean Absolute Error    \n",
    "    def mae(self):\n",
    "        return np.mean(np.abs(self.y_true - self.y_predicted))\n",
    "    \n",
    "    # Mean Square Error\n",
    "    def mse(self):\n",
    "        return np.mean(np.square(self.y_true - self.y_predicted))\n",
    "    \n",
    "    # Logg loss\n",
    "    def logloss(self):\n",
    "        eps = 1e-15\n",
    "        y_predicted_new = [max(i, eps) for i in self.y_predicted]\n",
    "        y_predicted_new = [min(i,1-eps) for i in y_predicted_new]\n",
    "        y_predicted_new = np.array(y_predicted_new)\n",
    "        return -np.mean(self.y_true*np.log(y_predicted_new) + (1 - self.y_true)*np.log(1 - y_predicted_new))"
   ]
  },
  {
   "cell_type": "code",
   "execution_count": 30,
   "id": "dd1caea1",
   "metadata": {},
   "outputs": [
    {
     "name": "stdout",
     "output_type": "stream",
     "text": [
      "0.5599999999999999 0.44400000000000006 19.34200263622485\n"
     ]
    }
   ],
   "source": [
    "y_true = np.array([0.30, 0.70, 1, 0, 0.20])\n",
    "y_predicated = np.array([1,1,0,0,1])\n",
    "\n",
    "cost= Cost(y_true, y_predicated)\n",
    "print(cost.mae(), cost.mse(), cost.logloss())"
   ]
  },
  {
   "cell_type": "markdown",
   "id": "ad3ad758",
   "metadata": {},
   "source": [
    "# Implemating Cost Function in pure python"
   ]
  },
  {
   "cell_type": "code",
   "execution_count": 31,
   "id": "114afd94",
   "metadata": {},
   "outputs": [],
   "source": [
    "class Costs:\n",
    "    def __init__(self, y_true, y_predicated):\n",
    "        self.y_true = y_true\n",
    "        self.y_predicated = y_predicated\n",
    "        \n",
    "    def mae(self):\n",
    "        total_loss = 0\n",
    "        for yt, yp in zip(self.y_true, self.y_predicated):\n",
    "            loss = abs(yt - yp)\n",
    "            total_loss += loss\n",
    "        return total_loss/len(self.y_true)\n",
    "    \n",
    "    def mse(self):\n",
    "        total_loss = 0\n",
    "        for yt, yp in zip(self.y_true, self.y_predicated):\n",
    "            loss = (yt - yp)**2\n",
    "            total_loss += loss\n",
    "        return total_loss/len(self.y_true)\n",
    "            "
   ]
  },
  {
   "cell_type": "code",
   "execution_count": 34,
   "id": "85bad8a2",
   "metadata": {},
   "outputs": [
    {
     "name": "stdout",
     "output_type": "stream",
     "text": [
      "0.5599999999999999 0.44400000000000006\n"
     ]
    }
   ],
   "source": [
    "y_trues = [0.30, 0.70, 1, 0, 0.20]\n",
    "y_predicteds = [1,1,0,0,1]\n",
    "costs = Costs(y_trues, y_predicteds)\n",
    "print(costs.mae(), costs.mse())"
   ]
  },
  {
   "cell_type": "code",
   "execution_count": null,
   "id": "649157aa",
   "metadata": {},
   "outputs": [],
   "source": []
  }
 ],
 "metadata": {
  "kernelspec": {
   "display_name": "Python 3 (ipykernel)",
   "language": "python",
   "name": "python3"
  },
  "language_info": {
   "codemirror_mode": {
    "name": "ipython",
    "version": 3
   },
   "file_extension": ".py",
   "mimetype": "text/x-python",
   "name": "python",
   "nbconvert_exporter": "python",
   "pygments_lexer": "ipython3",
   "version": "3.11.3"
  }
 },
 "nbformat": 4,
 "nbformat_minor": 5
}
