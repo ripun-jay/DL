{
 "cells": [
  {
   "cell_type": "markdown",
   "id": "965b7ab6",
   "metadata": {},
   "source": [
    "### Importing Required Packages"
   ]
  },
  {
   "cell_type": "code",
   "execution_count": 1,
   "id": "6e80e1a3",
   "metadata": {},
   "outputs": [],
   "source": [
    "import tensorflow as tf\n",
    "import pandas as pd\n",
    "import numpy as np\n",
    "import matplotlib.pyplot as plt"
   ]
  },
  {
   "cell_type": "code",
   "execution_count": 2,
   "id": "8796521b",
   "metadata": {},
   "outputs": [],
   "source": [
    "from tensorflow import keras"
   ]
  },
  {
   "cell_type": "code",
   "execution_count": 3,
   "id": "681377c5",
   "metadata": {},
   "outputs": [
    {
     "data": {
      "text/html": [
       "<div>\n",
       "<style scoped>\n",
       "    .dataframe tbody tr th:only-of-type {\n",
       "        vertical-align: middle;\n",
       "    }\n",
       "\n",
       "    .dataframe tbody tr th {\n",
       "        vertical-align: top;\n",
       "    }\n",
       "\n",
       "    .dataframe thead th {\n",
       "        text-align: right;\n",
       "    }\n",
       "</style>\n",
       "<table border=\"1\" class=\"dataframe\">\n",
       "  <thead>\n",
       "    <tr style=\"text-align: right;\">\n",
       "      <th></th>\n",
       "      <th>age</th>\n",
       "      <th>income</th>\n",
       "      <th>education</th>\n",
       "      <th>insurance</th>\n",
       "    </tr>\n",
       "  </thead>\n",
       "  <tbody>\n",
       "    <tr>\n",
       "      <th>0</th>\n",
       "      <td>12</td>\n",
       "      <td>0</td>\n",
       "      <td>1</td>\n",
       "      <td>0</td>\n",
       "    </tr>\n",
       "    <tr>\n",
       "      <th>1</th>\n",
       "      <td>15</td>\n",
       "      <td>1000</td>\n",
       "      <td>1</td>\n",
       "      <td>0</td>\n",
       "    </tr>\n",
       "    <tr>\n",
       "      <th>2</th>\n",
       "      <td>20</td>\n",
       "      <td>1200</td>\n",
       "      <td>2</td>\n",
       "      <td>1</td>\n",
       "    </tr>\n",
       "    <tr>\n",
       "      <th>3</th>\n",
       "      <td>27</td>\n",
       "      <td>1500</td>\n",
       "      <td>3</td>\n",
       "      <td>0</td>\n",
       "    </tr>\n",
       "    <tr>\n",
       "      <th>4</th>\n",
       "      <td>44</td>\n",
       "      <td>1200</td>\n",
       "      <td>1</td>\n",
       "      <td>1</td>\n",
       "    </tr>\n",
       "  </tbody>\n",
       "</table>\n",
       "</div>"
      ],
      "text/plain": [
       "   age  income  education  insurance\n",
       "0   12       0          1          0\n",
       "1   15    1000          1          0\n",
       "2   20    1200          2          1\n",
       "3   27    1500          3          0\n",
       "4   44    1200          1          1"
      ]
     },
     "execution_count": 3,
     "metadata": {},
     "output_type": "execute_result"
    }
   ],
   "source": [
    "insurance = pd.read_csv(\"insurance.csv\")\n",
    "insurance.head()"
   ]
  },
  {
   "cell_type": "code",
   "execution_count": 4,
   "id": "5cc2b3c2",
   "metadata": {},
   "outputs": [],
   "source": [
    "# Intially analysing relationship with age for having insurance or not\n",
    "X = insurance[\"age\"]\n",
    "y= insurance[\"insurance\"]"
   ]
  },
  {
   "cell_type": "markdown",
   "id": "a9407100",
   "metadata": {},
   "source": [
    "### Ploting the Data"
   ]
  },
  {
   "cell_type": "code",
   "execution_count": 8,
   "id": "6878d932",
   "metadata": {},
   "outputs": [
    {
     "name": "stderr",
     "output_type": "stream",
     "text": [
      "No artists with labels found to put in legend.  Note that artists whose label start with an underscore are ignored when legend() is called with no argument.\n"
     ]
    },
    {
     "data": {
      "text/plain": [
       "<matplotlib.legend.Legend at 0x2ad1b61fcd0>"
      ]
     },
     "execution_count": 8,
     "metadata": {},
     "output_type": "execute_result"
    },
    {
     "data": {
      "image/png": "[encoded data removed]",
      "text/plain": [
       "<Figure size 640x480 with 1 Axes>"
      ]
     },
     "metadata": {},
     "output_type": "display_data"
    }
   ],
   "source": [
    "plt.scatter(X,y,c= y)\n",
    "plt.xlabel(\"age\")\n",
    "plt.ylabel(\"have_insurance\")\n",
    "plt.title(\"Distribution of insurance data over age \")\n",
    "plt.legend()"
   ]
  },
  {
   "cell_type": "markdown",
   "id": "f62258fc",
   "metadata": {},
   "source": [
    "* heavy random distribution so to get optimal model we need some more feature to justify this distribution\n",
    "* it include feature engineering, working with data collection team etc."
   ]
  },
  {
   "cell_type": "markdown",
   "id": "8ff08449",
   "metadata": {},
   "source": [
    "\n",
    "### Creating NN of single neuron"
   ]
  },
  {
   "cell_type": "code",
   "execution_count": 9,
   "id": "f0ca8d8d",
   "metadata": {},
   "outputs": [],
   "source": [
    "model = keras.Sequential([\n",
    "    keras.layers.Dense( 1, activation= \"sigmoid\")\n",
    "])\n",
    "\n",
    "model.compile(optimizer= 'adam',\n",
    "             loss= 'BinaryCrossentropy',\n",
    "             metrics= [\"accuracy\"])"
   ]
  },
  {
   "cell_type": "markdown",
   "id": "b0793030",
   "metadata": {},
   "source": [
    "### Sample predication and analysis"
   ]
  },
  {
   "cell_type": "code",
   "execution_count": 10,
   "id": "e4f20f79",
   "metadata": {},
   "outputs": [
    {
     "name": "stdout",
     "output_type": "stream",
     "text": [
      "Epoch 1/100\n",
      "1/1 [==============================] - 1s 611ms/step - loss: 3.8270 - accuracy: 0.5417\n",
      "Epoch 2/100\n",
      "1/1 [==============================] - 0s 8ms/step - loss: 3.8159 - accuracy: 0.5417\n",
      "Epoch 3/100\n",
      "1/1 [==============================] - 0s 11ms/step - loss: 3.8047 - accuracy: 0.5417\n",
      "Epoch 4/100\n",
      "1/1 [==============================] - 0s 6ms/step - loss: 3.7935 - accuracy: 0.5417\n",
      "Epoch 5/100\n",
      "1/1 [==============================] - 0s 8ms/step - loss: 3.7824 - accuracy: 0.5417\n",
      "Epoch 6/100\n",
      "1/1 [==============================] - 0s 8ms/step - loss: 3.7712 - accuracy: 0.5417\n",
      "Epoch 7/100\n",
      "1/1 [==============================] - 0s 8ms/step - loss: 3.7600 - accuracy: 0.5417\n",
      "Epoch 8/100\n",
      "1/1 [==============================] - 0s 8ms/step - loss: 3.7489 - accuracy: 0.5417\n",
      "Epoch 9/100\n",
      "1/1 [==============================] - 0s 8ms/step - loss: 3.7377 - accuracy: 0.5417\n",
      "Epoch 10/100\n",
      "1/1 [==============================] - 0s 8ms/step - loss: 3.7266 - accuracy: 0.5417\n",
      "Epoch 11/100\n",
      "1/1 [==============================] - 0s 8ms/step - loss: 3.7154 - accuracy: 0.5417\n",
      "Epoch 12/100\n",
      "1/1 [==============================] - 0s 0s/step - loss: 3.7042 - accuracy: 0.5417\n",
      "Epoch 13/100\n",
      "1/1 [==============================] - 0s 0s/step - loss: 3.6931 - accuracy: 0.5417\n",
      "Epoch 14/100\n",
      "1/1 [==============================] - 0s 0s/step - loss: 3.6819 - accuracy: 0.5417\n",
      "Epoch 15/100\n",
      "1/1 [==============================] - 0s 8ms/step - loss: 3.6708 - accuracy: 0.5417\n",
      "Epoch 16/100\n",
      "1/1 [==============================] - 0s 0s/step - loss: 3.6596 - accuracy: 0.5417\n",
      "Epoch 17/100\n",
      "1/1 [==============================] - 0s 3ms/step - loss: 3.6485 - accuracy: 0.5417\n",
      "Epoch 18/100\n",
      "1/1 [==============================] - 0s 8ms/step - loss: 3.6373 - accuracy: 0.5417\n",
      "Epoch 19/100\n",
      "1/1 [==============================] - 0s 8ms/step - loss: 3.6262 - accuracy: 0.5417\n",
      "Epoch 20/100\n",
      "1/1 [==============================] - 0s 8ms/step - loss: 3.6150 - accuracy: 0.5417\n",
      "Epoch 21/100\n",
      "1/1 [==============================] - 0s 8ms/step - loss: 3.6039 - accuracy: 0.5417\n",
      "Epoch 22/100\n",
      "1/1 [==============================] - 0s 0s/step - loss: 3.5927 - accuracy: 0.5417\n",
      "Epoch 23/100\n",
      "1/1 [==============================] - 0s 0s/step - loss: 3.5816 - accuracy: 0.5417\n",
      "Epoch 24/100\n",
      "1/1 [==============================] - 0s 0s/step - loss: 3.5704 - accuracy: 0.5417\n",
      "Epoch 25/100\n",
      "1/1 [==============================] - 0s 0s/step - loss: 3.5593 - accuracy: 0.5417\n",
      "Epoch 26/100\n",
      "1/1 [==============================] - 0s 8ms/step - loss: 3.5481 - accuracy: 0.5417\n",
      "Epoch 27/100\n",
      "1/1 [==============================] - 0s 8ms/step - loss: 3.5370 - accuracy: 0.5417\n",
      "Epoch 28/100\n",
      "1/1 [==============================] - 0s 8ms/step - loss: 3.5258 - accuracy: 0.5417\n",
      "Epoch 29/100\n",
      "1/1 [==============================] - 0s 8ms/step - loss: 3.5147 - accuracy: 0.5417\n",
      "Epoch 30/100\n",
      "1/1 [==============================] - 0s 0s/step - loss: 3.5035 - accuracy: 0.5417\n",
      "Epoch 31/100\n",
      "1/1 [==============================] - 0s 0s/step - loss: 3.4924 - accuracy: 0.5417\n",
      "Epoch 32/100\n",
      "1/1 [==============================] - 0s 0s/step - loss: 3.4813 - accuracy: 0.5417\n",
      "Epoch 33/100\n",
      "1/1 [==============================] - 0s 8ms/step - loss: 3.4701 - accuracy: 0.5417\n",
      "Epoch 34/100\n",
      "1/1 [==============================] - 0s 8ms/step - loss: 3.4590 - accuracy: 0.5417\n",
      "Epoch 35/100\n",
      "1/1 [==============================] - 0s 9ms/step - loss: 3.4479 - accuracy: 0.5417\n",
      "Epoch 36/100\n",
      "1/1 [==============================] - 0s 7ms/step - loss: 3.4367 - accuracy: 0.5417\n",
      "Epoch 37/100\n",
      "1/1 [==============================] - 0s 0s/step - loss: 3.4256 - accuracy: 0.5417\n",
      "Epoch 38/100\n",
      "1/1 [==============================] - 0s 8ms/step - loss: 3.4144 - accuracy: 0.5417\n",
      "Epoch 39/100\n",
      "1/1 [==============================] - 0s 8ms/step - loss: 3.4033 - accuracy: 0.5417\n",
      "Epoch 40/100\n",
      "1/1 [==============================] - 0s 8ms/step - loss: 3.3922 - accuracy: 0.5417\n",
      "Epoch 41/100\n",
      "1/1 [==============================] - 0s 8ms/step - loss: 3.3811 - accuracy: 0.5417\n",
      "Epoch 42/100\n",
      "1/1 [==============================] - 0s 0s/step - loss: 3.3699 - accuracy: 0.5417\n",
      "Epoch 43/100\n",
      "1/1 [==============================] - 0s 0s/step - loss: 3.3588 - accuracy: 0.5417\n",
      "Epoch 44/100\n",
      "1/1 [==============================] - 0s 2ms/step - loss: 3.3477 - accuracy: 0.5417\n",
      "Epoch 45/100\n",
      "1/1 [==============================] - 0s 0s/step - loss: 3.3365 - accuracy: 0.5417\n",
      "Epoch 46/100\n",
      "1/1 [==============================] - 0s 8ms/step - loss: 3.3254 - accuracy: 0.5417\n",
      "Epoch 47/100\n",
      "1/1 [==============================] - 0s 8ms/step - loss: 3.3143 - accuracy: 0.5417\n",
      "Epoch 48/100\n",
      "1/1 [==============================] - 0s 0s/step - loss: 3.3032 - accuracy: 0.5417\n",
      "Epoch 49/100\n",
      "1/1 [==============================] - 0s 0s/step - loss: 3.2921 - accuracy: 0.5417\n",
      "Epoch 50/100\n",
      "1/1 [==============================] - 0s 8ms/step - loss: 3.2809 - accuracy: 0.5417\n",
      "Epoch 51/100\n",
      "1/1 [==============================] - 0s 8ms/step - loss: 3.2698 - accuracy: 0.5417\n",
      "Epoch 52/100\n",
      "1/1 [==============================] - 0s 0s/step - loss: 3.2587 - accuracy: 0.5417\n",
      "Epoch 53/100\n",
      "1/1 [==============================] - 0s 0s/step - loss: 3.2476 - accuracy: 0.5417\n",
      "Epoch 54/100\n",
      "1/1 [==============================] - 0s 8ms/step - loss: 3.2365 - accuracy: 0.5417\n",
      "Epoch 55/100\n",
      "1/1 [==============================] - 0s 8ms/step - loss: 3.2254 - accuracy: 0.5417\n",
      "Epoch 56/100\n",
      "1/1 [==============================] - 0s 8ms/step - loss: 3.2143 - accuracy: 0.5417\n",
      "Epoch 57/100\n",
      "1/1 [==============================] - 0s 0s/step - loss: 3.2032 - accuracy: 0.5417\n",
      "Epoch 58/100\n",
      "1/1 [==============================] - 0s 0s/step - loss: 3.1920 - accuracy: 0.5417\n",
      "Epoch 59/100\n",
      "1/1 [==============================] - 0s 13ms/step - loss: 3.1809 - accuracy: 0.5417\n",
      "Epoch 60/100\n",
      "1/1 [==============================] - 0s 0s/step - loss: 3.1698 - accuracy: 0.5417\n",
      "Epoch 61/100\n",
      "1/1 [==============================] - 0s 12ms/step - loss: 3.1587 - accuracy: 0.5417\n",
      "Epoch 62/100\n",
      "1/1 [==============================] - 0s 5ms/step - loss: 3.1476 - accuracy: 0.5417\n",
      "Epoch 63/100\n",
      "1/1 [==============================] - 0s 5ms/step - loss: 3.1365 - accuracy: 0.5417\n",
      "Epoch 64/100\n",
      "1/1 [==============================] - 0s 8ms/step - loss: 3.1254 - accuracy: 0.5417\n",
      "Epoch 65/100\n",
      "1/1 [==============================] - 0s 8ms/step - loss: 3.1143 - accuracy: 0.5417\n",
      "Epoch 66/100\n",
      "1/1 [==============================] - 0s 8ms/step - loss: 3.1033 - accuracy: 0.5417\n",
      "Epoch 67/100\n",
      "1/1 [==============================] - 0s 0s/step - loss: 3.0922 - accuracy: 0.5417\n",
      "Epoch 68/100\n",
      "1/1 [==============================] - 0s 0s/step - loss: 3.0811 - accuracy: 0.5417\n",
      "Epoch 69/100\n",
      "1/1 [==============================] - 0s 0s/step - loss: 3.0700 - accuracy: 0.5417\n",
      "Epoch 70/100\n",
      "1/1 [==============================] - 0s 8ms/step - loss: 3.0589 - accuracy: 0.5417\n",
      "Epoch 71/100\n",
      "1/1 [==============================] - 0s 8ms/step - loss: 3.0478 - accuracy: 0.5417\n",
      "Epoch 72/100\n",
      "1/1 [==============================] - 0s 0s/step - loss: 3.0367 - accuracy: 0.5417\n",
      "Epoch 73/100\n",
      "1/1 [==============================] - 0s 0s/step - loss: 3.0257 - accuracy: 0.5417\n",
      "Epoch 74/100\n",
      "1/1 [==============================] - 0s 0s/step - loss: 3.0146 - accuracy: 0.5417\n",
      "Epoch 75/100\n",
      "1/1 [==============================] - 0s 8ms/step - loss: 3.0035 - accuracy: 0.5417\n",
      "Epoch 76/100\n",
      "1/1 [==============================] - 0s 8ms/step - loss: 2.9924 - accuracy: 0.5417\n",
      "Epoch 77/100\n",
      "1/1 [==============================] - 0s 0s/step - loss: 2.9814 - accuracy: 0.5417\n",
      "Epoch 78/100\n",
      "1/1 [==============================] - 0s 0s/step - loss: 2.9703 - accuracy: 0.5417\n",
      "Epoch 79/100\n",
      "1/1 [==============================] - 0s 8ms/step - loss: 2.9592 - accuracy: 0.5417\n",
      "Epoch 80/100\n",
      "1/1 [==============================] - 0s 8ms/step - loss: 2.9482 - accuracy: 0.5417\n",
      "Epoch 81/100\n",
      "1/1 [==============================] - 0s 0s/step - loss: 2.9371 - accuracy: 0.5417\n",
      "Epoch 82/100\n",
      "1/1 [==============================] - 0s 0s/step - loss: 2.9260 - accuracy: 0.5417\n",
      "Epoch 83/100\n",
      "1/1 [==============================] - 0s 8ms/step - loss: 2.9150 - accuracy: 0.5417\n",
      "Epoch 84/100\n",
      "1/1 [==============================] - 0s 8ms/step - loss: 2.9039 - accuracy: 0.5417\n"
     ]
    },
    {
     "name": "stdout",
     "output_type": "stream",
     "text": [
      "Epoch 85/100\n",
      "1/1 [==============================] - 0s 0s/step - loss: 2.8929 - accuracy: 0.5417\n",
      "Epoch 86/100\n",
      "1/1 [==============================] - 0s 8ms/step - loss: 2.8818 - accuracy: 0.5417\n",
      "Epoch 87/100\n",
      "1/1 [==============================] - 0s 6ms/step - loss: 2.8708 - accuracy: 0.5417\n",
      "Epoch 88/100\n",
      "1/1 [==============================] - 0s 0s/step - loss: 2.8597 - accuracy: 0.5417\n",
      "Epoch 89/100\n",
      "1/1 [==============================] - 0s 3ms/step - loss: 2.8487 - accuracy: 0.5417\n",
      "Epoch 90/100\n",
      "1/1 [==============================] - 0s 5ms/step - loss: 2.8376 - accuracy: 0.5417\n",
      "Epoch 91/100\n",
      "1/1 [==============================] - 0s 8ms/step - loss: 2.8266 - accuracy: 0.5417\n",
      "Epoch 92/100\n",
      "1/1 [==============================] - 0s 0s/step - loss: 2.8156 - accuracy: 0.5417\n",
      "Epoch 93/100\n",
      "1/1 [==============================] - 0s 0s/step - loss: 2.8045 - accuracy: 0.5417\n",
      "Epoch 94/100\n",
      "1/1 [==============================] - 0s 0s/step - loss: 2.7935 - accuracy: 0.5417\n",
      "Epoch 95/100\n",
      "1/1 [==============================] - 0s 0s/step - loss: 2.7825 - accuracy: 0.5417\n",
      "Epoch 96/100\n",
      "1/1 [==============================] - 0s 8ms/step - loss: 2.7714 - accuracy: 0.5417\n",
      "Epoch 97/100\n",
      "1/1 [==============================] - 0s 8ms/step - loss: 2.7604 - accuracy: 0.5417\n",
      "Epoch 98/100\n",
      "1/1 [==============================] - 0s 0s/step - loss: 2.7494 - accuracy: 0.5417\n",
      "Epoch 99/100\n",
      "1/1 [==============================] - 0s 8ms/step - loss: 2.7384 - accuracy: 0.5417\n",
      "Epoch 100/100\n",
      "1/1 [==============================] - 0s 8ms/step - loss: 2.7274 - accuracy: 0.5417\n"
     ]
    },
    {
     "data": {
      "text/plain": [
       "<keras.src.callbacks.History at 0x2ad1b77bc90>"
      ]
     },
     "execution_count": 10,
     "metadata": {},
     "output_type": "execute_result"
    }
   ],
   "source": [
    "model.fit(X,y, epochs= 100)"
   ]
  },
  {
   "cell_type": "markdown",
   "id": "06810375",
   "metadata": {},
   "source": [
    "### Cross Verification"
   ]
  },
  {
   "cell_type": "code",
   "execution_count": 11,
   "id": "c319929d",
   "metadata": {},
   "outputs": [
    {
     "name": "stdout",
     "output_type": "stream",
     "text": [
      "1/1 [==============================] - 0s 72ms/step\n"
     ]
    },
    {
     "data": {
      "text/plain": [
       "array([[0.99999976]], dtype=float32)"
      ]
     },
     "execution_count": 11,
     "metadata": {},
     "output_type": "execute_result"
    }
   ],
   "source": [
    "model.predict([60])"
   ]
  },
  {
   "cell_type": "code",
   "execution_count": 12,
   "id": "92ca4004",
   "metadata": {},
   "outputs": [
    {
     "name": "stdout",
     "output_type": "stream",
     "text": [
      "1/1 [==============================] - 0s 32ms/step\n"
     ]
    },
    {
     "data": {
      "text/plain": [
       "array([[0.99340856]], dtype=float32)"
      ]
     },
     "execution_count": 12,
     "metadata": {},
     "output_type": "execute_result"
    }
   ],
   "source": [
    "model.predict([20])"
   ]
  },
  {
   "cell_type": "code",
   "execution_count": 13,
   "id": "f72748a8",
   "metadata": {},
   "outputs": [
    {
     "data": {
      "text/plain": [
       "<keras.src.engine.sequential.Sequential at 0x2ad1b6b4c50>"
      ]
     },
     "execution_count": 13,
     "metadata": {},
     "output_type": "execute_result"
    }
   ],
   "source": [
    "model"
   ]
  },
  {
   "cell_type": "code",
   "execution_count": 14,
   "id": "3c889e44",
   "metadata": {},
   "outputs": [
    {
     "data": {
      "text/plain": [
       "[<keras.src.layers.core.dense.Dense at 0x2ad198f1dd0>]"
      ]
     },
     "execution_count": 14,
     "metadata": {},
     "output_type": "execute_result"
    }
   ],
   "source": [
    "model.layers"
   ]
  },
  {
   "cell_type": "code",
   "execution_count": 15,
   "id": "38b17b48",
   "metadata": {},
   "outputs": [
    {
     "data": {
      "text/plain": [
       "<bound method Sequential.call of <keras.src.engine.sequential.Sequential object at 0x000002AD1B6B4C50>>"
      ]
     },
     "execution_count": 15,
     "metadata": {},
     "output_type": "execute_result"
    }
   ],
   "source": [
    "model.call"
   ]
  },
  {
   "cell_type": "code",
   "execution_count": 16,
   "id": "713a0019",
   "metadata": {},
   "outputs": [
    {
     "data": {
      "text/plain": [
       "[<tf.Variable 'dense/kernel:0' shape=(1, 1) dtype=float32, numpy=array([[0.25575498]], dtype=float32)>,\n",
       " <tf.Variable 'dense/bias:0' shape=(1,) dtype=float32, numpy=array([-0.0997283], dtype=float32)>]"
      ]
     },
     "execution_count": 16,
     "metadata": {},
     "output_type": "execute_result"
    }
   ],
   "source": [
    "model.weights"
   ]
  },
  {
   "cell_type": "code",
   "execution_count": 17,
   "id": "c6f5d630",
   "metadata": {},
   "outputs": [
    {
     "data": {
      "text/plain": [
       "'sequential'"
      ]
     },
     "execution_count": 17,
     "metadata": {},
     "output_type": "execute_result"
    }
   ],
   "source": [
    "model.name"
   ]
  },
  {
   "cell_type": "code",
   "execution_count": 18,
   "id": "3ab4d506",
   "metadata": {},
   "outputs": [
    {
     "data": {
      "text/plain": [
       "[<keras.src.layers.core.dense.Dense at 0x2ad198f1dd0>]"
      ]
     },
     "execution_count": 18,
     "metadata": {},
     "output_type": "execute_result"
    }
   ],
   "source": [
    "model.layers"
   ]
  },
  {
   "cell_type": "code",
   "execution_count": 19,
   "id": "ee51bfc8",
   "metadata": {},
   "outputs": [
    {
     "data": {
      "text/plain": [
       "43.709999999999994"
      ]
     },
     "execution_count": 19,
     "metadata": {},
     "output_type": "execute_result"
    }
   ],
   "source": [
    "0.73*60-0.09"
   ]
  },
  {
   "cell_type": "code",
   "execution_count": 20,
   "id": "dad934a9",
   "metadata": {},
   "outputs": [
    {
     "data": {
      "text/plain": [
       "<tf.Tensor: shape=(), dtype=float32, numpy=1.0>"
      ]
     },
     "execution_count": 20,
     "metadata": {},
     "output_type": "execute_result"
    }
   ],
   "source": [
    "tf.math.sigmoid(43.7)"
   ]
  },
  {
   "cell_type": "code",
   "execution_count": 21,
   "id": "136957ce",
   "metadata": {},
   "outputs": [
    {
     "data": {
      "text/plain": [
       "14.51"
      ]
     },
     "execution_count": 21,
     "metadata": {},
     "output_type": "execute_result"
    }
   ],
   "source": [
    "0.73*20-0.09"
   ]
  },
  {
   "cell_type": "code",
   "execution_count": 22,
   "id": "5197248e",
   "metadata": {},
   "outputs": [
    {
     "data": {
      "text/plain": [
       "<tf.Tensor: shape=(), dtype=float32, numpy=0.9999993>"
      ]
     },
     "execution_count": 22,
     "metadata": {},
     "output_type": "execute_result"
    }
   ],
   "source": [
    "tf.math.sigmoid(14.15)"
   ]
  },
  {
   "cell_type": "markdown",
   "id": "80109141",
   "metadata": {},
   "source": [
    "### Conclusion\n",
    "1. single neuron neural network not doing well on this dataset,\n",
    "2. to improve the performance of this some general steps include following\n",
    "* data cleaning\n",
    "* data mining\n",
    "        * parameter tunning including number of layer and neurons\n",
    "        -* scaling\n",
    "        -* shuffling the data to dicart any order exist in traing data etc"
   ]
  },
  {
   "cell_type": "code",
   "execution_count": null,
   "id": "f6b17dfd",
   "metadata": {},
   "outputs": [],
   "source": []
  }
 ],
 "metadata": {
  "kernelspec": {
   "display_name": "Python 3 (ipykernel)",
   "language": "python",
   "name": "python3"
  },
  "language_info": {
   "codemirror_mode": {
    "name": "ipython",
    "version": 3
   },
   "file_extension": ".py",
   "mimetype": "text/x-python",
   "name": "python",
   "nbconvert_exporter": "python",
   "pygments_lexer": "ipython3",
   "version": "3.11.4"
  }
 },
 "nbformat": 4,
 "nbformat_minor": 5
}
