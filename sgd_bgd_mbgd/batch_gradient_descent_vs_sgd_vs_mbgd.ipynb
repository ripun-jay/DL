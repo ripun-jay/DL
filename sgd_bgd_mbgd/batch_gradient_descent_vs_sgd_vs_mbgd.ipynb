{
 "cells": [
  {
   "cell_type": "markdown",
   "id": "0870d3b6",
   "metadata": {},
   "source": [
    "#### import required packages"
   ]
  },
  {
   "cell_type": "code",
   "execution_count": 1,
   "id": "db33c3c2",
   "metadata": {},
   "outputs": [],
   "source": [
    "import numpy as np\n",
    "import pandas as pd"
   ]
  },
  {
   "cell_type": "code",
   "execution_count": 2,
   "id": "22dab5f6",
   "metadata": {},
   "outputs": [],
   "source": [
    "from sklearn.preprocessing import MinMaxScaler"
   ]
  },
  {
   "cell_type": "markdown",
   "id": "c42489a4",
   "metadata": {},
   "source": [
    "#### Loading Data"
   ]
  },
  {
   "cell_type": "code",
   "execution_count": 3,
   "id": "f9e43f23",
   "metadata": {},
   "outputs": [
    {
     "data": {
      "text/html": [
       "<div>\n",
       "<style scoped>\n",
       "    .dataframe tbody tr th:only-of-type {\n",
       "        vertical-align: middle;\n",
       "    }\n",
       "\n",
       "    .dataframe tbody tr th {\n",
       "        vertical-align: top;\n",
       "    }\n",
       "\n",
       "    .dataframe thead th {\n",
       "        text-align: right;\n",
       "    }\n",
       "</style>\n",
       "<table border=\"1\" class=\"dataframe\">\n",
       "  <thead>\n",
       "    <tr style=\"text-align: right;\">\n",
       "      <th></th>\n",
       "      <th>area</th>\n",
       "      <th>bedrooms</th>\n",
       "      <th>price</th>\n",
       "    </tr>\n",
       "  </thead>\n",
       "  <tbody>\n",
       "    <tr>\n",
       "      <th>0</th>\n",
       "      <td>1056</td>\n",
       "      <td>2</td>\n",
       "      <td>39.07</td>\n",
       "    </tr>\n",
       "    <tr>\n",
       "      <th>1</th>\n",
       "      <td>2600</td>\n",
       "      <td>4</td>\n",
       "      <td>120.00</td>\n",
       "    </tr>\n",
       "    <tr>\n",
       "      <th>2</th>\n",
       "      <td>1440</td>\n",
       "      <td>3</td>\n",
       "      <td>62.00</td>\n",
       "    </tr>\n",
       "    <tr>\n",
       "      <th>3</th>\n",
       "      <td>1521</td>\n",
       "      <td>3</td>\n",
       "      <td>75.00</td>\n",
       "    </tr>\n",
       "    <tr>\n",
       "      <th>4</th>\n",
       "      <td>1200</td>\n",
       "      <td>2</td>\n",
       "      <td>51.00</td>\n",
       "    </tr>\n",
       "  </tbody>\n",
       "</table>\n",
       "</div>"
      ],
      "text/plain": [
       "   area  bedrooms   price\n",
       "0  1056         2   39.07\n",
       "1  2600         4  120.00\n",
       "2  1440         3   62.00\n",
       "3  1521         3   75.00\n",
       "4  1200         2   51.00"
      ]
     },
     "execution_count": 3,
     "metadata": {},
     "output_type": "execute_result"
    }
   ],
   "source": [
    "df = pd.read_csv(\"files/homeprices_banglore.csv\")\n",
    "df.head()"
   ]
  },
  {
   "cell_type": "markdown",
   "id": "050f2d28",
   "metadata": {},
   "source": [
    "###### scaler transformer defination"
   ]
  },
  {
   "cell_type": "code",
   "execution_count": 4,
   "id": "9b4765b2",
   "metadata": {},
   "outputs": [],
   "source": [
    "sx = MinMaxScaler()\n",
    "sy = MinMaxScaler()"
   ]
  },
  {
   "cell_type": "markdown",
   "id": "f797ffa1",
   "metadata": {},
   "source": [
    "#### Scaling Data"
   ]
  },
  {
   "cell_type": "code",
   "execution_count": 5,
   "id": "e892dbe3",
   "metadata": {},
   "outputs": [],
   "source": [
    "X_scaled = sx.fit_transform(df.drop(\"price\", axis= 'columns'))\n",
    "y_scaled = sy.fit_transform(df[\"price\"].values.reshape(df.shape[0],1))"
   ]
  },
  {
   "cell_type": "code",
   "execution_count": 6,
   "id": "1a353f36",
   "metadata": {},
   "outputs": [
    {
     "data": {
      "text/plain": [
       "array([[0.08827586, 0.25      ],\n",
       "       [0.62068966, 0.75      ],\n",
       "       [0.22068966, 0.5       ],\n",
       "       [0.24862069, 0.5       ],\n",
       "       [0.13793103, 0.25      ],\n",
       "       [0.12758621, 0.25      ],\n",
       "       [0.6662069 , 0.75      ],\n",
       "       [0.86206897, 0.75      ],\n",
       "       [0.17586207, 0.5       ],\n",
       "       [1.        , 1.        ],\n",
       "       [0.34482759, 0.5       ],\n",
       "       [0.68448276, 0.75      ],\n",
       "       [0.06896552, 0.25      ],\n",
       "       [0.10344828, 0.25      ],\n",
       "       [0.5       , 0.5       ],\n",
       "       [0.12931034, 0.25      ],\n",
       "       [0.13103448, 0.5       ],\n",
       "       [0.25517241, 0.5       ],\n",
       "       [0.67931034, 0.5       ],\n",
       "       [0.        , 0.        ]])"
      ]
     },
     "execution_count": 6,
     "metadata": {},
     "output_type": "execute_result"
    }
   ],
   "source": [
    "X_scaled"
   ]
  },
  {
   "cell_type": "code",
   "execution_count": 7,
   "id": "8480a34e",
   "metadata": {},
   "outputs": [
    {
     "data": {
      "text/plain": [
       "array([[0.05237037],\n",
       "       [0.65185185],\n",
       "       [0.22222222],\n",
       "       [0.31851852],\n",
       "       [0.14074074],\n",
       "       [0.04444444],\n",
       "       [0.76296296],\n",
       "       [0.91111111],\n",
       "       [0.13333333],\n",
       "       [1.        ],\n",
       "       [0.37037037],\n",
       "       [0.8       ],\n",
       "       [0.04444444],\n",
       "       [0.05925926],\n",
       "       [0.51111111],\n",
       "       [0.07407407],\n",
       "       [0.11851852],\n",
       "       [0.20740741],\n",
       "       [0.51851852],\n",
       "       [0.        ]])"
      ]
     },
     "execution_count": 7,
     "metadata": {},
     "output_type": "execute_result"
    }
   ],
   "source": [
    "y_scaled"
   ]
  },
  {
   "cell_type": "markdown",
   "id": "04959b5d",
   "metadata": {},
   "source": [
    "### Implemating general purpose Batch Gradient Descent"
   ]
  },
  {
   "cell_type": "code",
   "execution_count": 8,
   "id": "64bcc149",
   "metadata": {},
   "outputs": [],
   "source": [
    "def bgd(X, y_true, epochs, learning_rate= 0.01):\n",
    "    number_of_feature = X.shape[1]  #no. of columns\n",
    "    w = np.ones(shape= (number_of_feature,))   # ndim = 1D--> rows\n",
    "    b = 0\n",
    "    total_sample = X.shape[0]\n",
    "\n",
    "    # compute derivative and update the weights and bias\n",
    "    # prediction based on current weights and dimention\n",
    "    cost_list = []\n",
    "    epoch_list = []\n",
    "    \n",
    "    for i in range(epochs):\n",
    "        \n",
    "        y_predicted = np.dot(w, X.T) + b  #bcz w = 1d(1,n) and X= 2d(m,n) n= no. of feature , m = no. of sample\n",
    "                                        # y_predicted shape = (1,m) and y_true= (m,1)\n",
    "        \n",
    "        \n",
    "    \n",
    "        wd = -(2/total_sample)*(X.T.dot(y_true - y_predicted))\n",
    "        bd = -(2/total_sample)*np.sum(y_true - y_predicted)\n",
    "        \n",
    "        w = w - learning_rate * wd\n",
    "        b = b - learning_rate * bd\n",
    "        \n",
    "        y_predicted = np.dot(w, X.T) + b\n",
    "        cost = np.mean(np.square(y_true - y_predicted))\n",
    "        \n",
    "        if i%10 == 0:\n",
    "            cost_list.append(cost)\n",
    "            epoch_list.append(i)\n",
    "            print(f\"epoch: {i}, w: {w}, b: {b}, loss: {cost}\")\n",
    "            \n",
    "    return w, b, cost, cost_list, epoch_list\n",
    "        \n",
    "        \n",
    "    \n",
    "    "
   ]
  },
  {
   "cell_type": "code",
   "execution_count": 9,
   "id": "d7bcbc13",
   "metadata": {},
   "outputs": [
    {
     "name": "stdout",
     "output_type": "stream",
     "text": [
      "epoch: 0, w: [0.99551317 0.99445655], b: -0.009603223499361428, loss: 0.26276673457254596\n",
      "epoch: 10, w: [0.95630831 0.94626642], b: -0.09163530752945695, loss: 0.15766501024727825\n",
      "epoch: 20, w: [0.92561534 0.90895369], b: -0.1526797697123304, loss: 0.09750510556972952\n",
      "epoch: 30, w: [0.9013738  0.87987065], b: -0.19789162051248474, loss: 0.0629845575622148\n",
      "epoch: 40, w: [0.88202714 0.8570175 ], b: -0.23116355287977375, loss: 0.04309454988915444\n",
      "epoch: 50, w: [0.86639945 0.8388837 ], b: -0.2554349736249456, loss: 0.03155627438599145\n",
      "epoch: 60, w: [0.85360224 0.82432823], b: -0.27292538144121864, loss: 0.02478853208737036\n",
      "epoch: 70, w: [0.8429641  0.81248913], b: -0.2853106120900698, loss: 0.020748623996523288\n",
      "epoch: 80, w: [0.83397757 0.80271516], b: -0.2938559373058315, loss: 0.01827129260602433\n",
      "epoch: 90, w: [0.826259   0.79451428], b: -0.2995165799588363, loss: 0.016691709532086003\n",
      "epoch: 100, w: [0.81951826 0.78751463], b: -0.30301362222683875, loss: 0.015630459085441334\n",
      "epoch: 110, w: [0.81353584 0.78143512], b: -0.3048913307554715, loss: 0.014870910662342376\n",
      "epoch: 120, w: [0.80814559 0.77606324], b: -0.30556044807220106, loss: 0.014289281932991772\n",
      "epoch: 130, w: [0.80322164 0.77123825], b: -0.30533088582370616, loss: 0.013814752426520225\n",
      "epoch: 140, w: [0.79866856 0.76683852], b: -0.3044364143529435, loss: 0.013406715338886484\n",
      "epoch: 150, w: [0.79441393 0.76277198], b: -0.3030533079748378, loss: 0.013041803549542546\n",
      "epoch: 160, w: [0.79040267 0.75896884], b: -0.30131442564353544, loss: 0.0127064900344388\n",
      "epoch: 170, w: [0.78659287 0.75537619], b: -0.2993198444640547, loss: 0.012392867456466413\n",
      "epoch: 180, w: [0.78295249 0.75195384], b: -0.29714488994018035, loss: 0.012096240902232668\n",
      "epoch: 190, w: [0.77945703 0.74867123], b: -0.2948462002592805, loss: 0.011813754695903993\n",
      "epoch: 200, w: [0.77608763 0.74550508], b: -0.29246630589863587, loss: 0.011543608974344921\n",
      "epoch: 210, w: [0.77282973 0.74243756], b: -0.29003708801571365, loss: 0.01128461262292548\n",
      "epoch: 220, w: [0.76967201 0.73945505], b: -0.28758239010641606, loss: 0.011035928053264832\n",
      "epoch: 230, w: [0.76660562 0.73654702], b: -0.28511999021952317, loss: 0.010796925401235127\n",
      "epoch: 240, w: [0.76362356 0.73370536], b: -0.28266309026978376, loss: 0.010567099138481847\n",
      "epoch: 250, w: [0.76072023 0.73092372], b: -0.28022144066929244, loss: 0.01034602028841897\n",
      "epoch: 260, w: [0.75789113 0.72819713], b: -0.27780218955569225, loss: 0.010133308956735382\n",
      "epoch: 270, w: [0.75513254 0.72552166], b: -0.2754105240396432, loss: 0.009928618455971719\n",
      "epoch: 280, w: [0.7524414  0.72289414], b: -0.2730501543884423, loss: 0.00973162605044101\n",
      "epoch: 290, w: [0.74981509 0.72031201], b: -0.2707236795978057, loss: 0.009542027484588527\n",
      "epoch: 300, w: [0.74725137 0.71777316], b: -0.2684328633904501, loss: 0.009359533676560769\n",
      "epoch: 310, w: [0.74474829 0.71527582], b: -0.2661788425712016, loss: 0.009183868653794528\n",
      "epoch: 320, w: [0.7423041 0.7128185], b: -0.2639622842997645, loss: 0.00901476820384037\n",
      "epoch: 330, w: [0.73991723 0.7103999 ], b: -0.26178350478796375, loss: 0.008851978939720862\n",
      "epoch: 340, w: [0.73758623 0.70801887], b: -0.259642558866484, loss: 0.00869525760807425\n",
      "epoch: 350, w: [0.73530976 0.70567439], b: -0.25753930755388427, loss: 0.008544370541886778\n",
      "epoch: 360, w: [0.73308658 0.70336553], b: -0.25547346901448403, loss: 0.008399093201574165\n",
      "epoch: 370, w: [0.7309155  0.70109145], b: -0.2534446569730072, loss: 0.008259209772111023\n",
      "epoch: 380, w: [0.72879539 0.69885134], b: -0.25145240965799764, loss: 0.00812451279756812\n",
      "epoch: 390, w: [0.72672516 0.69664447], b: -0.249496211593939, loss: 0.007994802842216568\n",
      "epoch: 400, w: [0.72470378 0.69447013], b: -0.24757550999405023, loss: 0.007869888171814783\n",
      "epoch: 410, w: [0.72273024 0.69232764], b: -0.24568972707680764, loss: 0.0077495844512429374\n",
      "epoch: 420, w: [0.72080356 0.69021635], b: -0.24383826930532643, loss: 0.007633714456111193\n",
      "epoch: 430, w: [0.7189228  0.68813565], b: -0.24202053430411505, loss: 0.007522107796808582\n",
      "epoch: 440, w: [0.71708702 0.68608491], b: -0.24023591602298297, loss: 0.007414600653945738\n",
      "epoch: 450, w: [0.71529533 0.68406357], b: -0.23848380857837115, loss: 0.00731103552442874\n",
      "epoch: 460, w: [0.71354684 0.68207104], b: -0.2367636090970201, loss: 0.0072112609775696656\n",
      "epoch: 470, w: [0.7118407  0.68010678], b: -0.23507471980732544, loss: 0.007115131420741586\n",
      "epoch: 480, w: [0.71017606 0.67817023], b: -0.23341654956364702, loss: 0.007022506874150053\n",
      "epoch: 490, w: [0.7085521  0.67626087], b: -0.23178851494346042, loss: 0.006933252754335208\n",
      "epoch: 500, w: [0.706968   0.67437818], b: -0.2301900410229738, loss: 0.00684723966604839\n",
      "epoch: 510, w: [0.70542299 0.67252165], b: -0.22862056191095523, loss: 0.006764343202169165\n",
      "epoch: 520, w: [0.70391628 0.67069079], b: -0.2270795211009728, loss: 0.0066844437513464165\n",
      "epoch: 530, w: [0.70244711 0.6688851 ], b: -0.22556637168749305, loss: 0.0066074263130619145\n",
      "epoch: 540, w: [0.70101475 0.66710411], b: -0.2240805764801373, loss: 0.006533180319828189\n",
      "epoch: 550, w: [0.69961846 0.66534736], b: -0.2226216080419813, loss: 0.006461599466244329\n",
      "epoch: 560, w: [0.69825752 0.66361438], b: -0.22118894867142677, loss: 0.006392581544644674\n",
      "epoch: 570, w: [0.69693124 0.66190473], b: -0.21978209034237497, loss: 0.006326028287085642\n",
      "epoch: 580, w: [0.69563894 0.66021796], b: -0.21840053461380904, loss: 0.00626184521342627\n",
      "epoch: 590, w: [0.69437992 0.65855365], b: -0.217043792517154, loss: 0.006199941485267054\n",
      "epoch: 600, w: [0.69315355 0.65691138], b: -0.2157113844277194, loss: 0.006140229765521482\n",
      "epoch: 610, w: [0.69195916 0.65529072], b: -0.21440283992496717, loss: 0.006082626083402694\n",
      "epoch: 620, w: [0.69079613 0.65369128], b: -0.2131176976451711, loss: 0.006027049704616554\n",
      "epoch: 630, w: [0.68966383 0.65211265], b: -0.21185550512914472, loss: 0.005973423006560443\n",
      "epoch: 640, w: [0.68856166 0.65055445], b: -0.2106158186670433, loss: 0.005921671358334497\n",
      "epoch: 650, w: [0.68748901 0.64901629], b: -0.2093982031417386, loss: 0.00587172300538\n",
      "epoch: 660, w: [0.68644529 0.64749779], b: -0.20820223187188386, loss: 0.00582350895856623\n",
      "epoch: 670, w: [0.68542994 0.64599859], b: -0.20702748645549693, loss: 0.005776962887554393\n",
      "epoch: 680, w: [0.68444239 0.64451833], b: -0.20587355661467313, loss: 0.005732021018273631\n",
      "epoch: 690, w: [0.68348209 0.64305664], b: -0.20474004004187457, loss: 0.005688622034350584\n",
      "epoch: 700, w: [0.68254848 0.6416132 ], b: -0.2036265422481193, loss: 0.005646706982339937\n",
      "epoch: 710, w: [0.68164106 0.64018764], b: -0.20253267641330144, loss: 0.005606219180609582\n",
      "epoch: 720, w: [0.68075928 0.63877965], b: -0.20145806323880233, loss: 0.005567104131739225\n",
      "epoch: 730, w: [0.67990265 0.63738889], b: -0.20040233080250036, loss: 0.005529309438297135\n",
      "epoch: 740, w: [0.67907065 0.63601505], b: -0.19936511441624913, loss: 0.005492784721864703\n",
      "epoch: 750, w: [0.67826281 0.6346578 ], b: -0.19834605648586157, loss: 0.005457481545183521\n",
      "epoch: 760, w: [0.67747863 0.63331684], b: -0.1973448063736176, loss: 0.0054233533373046665\n",
      "epoch: 770, w: [0.67671765 0.63199187], b: -0.19636102026329635, loss: 0.005390355321624357\n",
      "epoch: 780, w: [0.6759794  0.63068258], b: -0.19539436102771973, loss: 0.0053584444466946695\n",
      "epoch: 790, w: [0.67526343 0.6293887 ], b: -0.19444449809878836, loss: 0.005327579319702326\n",
      "epoch: 800, w: [0.67456929 0.62810992], b: -0.19351110733998206, loss: 0.005297720142512713\n",
      "epoch: 810, w: [0.67389655 0.62684598], b: -0.19259387092129232, loss: 0.005268828650180083\n",
      "epoch: 820, w: [0.67324478 0.6255966 ], b: -0.19169247719655327, loss: 0.005240868051828979\n",
      "epoch: 830, w: [0.67261356 0.62436151], b: -0.19080662058313194, loss: 0.005213802973815358\n",
      "epoch: 840, w: [0.67200247 0.62314045], b: -0.18993600144393993, loss: 0.0051875994050795075\n",
      "epoch: 850, w: [0.67141113 0.62193315], b: -0.18908032597172594, loss: 0.0051622246446062945\n",
      "epoch: 860, w: [0.67083912 0.62073936], b: -0.18823930607560932, loss: 0.005137647250911413\n",
      "epoch: 870, w: [0.67028606 0.61955884], b: -0.18741265926981318, loss: 0.005113836993475532\n",
      "epoch: 880, w: [0.66975157 0.61839134], b: -0.18660010856455725, loss: 0.005090764806051251\n",
      "epoch: 890, w: [0.66923529 0.61723662], b: -0.18580138235906976, loss: 0.005068402741770608\n",
      "epoch: 900, w: [0.66873683 0.61609445], b: -0.18501621433667848, loss: 0.005046723929983711\n",
      "epoch: 910, w: [0.66825585 0.61496459], b: -0.18424434336194134, loss: 0.0050257025347617956\n",
      "epoch: 920, w: [0.667792   0.61384683], b: -0.18348551337977773, loss: 0.005005313715000405\n",
      "epoch: 930, w: [0.66734492 0.61274093], b: -0.18273947331656204, loss: 0.004985533586061128\n",
      "epoch: 940, w: [0.66691429 0.61164669], b: -0.1820059769831415, loss: 0.004966339182892456\n",
      "epoch: 950, w: [0.66649976 0.61056389], b: -0.18128478297974174, loss: 0.004947708424572793\n",
      "epoch: 960, w: [0.66610102 0.60949231], b: -0.18057565460272287, loss: 0.004929620080220731\n",
      "epoch: 970, w: [0.66571775 0.60843177], b: -0.17987835975315036, loss: 0.004912053736219871\n",
      "epoch: 980, w: [0.66534963 0.60738205], b: -0.17919267084714594, loss: 0.004894989764707536\n",
      "epoch: 990, w: [0.66499636 0.60634296], b: -0.17851836472798374, loss: 0.004878409293278608\n"
     ]
    }
   ],
   "source": [
    "w, b, cost, cost_list, epocch_list = bgd(X_scaled, y_scaled.reshape(y_scaled.shape[0],), 1000,)"
   ]
  },
  {
   "cell_type": "code",
   "execution_count": 10,
   "id": "5789e640",
   "metadata": {},
   "outputs": [
    {
     "data": {
      "text/plain": [
       "(array([0.66469087, 0.60541671]), -0.17792104056392882, 0.004863885249279305)"
      ]
     },
     "execution_count": 10,
     "metadata": {},
     "output_type": "execute_result"
    }
   ],
   "source": [
    "w,b,cost"
   ]
  },
  {
   "cell_type": "markdown",
   "id": "edf427ea",
   "metadata": {},
   "source": [
    "##### ploting convergence of wiegths w.r.t epoch and cost"
   ]
  },
  {
   "cell_type": "code",
   "execution_count": 11,
   "id": "7742ab18",
   "metadata": {},
   "outputs": [
    {
     "data": {
      "text/plain": [
       "<Figure size 1440x1296 with 0 Axes>"
      ]
     },
     "execution_count": 11,
     "metadata": {},
     "output_type": "execute_result"
    },
    {
     "data": {
      "image/png": "[encoded data removed]",
      "text/plain": [
       "<Figure size 432x288 with 1 Axes>"
      ]
     },
     "metadata": {
      "needs_background": "light"
     },
     "output_type": "display_data"
    },
    {
     "data": {
      "text/plain": [
       "<Figure size 1440x1296 with 0 Axes>"
      ]
     },
     "metadata": {},
     "output_type": "display_data"
    }
   ],
   "source": [
    "import matplotlib.pyplot as plt\n",
    "plt.scatter(epocch_list, cost_list, alpha= 0.18, c= epocch_list)\n",
    "plt.xlabel(\"epochs\")\n",
    "plt.ylabel(\"loss\")\n",
    "plt.figure(figsize=(20,18))"
   ]
  },
  {
   "cell_type": "markdown",
   "id": "554d06bb",
   "metadata": {},
   "source": [
    "# SGD"
   ]
  },
  {
   "cell_type": "code",
   "execution_count": 12,
   "id": "2b57edd1",
   "metadata": {},
   "outputs": [],
   "source": [
    "def sgd(X, y_true, epochs, learning_rate= 0.01):\n",
    "    from random import randint\n",
    "    number_of_feature = X.shape[1]  #no. of columns\n",
    "    w = np.ones(shape= (number_of_feature,))   # ndim = 1D--> rows\n",
    "    b = 0\n",
    "    total_sample = X.shape[0]\n",
    "\n",
    "    # compute derivative and update the weights and bias\n",
    "    # prediction based on current weights and dimention\n",
    "    cost_list = []\n",
    "    epoch_list = []\n",
    "    \n",
    "    for i in range(epochs):\n",
    "        random_index = randint(0, X.shape[0]-1)\n",
    "        X_sample = X[random_index]\n",
    "        y_sample = y_true[random_index]\n",
    "        \n",
    "        y_predicted = np.dot(w, X_sample.T) + b  #bcz w = 1d(1,n) and X= 2d(m,n) n= no. of feature , m = no. of sample\n",
    "                                        # y_predicted shape = (1,m) and y_true= (m,1)\n",
    "        \n",
    "        \n",
    "    \n",
    "        wd = -(2/total_sample)*(X_sample.T.dot(y_sample - y_predicted))\n",
    "        bd = -(2/total_sample)*np.sum(y_sample - y_predicted)\n",
    "        \n",
    "        w = w - learning_rate * wd\n",
    "        b = b - learning_rate * bd\n",
    "        \n",
    "        y_predicted = np.dot(w, X_sample.T) + b\n",
    "        cost = np.mean(np.square(y_sample - y_predicted))\n",
    "        \n",
    "        if i%10 == 0:\n",
    "            cost_list.append(cost)\n",
    "            epoch_list.append(i)\n",
    "            print(f\"epoch: {i}, w: {w}, b: {b}, loss: {cost}\")\n",
    "            \n",
    "    return w, b, cost, cost_list, epoch_list"
   ]
  },
  {
   "cell_type": "code",
   "execution_count": 13,
   "id": "7637739c",
   "metadata": {},
   "outputs": [
    {
     "name": "stdout",
     "output_type": "stream",
     "text": [
      "epoch: 0, w: [0.99955382 0.99946087], b: -0.0007188378033205618, loss: 0.5147168288867061\n",
      "epoch: 10, w: [0.99758843 0.99699944], b: -0.005120902905908117, loss: 0.07830010888529347\n",
      "epoch: 20, w: [0.99533903 0.99420167], b: -0.009855329378317472, loss: 0.06911363084780178\n",
      "epoch: 30, w: [0.99327811 0.99172571], b: -0.014457252411492271, loss: 0.24308920006111\n",
      "epoch: 40, w: [0.99161675 0.98929336], b: -0.01898718746187376, loss: 0.23724396818768098\n",
      "epoch: 50, w: [0.98976286 0.98696335], b: -0.023589732808455617, loss: 0.15796566955100014\n",
      "epoch: 60, w: [0.98810007 0.98502479], b: -0.026819369686558816, loss: 0.07460235399100876\n",
      "epoch: 70, w: [0.98566485 0.9820531 ], b: -0.031380838014913606, loss: 0.14913797916033525\n",
      "epoch: 80, w: [0.98461547 0.98045699], b: -0.03488755799575639, loss: 0.18019442915766667\n",
      "epoch: 90, w: [0.98352013 0.97878297], b: -0.038213949980953725, loss: 0.04056155788719184\n",
      "epoch: 100, w: [0.98236783 0.97728784], b: -0.041504504901731486, loss: 0.06542018753104353\n",
      "epoch: 110, w: [0.9796192  0.97420974], b: -0.0458798166728798, loss: 0.8243716109112276\n",
      "epoch: 120, w: [0.97712736 0.97158444], b: -0.050523512270619665, loss: 0.034747959418360626\n",
      "epoch: 130, w: [0.97558227 0.96957131], b: -0.05434262866730386, loss: 0.03307761727029897\n",
      "epoch: 140, w: [0.97383475 0.9674888 ], b: -0.058128637125487534, loss: 0.32334379453611883\n",
      "epoch: 150, w: [0.97168575 0.96493325], b: -0.06212348304423179, loss: 0.18416883332434925\n",
      "epoch: 160, w: [0.96939004 0.96196635], b: -0.06668819666353672, loss: 0.20379860052294468\n",
      "epoch: 170, w: [0.96666932 0.95908514], b: -0.07130729935344944, loss: 0.04376673254682411\n",
      "epoch: 180, w: [0.96533823 0.95726473], b: -0.0742313007607892, loss: 0.34932928246165285\n",
      "epoch: 190, w: [0.96393787 0.95553586], b: -0.07742533160368535, loss: 0.04495744056121209\n",
      "epoch: 200, w: [0.96295305 0.95394491], b: -0.08063364544179234, loss: 0.022479890372935803\n",
      "epoch: 210, w: [0.96029315 0.9510329 ], b: -0.08503712788863649, loss: 0.6827533801822621\n",
      "epoch: 220, w: [0.95884824 0.94894578], b: -0.08869937137287774, loss: 0.1407444117457126\n",
      "epoch: 230, w: [0.9559598  0.94580298], b: -0.09307779383745778, loss: 0.018087219294863066\n",
      "epoch: 240, w: [0.95431788 0.94380933], b: -0.0964441113925736, loss: 0.21587827201552842\n",
      "epoch: 250, w: [0.95348525 0.94262935], b: -0.09887191522054191, loss: 0.1667403181105139\n",
      "epoch: 260, w: [0.95211599 0.94052867], b: -0.10249709741463169, loss: 0.08177566835241062\n",
      "epoch: 270, w: [0.94985972 0.93793997], b: -0.10649409752655999, loss: 0.1357345816169312\n",
      "epoch: 280, w: [0.94879343 0.93647796], b: -0.10936717618493574, loss: 0.013197330360508209\n",
      "epoch: 290, w: [0.94774606 0.93502471], b: -0.11213816627509895, loss: 0.012454753255270366\n",
      "epoch: 300, w: [0.94542565 0.93263703], b: -0.11590332640756, loss: 0.2376420675168146\n",
      "epoch: 310, w: [0.94390322 0.9306483 ], b: -0.11925450313062834, loss: 0.14403566098368994\n",
      "epoch: 320, w: [0.94231196 0.92854924], b: -0.12259811702257828, loss: 0.019698746249365733\n",
      "epoch: 330, w: [0.94052894 0.92660051], b: -0.12543500560865525, loss: 0.18760963558013183\n",
      "epoch: 340, w: [0.9379544  0.92361523], b: -0.12958861570285826, loss: 0.24349245860380034\n",
      "epoch: 350, w: [0.93635356 0.92179876], b: -0.132606469867798, loss: 0.013918072817100186\n",
      "epoch: 360, w: [0.934755   0.91970233], b: -0.1358150281838282, loss: 0.05660452355718393\n",
      "epoch: 370, w: [0.93284648 0.91780292], b: -0.13891956795075386, loss: 0.5065593577209393\n",
      "epoch: 380, w: [0.93063084 0.91539855], b: -0.14234099600411587, loss: 0.02026095914344373\n",
      "epoch: 390, w: [0.92936783 0.91386822], b: -0.14527236072177796, loss: 0.0991761590731378\n",
      "epoch: 400, w: [0.92807539 0.91198151], b: -0.14850402551501263, loss: 0.023548905327673817\n",
      "epoch: 410, w: [0.92691065 0.91070084], b: -0.15089192402560928, loss: 0.17272333669729603\n",
      "epoch: 420, w: [0.92496157 0.90881626], b: -0.15381021488064225, loss: 0.0036281366393558587\n",
      "epoch: 430, w: [0.92301814 0.90686069], b: -0.15661803624389914, loss: 0.003211402888300709\n",
      "epoch: 440, w: [0.92231207 0.905613  ], b: -0.15901527122186498, loss: 0.009299806198844142\n",
      "epoch: 450, w: [0.92143507 0.90444765], b: -0.16080930875294372, loss: 0.04079746335777126\n",
      "epoch: 460, w: [0.92066466 0.90339011], b: -0.16256428253643346, loss: 0.026427145956585366\n",
      "epoch: 470, w: [0.91907936 0.90163053], b: -0.1654931230418042, loss: 0.15299342688382062\n",
      "epoch: 480, w: [0.91734512 0.89971019], b: -0.168273764010462, loss: 0.1258032659360709\n",
      "epoch: 490, w: [0.91599526 0.89824779], b: -0.17073140906491235, loss: 0.050123396577387784\n",
      "epoch: 500, w: [0.91455316 0.89663675], b: -0.17309436723863847, loss: 0.11950977522066143\n",
      "epoch: 510, w: [0.91288769 0.89473297], b: -0.17577869198341917, loss: 0.13928072441993158\n",
      "epoch: 520, w: [0.91221415 0.8937982 ], b: -0.1777637245518021, loss: 0.006527597431998939\n",
      "epoch: 530, w: [0.91034886 0.89191522], b: -0.1806443269937452, loss: 0.029972725236740005\n",
      "epoch: 540, w: [0.90935887 0.8906351 ], b: -0.18221356626096957, loss: 0.033201783729540746\n",
      "epoch: 550, w: [0.90803414 0.88894901], b: -0.1849209649697135, loss: 0.1249394420884057\n",
      "epoch: 560, w: [0.90744882 0.88792932], b: -0.1869978437445983, loss: 0.002822023316569923\n",
      "epoch: 570, w: [0.90697828 0.88723843], b: -0.18815713289711905, loss: 0.0026789170690050008\n",
      "epoch: 580, w: [0.90582269 0.88584136], b: -0.1898521996487338, loss: 0.07661936834000604\n",
      "epoch: 590, w: [0.90491191 0.884749  ], b: -0.19173580107561125, loss: 0.08481057223874408\n",
      "epoch: 600, w: [0.904186   0.88390722], b: -0.19323919970069217, loss: 0.00013717501728964445\n",
      "epoch: 610, w: [0.90324917 0.88253689], b: -0.19549832500165573, loss: 0.14076746760460207\n",
      "epoch: 620, w: [0.9022528  0.88122518], b: -0.19721772889067304, loss: 4.619226503906672e-05\n",
      "epoch: 630, w: [0.90083705 0.8794758 ], b: -0.19976719461439554, loss: 0.06887058836054773\n",
      "epoch: 640, w: [0.90032036 0.87878441], b: -0.20125374774764807, loss: 0.03176357502882211\n",
      "epoch: 650, w: [0.89898864 0.87716014], b: -0.20353157242595618, loss: 0.3278904665467046\n",
      "epoch: 660, w: [0.89827119 0.8762909 ], b: -0.20510318297617872, loss: 0.0292638341567258\n",
      "epoch: 670, w: [0.89736799 0.87523365], b: -0.20698570888292256, loss: 0.06360850321633975\n",
      "epoch: 680, w: [0.89720167 0.87485086], b: -0.20789917841269198, loss: 0.04215102834869397\n",
      "epoch: 690, w: [0.8961     0.87353479], b: -0.20975751515631527, loss: 0.3134625594389369\n",
      "epoch: 700, w: [0.89454596 0.87157543], b: -0.212171703800699, loss: 0.0597665867581907\n",
      "epoch: 710, w: [0.892703   0.86950453], b: -0.21479297917483336, loss: 0.04770539301039741\n",
      "epoch: 720, w: [0.8915477  0.86808153], b: -0.21663230614272902, loss: 0.0564059793432727\n",
      "epoch: 730, w: [0.89029755 0.86679691], b: -0.21858005841085063, loss: 0.0005924639265311924\n",
      "epoch: 740, w: [0.88990356 0.86615708], b: -0.21976104589490542, loss: 0.044692931231650614\n",
      "epoch: 750, w: [0.8886714  0.86468891], b: -0.2217499628908051, loss: 0.04348166325958804\n",
      "epoch: 760, w: [0.88721933 0.86290977], b: -0.22421824398664078, loss: 0.0003048124654637644\n",
      "epoch: 770, w: [0.8863439  0.86200237], b: -0.2254306815348595, loss: 0.0009369274942394178\n",
      "epoch: 780, w: [0.88584943 0.86138396], b: -0.2264623772294095, loss: 0.051385447091301946\n",
      "epoch: 790, w: [0.88487339 0.86014199], b: -0.22841111478106335, loss: 0.010637693864315876\n",
      "epoch: 800, w: [0.8830553  0.85822808], b: -0.23093579023908073, loss: 0.04716341601344709\n",
      "epoch: 810, w: [0.88246348 0.85751792], b: -0.23206904182682497, loss: 0.017060878902331166\n",
      "epoch: 820, w: [0.88201278 0.8569567 ], b: -0.2328685410297372, loss: 0.02823699930277171\n",
      "epoch: 830, w: [0.88154533 0.85650077], b: -0.2334975746866511, loss: 0.00015782153010474403\n",
      "epoch: 840, w: [0.88074497 0.85554776], b: -0.23510520022221265, loss: 0.014866938206624476\n",
      "epoch: 850, w: [0.87951127 0.85435329], b: -0.2369143071489648, loss: 0.06297034177466257\n",
      "epoch: 860, w: [0.87873763 0.85334868], b: -0.23839951995392128, loss: 0.24372664144131614\n",
      "epoch: 870, w: [0.87798912 0.85243569], b: -0.23978656368590828, loss: 0.007430271609957342\n",
      "epoch: 880, w: [0.87700173 0.85142896], b: -0.2413278175807477, loss: 0.0684473747539237\n",
      "epoch: 890, w: [0.87620442 0.85048502], b: -0.24238138513171692, loss: 0.023718511646978423\n",
      "epoch: 900, w: [0.87581735 0.84996192], b: -0.24310980089492962, loss: 0.0410309090031601\n",
      "epoch: 910, w: [0.87495512 0.84907874], b: -0.24440423866901292, loss: 0.04508954305166212\n",
      "epoch: 920, w: [0.87416742 0.84810184], b: -0.24519611496050178, loss: 0.03970230150681773\n",
      "epoch: 930, w: [0.87364185 0.84747612], b: -0.2460951362550499, loss: 0.01177840495002477\n",
      "epoch: 940, w: [0.87299274 0.84668149], b: -0.2473631909447005, loss: 0.0031383263477856678\n",
      "epoch: 950, w: [0.87190299 0.84548282], b: -0.24883683623560304, loss: 0.028776173806332725\n",
      "epoch: 960, w: [0.87125913 0.84481708], b: -0.24993654858287925, loss: 0.060421973849053096\n",
      "epoch: 970, w: [0.87011632 0.84353821], b: -0.25166940049047026, loss: 0.00010064251964357348\n",
      "epoch: 980, w: [0.86939686 0.8426471 ], b: -0.2532067235357969, loss: 0.035222815676360354\n",
      "epoch: 990, w: [0.86797385 0.84126558], b: -0.2548360846169106, loss: 0.20648239563493245\n",
      "epoch: 1000, w: [0.86707227 0.84020548], b: -0.2564084399136496, loss: 0.02521494695488623\n",
      "epoch: 1010, w: [0.86667006 0.83970952], b: -0.25728373247946934, loss: 0.0003524762108177693\n",
      "epoch: 1020, w: [0.86584192 0.83872085], b: -0.25842009416999123, loss: 0.06563219464008604\n",
      "epoch: 1030, w: [0.86521055 0.83787741], b: -0.25980181819670234, loss: 0.03314311804434972\n",
      "epoch: 1040, w: [0.86451405 0.83711423], b: -0.26087190128921606, loss: 0.0002034126692039092\n",
      "epoch: 1050, w: [0.8639433  0.83644265], b: -0.2619886753331791, loss: 0.03960534085543258\n",
      "epoch: 1060, w: [0.86352576 0.83586854], b: -0.26293472576343674, loss: 0.03891715919550363\n",
      "epoch: 1070, w: [0.86305651 0.83522076], b: -0.263894946697892, loss: 0.06964054289268325\n",
      "epoch: 1080, w: [0.86270506 0.83482189], b: -0.2645629192702862, loss: 0.021718983620946056\n",
      "epoch: 1090, w: [0.86189928 0.83389277], b: -0.2658834519196272, loss: 0.18482140541952063\n",
      "epoch: 1100, w: [0.86161174 0.8335347 ], b: -0.2663555534804064, loss: 0.0021259275497232427\n",
      "epoch: 1110, w: [0.86083745 0.83269114], b: -0.26744139144379203, loss: 0.02050195840956127\n",
      "epoch: 1120, w: [0.86046404 0.83217019], b: -0.2680094309144875, loss: 0.03488917577929127\n",
      "epoch: 1130, w: [0.86012509 0.8318702 ], b: -0.26833053600394213, loss: 0.0005388891945780323\n",
      "epoch: 1140, w: [0.85846543 0.83028002], b: -0.270117835138711, loss: 0.019655189445120375\n",
      "epoch: 1150, w: [0.85818901 0.82994937], b: -0.2701959449746703, loss: 0.026363466112881456\n",
      "epoch: 1160, w: [0.85781002 0.82952537], b: -0.2705374354341344, loss: 0.01925510367517927\n",
      "epoch: 1170, w: [0.85728004 0.82897756], b: -0.27098021816291007, loss: 0.01891899909138148\n",
      "epoch: 1180, w: [0.85609018 0.82774385], b: -0.27235327915649665, loss: 0.0008288683411635939\n",
      "epoch: 1190, w: [0.85590844 0.82757551], b: -0.272059639572806, loss: 0.0025585425433289817\n",
      "epoch: 1200, w: [0.8552201  0.82685177], b: -0.2732350075132437, loss: 0.02473017872935525\n",
      "epoch: 1210, w: [0.85434038 0.82595671], b: -0.27406100884756096, loss: 0.016948858462038155\n",
      "epoch: 1220, w: [0.85391077 0.82542437], b: -0.27499182035582087, loss: 0.021965441928353504\n",
      "epoch: 1230, w: [0.85348005 0.825034  ], b: -0.2750968680731375, loss: 0.0029617670201687843\n",
      "epoch: 1240, w: [0.85276352 0.82429803], b: -0.2756770314685485, loss: 0.0030509814565682658\n",
      "epoch: 1250, w: [0.85187604 0.82345394], b: -0.2763118156689675, loss: 0.15921549222401823\n",
      "epoch: 1260, w: [0.851437   0.82295895], b: -0.2771136550985067, loss: 0.03772811569493031\n",
      "epoch: 1270, w: [0.85103898 0.8225805 ], b: -0.277465305055267, loss: 0.014881944730269632\n",
      "epoch: 1280, w: [0.85088147 0.82231335], b: -0.27787351244721775, loss: 0.0013207025652686478\n",
      "epoch: 1290, w: [0.85027748 0.82164689], b: -0.27865661856685187, loss: 0.003486845113405206\n",
      "epoch: 1300, w: [0.84999615 0.82131671], b: -0.27880566992951034, loss: 0.014158517358253781\n",
      "epoch: 1310, w: [0.84981728 0.82102874], b: -0.2789611791151636, loss: 0.021806571017323507\n",
      "epoch: 1320, w: [0.84898324 0.8201583 ], b: -0.2797749161921402, loss: 0.002720768394624824\n",
      "epoch: 1330, w: [0.84851393 0.81965424], b: -0.2804070607189052, loss: 0.0022066936287662695\n",
      "epoch: 1340, w: [0.84832983 0.81936757], b: -0.2808321221249738, loss: 0.0026018996055552973\n",
      "epoch: 1350, w: [0.84739901 0.81841236], b: -0.28212063648397384, loss: 0.033934775819063255\n",
      "epoch: 1360, w: [0.84687903 0.81786981], b: -0.2826442213903183, loss: 0.04184288674084076\n",
      "epoch: 1370, w: [0.8466     0.81759746], b: -0.28251463926217146, loss: 0.008262397451737352\n",
      "epoch: 1380, w: [0.84645499 0.81738204], b: -0.2827839681882367, loss: 0.001853917778384443\n",
      "epoch: 1390, w: [0.84556879 0.81651616], b: -0.2836268728309534, loss: 0.0026300957658611877\n",
      "epoch: 1400, w: [0.84549612 0.81635472], b: -0.2835604162427885, loss: 0.01959280714191656\n",
      "epoch: 1410, w: [0.84422112 0.81504644], b: -0.2842957783719712, loss: 0.017224455849946196\n",
      "epoch: 1420, w: [0.84407204 0.81475743], b: -0.28478509098349214, loss: 0.001123492025423582\n",
      "epoch: 1430, w: [0.84358327 0.81424209], b: -0.2852608824001505, loss: 0.0010588962686884779\n",
      "epoch: 1440, w: [0.84310726 0.81367703], b: -0.2858811935774141, loss: 0.030684628397606478\n",
      "epoch: 1450, w: [0.84281771 0.81337723], b: -0.28615561287155045, loss: 0.014983061234340305\n",
      "epoch: 1460, w: [0.8421365  0.81268569], b: -0.2870450776414294, loss: 0.017973236069185744\n",
      "epoch: 1470, w: [0.84182909 0.81234985], b: -0.2873718961784957, loss: 0.018630642113280322\n",
      "epoch: 1480, w: [0.84073131 0.81125914], b: -0.2885060924820884, loss: 0.0006957999452538585\n",
      "epoch: 1490, w: [0.84055967 0.81104013], b: -0.28876542744521083, loss: 0.005253380566611826\n",
      "epoch: 1500, w: [0.84031215 0.81072369], b: -0.28908386715388096, loss: 0.0034496076826608336\n",
      "epoch: 1510, w: [0.83944464 0.80984717], b: -0.2899960611368508, loss: 0.12909343525113995\n",
      "epoch: 1520, w: [0.83922574 0.80953048], b: -0.2899180286531077, loss: 0.08405246333810416\n",
      "epoch: 1530, w: [0.83839644 0.80871734], b: -0.2904649884256649, loss: 0.12719836086524383\n",
      "epoch: 1540, w: [0.83824229 0.8084671 ], b: -0.29043607015082606, loss: 0.08435311084465556\n",
      "epoch: 1550, w: [0.83754953 0.80775784], b: -0.2905820478316608, loss: 0.08443792652204161\n",
      "epoch: 1560, w: [0.83739153 0.80752379], b: -0.2905405805538944, loss: 0.01427860652132016\n",
      "epoch: 1570, w: [0.83722306 0.80722376], b: -0.29100134156500873, loss: 0.013100427390575042\n",
      "epoch: 1580, w: [0.83665105 0.8066531 ], b: -0.29151392111768365, loss: 0.01326902238291741\n",
      "epoch: 1590, w: [0.83611385 0.80603045], b: -0.29218827011838994, loss: 0.12246922722620296\n",
      "epoch: 1600, w: [0.83557574 0.80551534], b: -0.2925028057127191, loss: 0.006984092363590392\n",
      "epoch: 1610, w: [0.8351569  0.80500128], b: -0.29323342111728723, loss: 0.010803910931476516\n",
      "epoch: 1620, w: [0.83408967 0.80386575], b: -0.29428408852515886, loss: 0.030441246573465586\n",
      "epoch: 1630, w: [0.83368168 0.803529  ], b: -0.29376578914953155, loss: 0.005135147266171124\n",
      "epoch: 1640, w: [0.83315423 0.80297318], b: -0.2942717665164998, loss: 0.010009652368005306\n",
      "epoch: 1650, w: [0.83296145 0.80278819], b: -0.2940225323974986, loss: 0.08644924955743812\n",
      "epoch: 1660, w: [0.83261642 0.80249304], b: -0.2942867886327954, loss: 0.00986343556859479\n",
      "epoch: 1670, w: [0.83213193 0.80202459], b: -0.29459146589930113, loss: 0.11530442636718409\n",
      "epoch: 1680, w: [0.83185458 0.8016849 ], b: -0.2949782071786964, loss: 0.009508153628410261\n",
      "epoch: 1690, w: [0.83165865 0.8015453 ], b: -0.2947100598469816, loss: 0.0005049486067075535\n",
      "epoch: 1700, w: [0.83118841 0.80111185], b: -0.29525169546509444, loss: 0.0067395624301802015\n",
      "epoch: 1710, w: [0.83073628 0.80052233], b: -0.29596203114927094, loss: 0.00041573369627122053\n",
      "epoch: 1720, w: [0.83035174 0.80010818], b: -0.2966303487696708, loss: 0.008781552092316881\n",
      "epoch: 1730, w: [0.83002049 0.79974005], b: -0.29703594897410046, loss: 0.02195051546251731\n",
      "epoch: 1740, w: [0.82951734 0.79929184], b: -0.29734141979856643, loss: 0.10987087260604483\n",
      "epoch: 1750, w: [0.82934631 0.79915985], b: -0.2970222634579595, loss: 0.011401232284254818\n",
      "epoch: 1760, w: [0.82921243 0.79898292], b: -0.2972320742675142, loss: 0.02161883499606981\n",
      "epoch: 1770, w: [0.8286348  0.79840891], b: -0.29774606247623214, loss: 0.011129348039661207\n",
      "epoch: 1780, w: [0.82842541 0.7981548 ], b: -0.29802514150764425, loss: 0.008296666015679579\n",
      "epoch: 1790, w: [0.82843577 0.79817862], b: -0.2978076141968709, loss: 0.0038299610438167603\n",
      "epoch: 1800, w: [0.82781295 0.79752769], b: -0.29829529802787946, loss: 0.020820161060387327\n",
      "epoch: 1810, w: [0.8271619  0.79689619], b: -0.29869512383427715, loss: 0.00017202907516223912\n",
      "epoch: 1820, w: [0.82669677 0.79638763], b: -0.29898190697082105, loss: 0.020242760654449327\n",
      "epoch: 1830, w: [0.82643205 0.79618314], b: -0.29913354026483213, loss: 0.007662706282233157\n",
      "epoch: 1840, w: [0.82625649 0.79598685], b: -0.2987222650554111, loss: 0.08923499163983528\n",
      "epoch: 1850, w: [0.82550544 0.79522502], b: -0.2996559241913462, loss: 0.0038201154488739213\n",
      "epoch: 1860, w: [0.82458201 0.79418418], b: -0.30089178039680875, loss: 0.008086048100622946\n",
      "epoch: 1870, w: [0.82440535 0.79402614], b: -0.30061723140270663, loss: 0.02394768391161938\n",
      "epoch: 1880, w: [0.8240424  0.79364542], b: -0.3011183564844824, loss: 0.0017652603679836221\n",
      "epoch: 1890, w: [0.82340073 0.79304014], b: -0.3015147279931731, loss: 0.018450184582624058\n",
      "epoch: 1900, w: [0.82341221 0.79311817], b: -0.30102702797662834, loss: 0.016877680563792997\n",
      "epoch: 1910, w: [0.82329337 0.79293134], b: -0.3011545616961935, loss: 0.0017914303579267547\n",
      "epoch: 1920, w: [0.82320265 0.79286008], b: -0.30088573296448773, loss: 0.006275752327151028\n",
      "epoch: 1930, w: [0.82298111 0.79267457], b: -0.30045799164682957, loss: 0.01861051384311065\n",
      "epoch: 1940, w: [0.82264104 0.79225713], b: -0.30100325657717436, loss: 0.023086530703563545\n",
      "epoch: 1950, w: [0.82244586 0.79204434], b: -0.3012575905142402, loss: 0.022924216336821568\n",
      "epoch: 1960, w: [0.8224567  0.79205994], b: -0.3010809598041272, loss: 0.005966559447355467\n",
      "epoch: 1970, w: [0.82192748 0.79157309], b: -0.3012266350491546, loss: 0.09751501187538189\n",
      "epoch: 1980, w: [0.82147001 0.79111189], b: -0.30158259647657565, loss: 0.01722371616322426\n",
      "epoch: 1990, w: [0.82054352 0.790181  ], b: -0.3023895663743345, loss: 0.09507044528682222\n",
      "epoch: 2000, w: [0.82033432 0.78990003], b: -0.3021128172843314, loss: 0.0026681639489809002\n",
      "epoch: 2010, w: [0.82000651 0.78956178], b: -0.30250707393347787, loss: 0.01710712489775337\n",
      "epoch: 2020, w: [0.81994966 0.78949366], b: -0.3024609390933322, loss: 0.017617720277674866\n",
      "epoch: 2030, w: [0.81931147 0.78882224], b: -0.30306703333288254, loss: 0.005474534964038383\n",
      "epoch: 2040, w: [0.81904529 0.78850175], b: -0.30351180646914466, loss: 0.0023509777841434153\n",
      "epoch: 2050, w: [0.81875682 0.78822746], b: -0.30324124179186773, loss: 0.006519699406970738\n",
      "epoch: 2060, w: [0.81832426 0.78782903], b: -0.30339435556264677, loss: 0.0006025069946042811\n",
      "epoch: 2070, w: [0.81781709 0.78726517], b: -0.30404708288801935, loss: 0.0100150402876561\n",
      "epoch: 2080, w: [0.81759855 0.78707021], b: -0.304220055042175, loss: 0.00016891649823689103\n",
      "epoch: 2090, w: [0.8169327  0.78642401], b: -0.30483194048260737, loss: 0.015578129956016299\n",
      "epoch: 2100, w: [0.81664823 0.78615308], b: -0.30457765083495886, loss: 0.007800320654208721\n",
      "epoch: 2110, w: [0.8164918  0.78590125], b: -0.3043629971663104, loss: 0.00977018167251829\n",
      "epoch: 2120, w: [0.81626001 0.78573642], b: -0.3039317651503236, loss: 0.00914859931482787\n",
      "epoch: 2130, w: [0.81602104 0.7854744 ], b: -0.30416193594032437, loss: 0.015472444526977762\n",
      "epoch: 2140, w: [0.81582931 0.78524344], b: -0.30448401927338764, loss: 0.015331509283022134\n",
      "epoch: 2150, w: [0.81561904 0.78499077], b: -0.304770010172532, loss: 0.006956759750905283\n",
      "epoch: 2160, w: [0.81530147 0.78457353], b: -0.3054397622529201, loss: 0.0016851175295793345\n",
      "epoch: 2170, w: [0.81521224 0.78451535], b: -0.30526626643259236, loss: 0.00559179518047182\n",
      "epoch: 2180, w: [0.81474153 0.78397839], b: -0.3059097638999386, loss: 0.0015801066610009558\n",
      "epoch: 2190, w: [0.81444714 0.78371158], b: -0.3061617081412493, loss: 0.005273732477874815\n",
      "epoch: 2200, w: [0.81380358 0.7829966 ], b: -0.30709684033846624, loss: 0.01409161980274904\n",
      "epoch: 2210, w: [0.81356715 0.78272675], b: -0.3071446087752667, loss: 0.0034741050499763537\n",
      "epoch: 2220, w: [0.81319151 0.78237267], b: -0.3075534530123002, loss: 0.007585763005443255\n",
      "epoch: 2230, w: [0.81308766 0.78222399], b: -0.30765789043576963, loss: 0.006976298562941814\n",
      "epoch: 2240, w: [0.81256889 0.78165466], b: -0.3082972112185282, loss: 5.843204984315631e-05\n",
      "epoch: 2250, w: [0.81239605 0.78155605], b: -0.3082775320359747, loss: 0.006709473985420996\n",
      "epoch: 2260, w: [0.81223582 0.78135602], b: -0.30854160493903265, loss: 0.013312102658195267\n",
      "epoch: 2270, w: [0.81210468 0.78120996], b: -0.3085384384559879, loss: 0.006772711567133916\n",
      "epoch: 2280, w: [0.81190163 0.78107442], b: -0.3079349877928985, loss: 0.09482395670701256\n",
      "epoch: 2290, w: [0.81175917 0.78085346], b: -0.3082685410741919, loss: 0.0049011363674869735\n",
      "epoch: 2300, w: [0.81157152 0.78068307], b: -0.30848382565880317, loss: 0.0029964738715057638\n",
      "epoch: 2310, w: [0.81140753 0.78051995], b: -0.30837977827434293, loss: 0.0029825267325693156\n",
      "epoch: 2320, w: [0.81110599 0.78022495], b: -0.3085061610740803, loss: 8.230732727333916e-05\n",
      "epoch: 2330, w: [0.81088899 0.78000055], b: -0.30818108261674276, loss: 0.001014987222422474\n",
      "epoch: 2340, w: [0.81035023 0.7794973 ], b: -0.30867518096566204, loss: 0.016147279491797634\n",
      "epoch: 2350, w: [0.81019901 0.77927012], b: -0.3087335551622592, loss: 0.004698690313963006\n",
      "epoch: 2360, w: [0.81010736 0.779193  ], b: -0.3086988236083078, loss: 0.010501237468015893\n",
      "epoch: 2370, w: [0.80997981 0.77913125], b: -0.3085394270335736, loss: 0.007961075337731792\n",
      "epoch: 2380, w: [0.80990193 0.7790701 ], b: -0.30827482618964774, loss: 0.016096921452945313\n",
      "epoch: 2390, w: [0.80993798 0.77914258], b: -0.30758760528595647, loss: 0.007792392920117434\n",
      "epoch: 2400, w: [0.80985778 0.77901233], b: -0.3073578119233523, loss: 0.000577626808007917\n",
      "epoch: 2410, w: [0.80938376 0.77848234], b: -0.3080035852017001, loss: 0.00645814515012037\n",
      "epoch: 2420, w: [0.80920881 0.77829158], b: -0.3079206087615138, loss: 0.0029755143980765846\n",
      "epoch: 2430, w: [0.80907597 0.77818182], b: -0.3079017362961697, loss: 0.006857241334682708\n",
      "epoch: 2440, w: [0.80756955 0.77665855], b: -0.30950273087757624, loss: 0.0006635060296901504\n",
      "epoch: 2450, w: [0.80740991 0.77659009], b: -0.3092690896687389, loss: 0.010791588442350569\n",
      "epoch: 2460, w: [0.80713577 0.77634065], b: -0.30903682864353454, loss: 0.007166424044811592\n",
      "epoch: 2470, w: [0.80691846 0.77614817], b: -0.3089082741519178, loss: 0.09542432183951641\n",
      "epoch: 2480, w: [0.80681922 0.77599738], b: -0.3087353584158726, loss: 0.007712158613503405\n",
      "epoch: 2490, w: [0.80614639 0.77531614], b: -0.3092164613774544, loss: 0.011566286845767425\n",
      "epoch: 2500, w: [0.80570775 0.77489966], b: -0.3095128130647841, loss: 0.0073403129005906\n",
      "epoch: 2510, w: [0.80545355 0.77455194], b: -0.30974969625563886, loss: 0.014220345089158641\n",
      "epoch: 2520, w: [0.80481421 0.77390016], b: -0.31025849887972834, loss: 0.07206855571725744\n",
      "epoch: 2530, w: [0.80459129 0.77368557], b: -0.3103034743416029, loss: 0.0010417501964304\n",
      "epoch: 2540, w: [0.80413659 0.77323742], b: -0.3107534253395527, loss: 0.07108654051090596\n",
      "epoch: 2550, w: [0.80387636 0.77289056], b: -0.3112303656430449, loss: 0.005319452978613085\n",
      "epoch: 2560, w: [0.80383502 0.77291406], b: -0.3106455449956762, loss: 0.0003706089928978857\n",
      "epoch: 2570, w: [0.80388739 0.77301473], b: -0.31012269805970855, loss: 0.00028167423896349877\n",
      "epoch: 2580, w: [0.80355686 0.77263785], b: -0.3101907069646373, loss: 0.007074501638688345\n",
      "epoch: 2590, w: [0.80318454 0.77223374], b: -0.31036235275778884, loss: 0.07025464369678744\n",
      "epoch: 2600, w: [0.80309769 0.77216217], b: -0.3102801386840505, loss: 0.007650096669026337\n",
      "epoch: 2610, w: [0.80299674 0.77201765], b: -0.31038947590592425, loss: 0.0069726983634146944\n",
      "epoch: 2620, w: [0.80306735 0.77210879], b: -0.3100510108280832, loss: 0.0011272167997653504\n",
      "epoch: 2630, w: [0.80297874 0.77208129], b: -0.3099014648247898, loss: 0.021569679251328508\n",
      "epoch: 2640, w: [0.8028996  0.77193388], b: -0.310048261489122, loss: 0.008698448321515584\n",
      "epoch: 2650, w: [0.80238505 0.77141737], b: -0.3104526699642105, loss: 0.00033965949924122976\n",
      "epoch: 2660, w: [0.80222584 0.77127699], b: -0.31031783474491054, loss: 0.0009085029628651268\n",
      "epoch: 2670, w: [0.80215016 0.77121773], b: -0.3102654744786971, loss: 0.010349760349185718\n",
      "epoch: 2680, w: [0.80207716 0.77105001], b: -0.31022929530899396, loss: 0.0012094273952935283\n",
      "epoch: 2690, w: [0.80187134 0.77082583], b: -0.3096365142799921, loss: 0.0009314024817727629\n",
      "epoch: 2700, w: [0.80176504 0.77079238], b: -0.3095237220966703, loss: 0.001875814272537512\n",
      "epoch: 2710, w: [0.80176314 0.77077013], b: -0.30908134157268513, loss: 0.007531916545595926\n",
      "epoch: 2720, w: [0.80177616 0.77082819], b: -0.30864975146483054, loss: 0.004007668584214686\n",
      "epoch: 2730, w: [0.80176244 0.77088704], b: -0.308340426868279, loss: 0.0017707849742186873\n",
      "epoch: 2740, w: [0.80160574 0.77074817], b: -0.30844276594414705, loss: 0.003355459889919491\n",
      "epoch: 2750, w: [0.80134448 0.77050768], b: -0.3084129687128142, loss: 0.007436990971069467\n",
      "epoch: 2760, w: [0.801218   0.77039195], b: -0.3083764734684523, loss: 0.001618571920313445\n",
      "epoch: 2770, w: [0.80081999 0.77007314], b: -0.30823992060513755, loss: 0.008489309239261125\n",
      "epoch: 2780, w: [0.80055876 0.76990434], b: -0.3078085762908618, loss: 0.007376411116499024\n",
      "epoch: 2790, w: [0.80048377 0.76975771], b: -0.3080202455212292, loss: 0.0011567219152175548\n",
      "epoch: 2800, w: [0.80010681 0.7693176 ], b: -0.3082530438540009, loss: 0.0053529028365624795\n",
      "epoch: 2810, w: [0.79999752 0.7692472 ], b: -0.3077940899497235, loss: 0.007414658024231262\n",
      "epoch: 2820, w: [0.7997091  0.76900267], b: -0.30746842110857586, loss: 0.007375574853821309\n",
      "epoch: 2830, w: [0.79939447 0.76871675], b: -0.3075322459639063, loss: 0.010955149203070476\n",
      "epoch: 2840, w: [0.79901253 0.76828532], b: -0.30796991437491805, loss: 0.00022965503319374115\n",
      "epoch: 2850, w: [0.79895808 0.76828289], b: -0.3077489071666732, loss: 0.007471651468570769\n",
      "epoch: 2860, w: [0.79886472 0.76818135], b: -0.3077749949851044, loss: 0.0003453686369850352\n",
      "epoch: 2870, w: [0.79895431 0.76833421], b: -0.3069149828742194, loss: 0.009345749986325484\n",
      "epoch: 2880, w: [0.79871052 0.76808095], b: -0.30667697572647146, loss: 0.0009864891162265639\n",
      "epoch: 2890, w: [0.79838763 0.76772433], b: -0.3067173681142938, loss: 0.001209126831266305\n",
      "epoch: 2900, w: [0.79830406 0.76765624], b: -0.30668657691623774, loss: 0.010849619831894903\n",
      "epoch: 2910, w: [0.7980942  0.76742234], b: -0.30665574110526767, loss: 0.01264004952049503\n",
      "epoch: 2920, w: [0.79803616 0.76744766], b: -0.30577587848715354, loss: 0.0010140436102393474\n",
      "epoch: 2930, w: [0.79771444 0.76711105], b: -0.3060095266423251, loss: 0.010745689885943278\n",
      "epoch: 2940, w: [0.79760168 0.76697907], b: -0.30600166795869044, loss: 0.02102024918198971\n",
      "epoch: 2950, w: [0.79734346 0.76669721], b: -0.3061337665772446, loss: 0.005368124813504068\n",
      "epoch: 2960, w: [0.79722563 0.76657119], b: -0.30612716492738073, loss: 0.0002099144717482765\n",
      "epoch: 2970, w: [0.79716295 0.76653661], b: -0.30597684977303363, loss: 0.0032581430131984495\n",
      "epoch: 2980, w: [0.79712065 0.76655651], b: -0.30559689699487064, loss: 0.0020595575364347695\n",
      "epoch: 2990, w: [0.79719273 0.76665874], b: -0.3052183140084876, loss: 0.000238406548423854\n"
     ]
    }
   ],
   "source": [
    "w_sgd, b_sgd, cost_sgd, cost_list_sgd, epoch_list_sgd = sgd(X_scaled, y_scaled.reshape(y_scaled.shape[0],), 3000,)"
   ]
  },
  {
   "cell_type": "code",
   "execution_count": 14,
   "id": "d467b4cd",
   "metadata": {},
   "outputs": [
    {
     "data": {
      "text/plain": [
       "(array([0.79719188, 0.76662007]), -0.30522340672260595, 0.001185324600200688)"
      ]
     },
     "execution_count": 14,
     "metadata": {},
     "output_type": "execute_result"
    }
   ],
   "source": [
    "w_sgd, b_sgd, cost_sgd"
   ]
  },
  {
   "cell_type": "markdown",
   "id": "7b5748a6",
   "metadata": {},
   "source": [
    "#### sgd cost coversion"
   ]
  },
  {
   "cell_type": "code",
   "execution_count": 15,
   "id": "005d0f53",
   "metadata": {},
   "outputs": [
    {
     "data": {
      "text/plain": [
       "Text(0, 0.5, 'loss')"
      ]
     },
     "execution_count": 15,
     "metadata": {},
     "output_type": "execute_result"
    },
    {
     "data": {
      "image/png": "[encoded data removed]",
      "text/plain": [
       "<Figure size 432x288 with 1 Axes>"
      ]
     },
     "metadata": {
      "needs_background": "light"
     },
     "output_type": "display_data"
    }
   ],
   "source": [
    "plt.plot(epoch_list_sgd, cost_list_sgd,  alpha= 0.2)\n",
    "plt.title(\"sgd conversion\")\n",
    "plt.xlabel(\"epochs\")\n",
    "plt.ylabel(\"loss\")"
   ]
  },
  {
   "cell_type": "markdown",
   "id": "4a4fc171",
   "metadata": {},
   "source": [
    "# Mini- Batch Gradient Descent"
   ]
  },
  {
   "cell_type": "code",
   "execution_count": 41,
   "id": "656da7e9",
   "metadata": {
    "scrolled": true
   },
   "outputs": [
    {
     "name": "stdout",
     "output_type": "stream",
     "text": [
      "Epoch: 0, w: [0.98260675 0.97859399], b: -0.036850920102393214, loss: 0.16103246210952166\n",
      "Epoch: 10, w: [0.87686197 0.85097216], b: -0.23959365655262274, loss: 0.04782588439621938\n",
      "Epoch: 20, w: [0.83145849 0.80003806], b: -0.2958158686271772, loss: 0.005873608584218545\n",
      "Epoch: 30, w: [0.80646573 0.77442487], b: -0.3056246790146978, loss: 0.018588297011721454\n",
      "Epoch: 40, w: [0.78904066 0.75769731], b: -0.30079922285389665, loss: 0.018140577734744662\n",
      "Epoch: 50, w: [0.77481565 0.74428251], b: -0.29198172935337774, loss: 0.015200699220250616\n",
      "Epoch: 60, w: [0.76239988 0.73250869], b: -0.28221382950452445, loss: 0.011925189463676933\n",
      "Epoch: 70, w: [0.75138007 0.72186812], b: -0.27237346106202365, loss: 0.012933432705158229\n",
      "Epoch: 80, w: [0.74138346 0.71193109], b: -0.2631446904998051, loss: 0.023309658186502418\n",
      "Epoch: 90, w: [0.73223516 0.70252685], b: -0.25464495104171514, loss: 0.0032789254282497814\n",
      "Epoch: 100, w: [0.72393912 0.69370864], b: -0.24669981257401222, loss: 0.0134939870531854\n",
      "Epoch: 110, w: [0.7163581  0.68533716], b: -0.23943423894887028, loss: 0.013928829324629906\n",
      "Epoch: 120, w: [0.70944755 0.67738818], b: -0.23275676669846523, loss: 0.014084248758676709\n",
      "Epoch: 130, w: [0.70324228 0.66993405], b: -0.2264602971731797, loss: 0.0030950209585330754\n",
      "Epoch: 140, w: [0.69764758 0.6628992 ], b: -0.22058377604643037, loss: 0.002831499522992724\n",
      "Epoch: 150, w: [0.69258927 0.65621801], b: -0.21514738859591695, loss: 0.004530356350032426\n",
      "Epoch: 160, w: [0.68809354 0.64994403], b: -0.20996504360735338, loss: 0.003165044270667906\n",
      "Epoch: 170, w: [0.68402482 0.64393652], b: -0.2052598233463843, loss: 0.0030276920479759425\n",
      "Epoch: 180, w: [0.68041403 0.63826359], b: -0.2007832695515841, loss: 0.002722585920012572\n",
      "Epoch: 190, w: [0.67712601 0.6327617 ], b: -0.19680627914757987, loss: 0.0026744493067579964\n",
      "Epoch: 200, w: [0.67421247 0.62752633], b: -0.19308532613398552, loss: 0.004214243263910406\n",
      "Epoch: 210, w: [0.6716597  0.62254531], b: -0.18958708679762665, loss: 0.00371370617436194\n",
      "Epoch: 220, w: [0.6694163  0.61778098], b: -0.18630745531006948, loss: 0.004432531520468188\n",
      "Epoch: 230, w: [0.6675114  0.61327775], b: -0.18317344709340155, loss: 0.007845044550885864\n",
      "Epoch: 240, w: [0.66587838 0.608974  ], b: -0.18021122971671147, loss: 0.0023054926731720096\n",
      "Epoch: 250, w: [0.66440638 0.6047381 ], b: -0.1776550007757365, loss: 0.00787093531936486\n",
      "Epoch: 260, w: [0.6632654  0.60079924], b: -0.1750028932401626, loss: 0.0046310060489921\n",
      "Epoch: 270, w: [0.6622535  0.59691114], b: -0.17272604925929552, loss: 0.0019594144660777814\n",
      "Epoch: 280, w: [0.66152604 0.59327476], b: -0.17039439084563532, loss: 0.0026705154214909472\n",
      "Epoch: 290, w: [0.66088786 0.58966162], b: -0.1683836649845208, loss: 0.002585079271707559\n",
      "Epoch: 300, w: [0.66039487 0.58615015], b: -0.16654171134580367, loss: 0.0013592094690771544\n",
      "Epoch: 310, w: [0.66014058 0.58287815], b: -0.16455282720330114, loss: 0.005174051498616328\n",
      "Epoch: 320, w: [0.65996602 0.57962406], b: -0.1628544190623191, loss: 0.0008276041662598217\n",
      "Epoch: 330, w: [0.65992438 0.5764738 ], b: -0.16127927806344233, loss: 0.004506054119121708\n",
      "Epoch: 340, w: [0.66001316 0.57343433], b: -0.159741686164767, loss: 0.008683342947390201\n",
      "Epoch: 350, w: [0.66018564 0.57046304], b: -0.15829868815191897, loss: 0.005628875149344815\n",
      "Epoch: 360, w: [0.66048566 0.56760685], b: -0.15687578772234873, loss: 0.0068140095316988475\n",
      "Epoch: 370, w: [0.660857   0.56479226], b: -0.15559814042390138, loss: 0.006234389919370936\n",
      "Epoch: 380, w: [0.66132751 0.56207039], b: -0.1543640216043312, loss: 0.0041939737551619375\n",
      "Epoch: 390, w: [0.66185304 0.55938571], b: -0.15325453232031305, loss: 0.004164501892313899\n",
      "Epoch: 400, w: [0.66245011 0.55676785], b: -0.15217179522268465, loss: 0.0034418672187779267\n",
      "Epoch: 410, w: [0.66316812 0.55427341], b: -0.15104571811907852, loss: 0.00225974946099497\n",
      "Epoch: 420, w: [0.66391764 0.55181298], b: -0.1499717350423707, loss: 0.0015011590642929648\n",
      "Epoch: 430, w: [0.66469106 0.54935652], b: -0.1490614197615561, loss: 0.006321989321556474\n",
      "Epoch: 440, w: [0.6654918  0.54692317], b: -0.14825118242793484, loss: 0.004404016231243859\n",
      "Epoch: 450, w: [0.66630369 0.54448489], b: -0.14755277952213403, loss: 0.005109566670400549\n",
      "Epoch: 460, w: [0.66727393 0.54224523], b: -0.14659586262941388, loss: 0.0081419264881465\n",
      "Epoch: 470, w: [0.66819466 0.53993653], b: -0.1458826898218551, loss: 0.0010270020035694116\n",
      "Epoch: 480, w: [0.66920501 0.5377353 ], b: -0.14508970431884224, loss: 0.0016299880960689572\n",
      "Epoch: 490, w: [0.67024842 0.53557586], b: -0.1443010387990152, loss: 0.0032413247737385076\n",
      "Epoch: 500, w: [0.67127474 0.53339723], b: -0.14362904684260702, loss: 0.0033446049860481873\n",
      "Epoch: 510, w: [0.67230705 0.53122619], b: -0.143036065913937, loss: 0.0038847046869731616\n",
      "Epoch: 520, w: [0.6734275  0.52916249], b: -0.1423301095825693, loss: 0.006884427285699145\n",
      "Epoch: 530, w: [0.67454649 0.52710864], b: -0.14167453982044967, loss: 0.004790403031455918\n",
      "Epoch: 540, w: [0.67572497 0.52513226], b: -0.14092291449009975, loss: 0.0022339881675448384\n",
      "Epoch: 550, w: [0.67686894 0.52311381], b: -0.14035480983203913, loss: 0.0038428437242619407\n",
      "Epoch: 560, w: [0.6779553  0.52102894], b: -0.1399608470503924, loss: 0.0024911320236096846\n",
      "Epoch: 570, w: [0.67907632 0.51899792], b: -0.1395359678382432, loss: 0.0034800459706602173\n",
      "Epoch: 580, w: [0.68034769 0.51716598], b: -0.13878353271289398, loss: 0.0043059922223110895\n",
      "Epoch: 590, w: [0.68148446 0.51516906], b: -0.1384103453287809, loss: 0.0021022395341229066\n",
      "Epoch: 600, w: [0.68268802 0.5132828 ], b: -0.1378605583386018, loss: 0.005029491233833694\n",
      "Epoch: 610, w: [0.68390974 0.51142242], b: -0.13733366603543284, loss: 0.00834127014059103\n",
      "Epoch: 620, w: [0.68514014 0.50958763], b: -0.1367851245063672, loss: 0.0029052821329206857\n",
      "Epoch: 630, w: [0.68634441 0.50772481], b: -0.13636019012702105, loss: 0.004261084099684793\n",
      "Epoch: 640, w: [0.68750224 0.50581096], b: -0.1360671810968557, loss: 0.002083829276122541\n",
      "Epoch: 650, w: [0.68875054 0.50403679], b: -0.13551865945131927, loss: 0.0038172391007215687\n",
      "Epoch: 660, w: [0.68996851 0.50223383], b: -0.13509203110930265, loss: 0.004234938430849176\n",
      "Epoch: 670, w: [0.69118485 0.50043901], b: -0.13469899902044385, loss: 0.004489686434133443\n",
      "Epoch: 680, w: [0.69244135 0.49869965], b: -0.13423238131569068, loss: 0.003924354055252971\n",
      "Epoch: 690, w: [0.69367393 0.49695113], b: -0.13382180269401123, loss: 0.006164650604585878\n",
      "Epoch: 700, w: [0.69488783 0.49519817], b: -0.13343467680610063, loss: 0.002313135450478368\n",
      "Epoch: 710, w: [0.69609608 0.49345357], b: -0.13307605240450854, loss: 0.0025995043582763763\n",
      "Epoch: 720, w: [0.69730303 0.49172108], b: -0.13272397054946136, loss: 0.0012644867716149627\n",
      "Epoch: 730, w: [0.69857346 0.49007693], b: -0.13225036903948614, loss: 0.0032951096028735957\n",
      "Epoch: 740, w: [0.69979676 0.48838899], b: -0.1318947989444297, loss: 0.005174169923551737\n",
      "Epoch: 750, w: [0.70103861 0.48675032], b: -0.1314664917710106, loss: 0.0038979857197707635\n",
      "Epoch: 760, w: [0.70223035 0.48506125], b: -0.1311539652508326, loss: 0.007021321714417175\n",
      "Epoch: 770, w: [0.70340471 0.48335395], b: -0.1309121961924004, loss: 0.006593144656950788\n",
      "Epoch: 780, w: [0.70466938 0.4817867 ], b: -0.13041534400130328, loss: 0.001303068517374111\n",
      "Epoch: 790, w: [0.7058257  0.48011093], b: -0.13012124087487845, loss: 0.004173187028480981\n",
      "Epoch: 800, w: [0.70699714 0.47845899], b: -0.129844049560343, loss: 0.001678433315643379\n",
      "Epoch: 810, w: [0.70823582 0.47690652], b: -0.12939381140546669, loss: 0.002710064911074879\n",
      "Epoch: 820, w: [0.70942726 0.47531404], b: -0.12905133104545446, loss: 0.005464773506236857\n",
      "Epoch: 830, w: [0.7106191  0.47373512], b: -0.12872577754370787, loss: 0.004462779034666993\n",
      "Epoch: 840, w: [0.71180458 0.47216796], b: -0.12839001097027258, loss: 0.0056581605260487\n",
      "Epoch: 850, w: [0.71298404 0.47060662], b: -0.1280683721309981, loss: 0.003414532269633109\n",
      "Epoch: 860, w: [0.71424687 0.46917392], b: -0.12750084417504234, loss: 0.006388599267959127\n",
      "Epoch: 870, w: [0.71532946 0.46752571], b: -0.12735997304493388, loss: 0.0023159450051728953\n",
      "Epoch: 880, w: [0.71648345 0.46597914], b: -0.12707145657351665, loss: 0.0030428564487427617\n",
      "Epoch: 890, w: [0.71768147 0.46450999], b: -0.12665196871805345, loss: 0.006591047529176902\n",
      "Epoch: 900, w: [0.71874314 0.4628754 ], b: -0.12659074648002877, loss: 0.0009740624610850252\n",
      "Epoch: 910, w: [0.71990144 0.46138701], b: -0.12626175905854836, loss: 0.0034158473868811335\n",
      "Epoch: 920, w: [0.72106903 0.45992677], b: -0.12588172313747545, loss: 0.004821924044101405\n",
      "Epoch: 930, w: [0.7222687  0.45851461], b: -0.12544945416730674, loss: 0.005806982532712097\n",
      "Epoch: 940, w: [0.72334344 0.45696759], b: -0.1252873977304598, loss: 0.0034769350834884674\n",
      "Epoch: 950, w: [0.72448091 0.45551464], b: -0.12497875746154907, loss: 0.006430883436888341\n",
      "Epoch: 960, w: [0.72563671 0.45409735], b: -0.12461886012330448, loss: 0.0034059989977774222\n",
      "Epoch: 970, w: [0.72677682 0.45267994], b: -0.12426440938721348, loss: 0.0015652794239006077\n",
      "Epoch: 980, w: [0.72787191 0.4512239 ], b: -0.12400226184190115, loss: 0.0032888245338560775\n",
      "Epoch: 990, w: [0.72895927 0.44977389], b: -0.12373997847252394, loss: 0.003947905625064963\n",
      "Epoch: 1000, w: [0.73004272 0.4483357 ], b: -0.12347554384042782, loss: 0.005566905031389825\n",
      "Epoch: 1010, w: [0.73117455 0.44697666], b: -0.12306953131803763, loss: 0.0031353472698334934\n",
      "Epoch: 1020, w: [0.73224777 0.44556503], b: -0.12277534257208228, loss: 0.002591036692483338\n",
      "Epoch: 1030, w: [0.7333075  0.44413609], b: -0.12257044422275894, loss: 0.0015609693033983483\n",
      "Epoch: 1040, w: [0.73441166 0.44278774], b: -0.12221465230639598, loss: 0.006434911144672081\n",
      "Epoch: 1050, w: [0.7354522  0.44137999], b: -0.12198903958012813, loss: 0.0027764592182079042\n",
      "Epoch: 1060, w: [0.73653813 0.44003099], b: -0.12166775178916499, loss: 0.00255041192493687\n",
      "Epoch: 1070, w: [0.7375379  0.43858275], b: -0.12157261524847514, loss: 0.00455757639552265\n",
      "Epoch: 1080, w: [0.73863461 0.43728006], b: -0.12120186138195208, loss: 0.005002106125105156\n",
      "Epoch: 1090, w: [0.7397073  0.43595818], b: -0.12088594605819834, loss: 0.0049130076229431\n",
      "Epoch: 1100, w: [0.74073989 0.43459869], b: -0.12065354512800043, loss: 0.006581876033473907\n",
      "Epoch: 1110, w: [0.74178788 0.43328283], b: -0.12035554145116573, loss: 0.005598880437928865\n",
      "Epoch: 1120, w: [0.74281763 0.43195456], b: -0.1201144680510931, loss: 0.006184290638886588\n",
      "Epoch: 1130, w: [0.74389887 0.4307071 ], b: -0.11970970087065926, loss: 0.002635463979282842\n",
      "Epoch: 1140, w: [0.744873  0.4293421], b: -0.11955789749921696, loss: 0.0043450077542669645\n",
      "Epoch: 1150, w: [0.74590895 0.42805498], b: -0.11928145274606294, loss: 0.0025887072062716304\n",
      "Epoch: 1160, w: [0.74694195 0.42679227], b: -0.11895885290157435, loss: 0.004979694977007102\n",
      "Epoch: 1170, w: [0.74793434 0.42548779], b: -0.11874366549295924, loss: 0.002597741114641118\n",
      "Epoch: 1180, w: [0.74891569 0.42419441], b: -0.11851219352814663, loss: 0.0031971430167342394\n",
      "Epoch: 1190, w: [0.74994499 0.42297345], b: -0.1181652603547946, loss: 0.005698027981294091\n"
     ]
    },
    {
     "data": {
      "text/plain": [
       "(array([0.75081252, 0.42180873]), -0.11799952750254722, 0.0018784815106460018)"
      ]
     },
     "execution_count": 41,
     "metadata": {},
     "output_type": "execute_result"
    }
   ],
   "source": [
    "def mini_batch_gradient_descent(X, y_true, epochs = 100, batch_size = 5, learning_rate = 0.01):\n",
    "    \n",
    "    number_of_features = X.shape[1]\n",
    "    # numpy array with 1 row and columns equal to number of features. In \n",
    "    # our case number_of_features = 3 (area, bedroom and age)\n",
    "    w = np.ones(shape=(number_of_features)) \n",
    "    b = 0\n",
    "    total_samples = X.shape[0] # number of rows in X\n",
    "    \n",
    "    if batch_size > total_samples: # In this case mini batch becomes same as batch gradient descent\n",
    "        batch_size = total_samples\n",
    "        \n",
    "    cost_list = []\n",
    "    epoch_list = []\n",
    "    \n",
    "    num_batches = int(total_samples/batch_size)\n",
    "    \n",
    "    for i in range(epochs):    \n",
    "        random_indices = np.random.permutation(total_samples)\n",
    "        X_tmp = X[random_indices]\n",
    "        y_tmp = y_true[random_indices]\n",
    "        \n",
    "        for j in range(0,total_samples,batch_size):\n",
    "            Xj = X_tmp[j:j+batch_size]\n",
    "            yj = y_tmp[j:j+batch_size]\n",
    "            y_predicted = np.dot(w, Xj.T) + b\n",
    "            \n",
    "            w_grad = -(2/len(Xj))*(Xj.T.dot(yj-y_predicted))\n",
    "            b_grad = -(2/len(Xj))*np.sum(yj-y_predicted)\n",
    "            \n",
    "            w = w - learning_rate * w_grad\n",
    "            b = b - learning_rate * b_grad\n",
    "                \n",
    "            cost = np.mean(np.square(yj-y_predicted)) # MSE (Mean Squared Error)\n",
    "        \n",
    "        if i%10==0:\n",
    "            cost_list.append(cost)\n",
    "            epoch_list.append(i)\n",
    "            print(f\"Epoch: {i}, w: {w}, b: {b}, loss: {cost}\")\n",
    "        \n",
    "    return w, b, cost, cost_list, epoch_list\n",
    "\n",
    "w, b, cost, cost_list, epoch_list = mini_batch_gradient_descent(\n",
    "    X_scaled,\n",
    "    y_scaled.reshape(y_scaled.shape[0],),\n",
    "    epochs = 120,\n",
    "    batch_size = 5\n",
    ")\n",
    "w, b, cost"
   ]
  },
  {
   "cell_type": "markdown",
   "id": "b5e06f4f",
   "metadata": {},
   "source": [
    "#####  mini-batch gradiet descent converge"
   ]
  },
  {
   "cell_type": "code",
   "execution_count": 42,
   "id": "e02855dc",
   "metadata": {
    "scrolled": false
   },
   "outputs": [
    {
     "data": {
      "text/plain": [
       "Text(0.5, 1.0, 'Mini-Batch Gradient Descent')"
      ]
     },
     "execution_count": 42,
     "metadata": {},
     "output_type": "execute_result"
    },
    {
     "data": {
      "image/png": "[encoded data removed]",
      "text/plain": [
       "<Figure size 432x288 with 1 Axes>"
      ]
     },
     "metadata": {
      "needs_background": "light"
     },
     "output_type": "display_data"
    }
   ],
   "source": [
    "plt.plot(epoch_list, cost_list)\n",
    "plt.xlabel(\"epochs\")\n",
    "plt.ylabel(\"loss\")\n",
    "plt.title(\"Mini-Batch Gradient Descent\")"
   ]
  },
  {
   "cell_type": "code",
   "execution_count": 47,
   "id": "0d683b76",
   "metadata": {},
   "outputs": [
    {
     "data": {
      "text/plain": [
       "32"
      ]
     },
     "execution_count": 47,
     "metadata": {},
     "output_type": "execute_result"
    }
   ],
   "source": [
    "np.argmin(cost_list)"
   ]
  },
  {
   "cell_type": "code",
   "execution_count": 56,
   "id": "53f1d995",
   "metadata": {},
   "outputs": [
    {
     "data": {
      "text/plain": [
       "320"
      ]
     },
     "execution_count": 56,
     "metadata": {},
     "output_type": "execute_result"
    }
   ],
   "source": [
    "epoch_list[np.argmin(cost_list)]  \n",
    "# -->  Epoch: 320, w: [0.65996602 0.57962406], b: -0.1628544190623191, loss: 0.0008276041662598217"
   ]
  },
  {
   "cell_type": "code",
   "execution_count": 57,
   "id": "2bc77b1d",
   "metadata": {},
   "outputs": [
    {
     "data": {
      "text/plain": [
       "0.0008276041662598217"
      ]
     },
     "execution_count": 57,
     "metadata": {},
     "output_type": "execute_result"
    }
   ],
   "source": [
    "min(cost_list)"
   ]
  },
  {
   "cell_type": "markdown",
   "id": "f62e70e5",
   "metadata": {},
   "source": [
    "#####  Sample in mini batch full scale "
   ]
  },
  {
   "cell_type": "code",
   "execution_count": 52,
   "id": "f56b1823",
   "metadata": {},
   "outputs": [
    {
     "data": {
      "text/plain": [
       "array([ 5,  7,  1, 19,  0,  4, 16, 18, 14,  8,  3, 17,  6,  9, 12,  2, 10,\n",
       "       13, 11, 15])"
      ]
     },
     "execution_count": 52,
     "metadata": {},
     "output_type": "execute_result"
    }
   ],
   "source": [
    "from numpy.random import permutation\n",
    "id = permutation(len(X_scaled))\n",
    "id\n"
   ]
  },
  {
   "cell_type": "code",
   "execution_count": 53,
   "id": "b0eaab7e",
   "metadata": {},
   "outputs": [
    {
     "data": {
      "text/plain": [
       "array([[0.12758621, 0.25      ],\n",
       "       [0.86206897, 0.75      ],\n",
       "       [0.62068966, 0.75      ],\n",
       "       [0.        , 0.        ],\n",
       "       [0.08827586, 0.25      ],\n",
       "       [0.13793103, 0.25      ],\n",
       "       [0.13103448, 0.5       ],\n",
       "       [0.67931034, 0.5       ],\n",
       "       [0.5       , 0.5       ],\n",
       "       [0.17586207, 0.5       ],\n",
       "       [0.24862069, 0.5       ],\n",
       "       [0.25517241, 0.5       ],\n",
       "       [0.6662069 , 0.75      ],\n",
       "       [1.        , 1.        ],\n",
       "       [0.06896552, 0.25      ],\n",
       "       [0.22068966, 0.5       ],\n",
       "       [0.34482759, 0.5       ],\n",
       "       [0.10344828, 0.25      ],\n",
       "       [0.68448276, 0.75      ],\n",
       "       [0.12931034, 0.25      ]])"
      ]
     },
     "execution_count": 53,
     "metadata": {},
     "output_type": "execute_result"
    }
   ],
   "source": [
    "X_scaled[id]"
   ]
  },
  {
   "cell_type": "code",
   "execution_count": 54,
   "id": "4cc704d6",
   "metadata": {},
   "outputs": [
    {
     "data": {
      "text/plain": [
       "array([[0.04444444],\n",
       "       [0.91111111],\n",
       "       [0.65185185],\n",
       "       [0.        ],\n",
       "       [0.05237037],\n",
       "       [0.14074074],\n",
       "       [0.11851852],\n",
       "       [0.51851852],\n",
       "       [0.51111111],\n",
       "       [0.13333333],\n",
       "       [0.31851852],\n",
       "       [0.20740741],\n",
       "       [0.76296296],\n",
       "       [1.        ],\n",
       "       [0.04444444],\n",
       "       [0.22222222],\n",
       "       [0.37037037],\n",
       "       [0.05925926],\n",
       "       [0.8       ],\n",
       "       [0.07407407]])"
      ]
     },
     "execution_count": 54,
     "metadata": {},
     "output_type": "execute_result"
    }
   ],
   "source": [
    "y_scaled[id]"
   ]
  },
  {
   "cell_type": "code",
   "execution_count": 77,
   "id": "3badae9a",
   "metadata": {},
   "outputs": [],
   "source": [
    "# let we want to feed 5 data at ones\n",
    "\n",
    "total_sample = X_scaled.shape[0]\n",
    "batch_size = 5\n",
    "new_batches = int(total_sample/batch_size)"
   ]
  },
  {
   "cell_type": "code",
   "execution_count": 76,
   "id": "cd73adc2",
   "metadata": {
    "scrolled": true
   },
   "outputs": [
    {
     "name": "stdout",
     "output_type": "stream",
     "text": [
      "0 6\n",
      "[[0.08827586 0.25      ]\n",
      " [0.62068966 0.75      ]\n",
      " [0.22068966 0.5       ]\n",
      " [0.24862069 0.5       ]\n",
      " [0.13793103 0.25      ]\n",
      " [0.12758621 0.25      ]]\n",
      "[[0.05237037]\n",
      " [0.65185185]\n",
      " [0.22222222]\n",
      " [0.31851852]\n",
      " [0.14074074]\n",
      " [0.04444444]]\n",
      "\n",
      "\n",
      "\n",
      "6 12\n",
      "[[0.6662069  0.75      ]\n",
      " [0.86206897 0.75      ]\n",
      " [0.17586207 0.5       ]\n",
      " [1.         1.        ]\n",
      " [0.34482759 0.5       ]\n",
      " [0.68448276 0.75      ]]\n",
      "[[0.76296296]\n",
      " [0.91111111]\n",
      " [0.13333333]\n",
      " [1.        ]\n",
      " [0.37037037]\n",
      " [0.8       ]]\n",
      "\n",
      "\n",
      "\n",
      "12 18\n",
      "[[0.06896552 0.25      ]\n",
      " [0.10344828 0.25      ]\n",
      " [0.5        0.5       ]\n",
      " [0.12931034 0.25      ]\n",
      " [0.13103448 0.5       ]\n",
      " [0.25517241 0.5       ]]\n",
      "[[0.04444444]\n",
      " [0.05925926]\n",
      " [0.51111111]\n",
      " [0.07407407]\n",
      " [0.11851852]\n",
      " [0.20740741]]\n",
      "\n",
      "\n",
      "\n",
      "18 24\n",
      "[[0.67931034 0.5       ]\n",
      " [0.         0.        ]]\n",
      "[[0.51851852]\n",
      " [0.        ]]\n",
      "\n",
      "\n",
      "\n"
     ]
    }
   ],
   "source": [
    "for j in range(0,total_sample,batch_size):\n",
    "    print(j, j+batch_size)\n",
    "    X_batch = X_scaled[j: j+batch_size]\n",
    "    y_batch = y_scaled[j: j+batch_size]\n",
    "    print(X_batch,)\n",
    "    print(y_batch, end=\"\\n\\n\\n\\n\")"
   ]
  },
  {
   "cell_type": "code",
   "execution_count": 73,
   "id": "7f102753",
   "metadata": {},
   "outputs": [
    {
     "data": {
      "text/plain": [
       "20"
      ]
     },
     "execution_count": 73,
     "metadata": {},
     "output_type": "execute_result"
    }
   ],
   "source": [
    "total_sample"
   ]
  },
  {
   "cell_type": "code",
   "execution_count": 78,
   "id": "c8b9e270",
   "metadata": {},
   "outputs": [
    {
     "data": {
      "text/plain": [
       "20"
      ]
     },
     "execution_count": 78,
     "metadata": {},
     "output_type": "execute_result"
    }
   ],
   "source": [
    "len(X_scaled)"
   ]
  },
  {
   "cell_type": "code",
   "execution_count": 79,
   "id": "a4a66c09",
   "metadata": {},
   "outputs": [
    {
     "data": {
      "text/plain": [
       "2"
      ]
     },
     "execution_count": 79,
     "metadata": {},
     "output_type": "execute_result"
    }
   ],
   "source": [
    "len(X_batch)"
   ]
  },
  {
   "cell_type": "code",
   "execution_count": null,
   "id": "d93b4db9",
   "metadata": {},
   "outputs": [],
   "source": []
  }
 ],
 "metadata": {
  "kernelspec": {
   "display_name": "Python 3",
   "language": "python",
   "name": "python3"
  },
  "language_info": {
   "codemirror_mode": {
    "name": "ipython",
    "version": 3
   },
   "file_extension": ".py",
   "mimetype": "text/x-python",
   "name": "python",
   "nbconvert_exporter": "python",
   "pygments_lexer": "ipython3",
   "version": "3.6.13"
  }
 },
 "nbformat": 4,
 "nbformat_minor": 5
}
