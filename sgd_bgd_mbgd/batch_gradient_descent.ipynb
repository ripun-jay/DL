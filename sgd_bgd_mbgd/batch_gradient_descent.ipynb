{
 "cells": [
  {
   "cell_type": "markdown",
   "id": "0870d3b6",
   "metadata": {},
   "source": [
    "#### import required packages"
   ]
  },
  {
   "cell_type": "code",
   "execution_count": 1,
   "id": "db33c3c2",
   "metadata": {},
   "outputs": [],
   "source": [
    "import numpy as np\n",
    "import pandas as pd"
   ]
  },
  {
   "cell_type": "code",
   "execution_count": 2,
   "id": "22dab5f6",
   "metadata": {},
   "outputs": [],
   "source": [
    "from sklearn.preprocessing import MinMaxScaler"
   ]
  },
  {
   "cell_type": "markdown",
   "id": "c42489a4",
   "metadata": {},
   "source": [
    "#### Loading Data"
   ]
  },
  {
   "cell_type": "code",
   "execution_count": 3,
   "id": "f9e43f23",
   "metadata": {},
   "outputs": [
    {
     "data": {
      "text/html": [
       "<div>\n",
       "<style scoped>\n",
       "    .dataframe tbody tr th:only-of-type {\n",
       "        vertical-align: middle;\n",
       "    }\n",
       "\n",
       "    .dataframe tbody tr th {\n",
       "        vertical-align: top;\n",
       "    }\n",
       "\n",
       "    .dataframe thead th {\n",
       "        text-align: right;\n",
       "    }\n",
       "</style>\n",
       "<table border=\"1\" class=\"dataframe\">\n",
       "  <thead>\n",
       "    <tr style=\"text-align: right;\">\n",
       "      <th></th>\n",
       "      <th>area</th>\n",
       "      <th>bedrooms</th>\n",
       "      <th>price</th>\n",
       "    </tr>\n",
       "  </thead>\n",
       "  <tbody>\n",
       "    <tr>\n",
       "      <th>0</th>\n",
       "      <td>1056</td>\n",
       "      <td>2</td>\n",
       "      <td>39.07</td>\n",
       "    </tr>\n",
       "    <tr>\n",
       "      <th>1</th>\n",
       "      <td>2600</td>\n",
       "      <td>4</td>\n",
       "      <td>120.00</td>\n",
       "    </tr>\n",
       "    <tr>\n",
       "      <th>2</th>\n",
       "      <td>1440</td>\n",
       "      <td>3</td>\n",
       "      <td>62.00</td>\n",
       "    </tr>\n",
       "    <tr>\n",
       "      <th>3</th>\n",
       "      <td>1521</td>\n",
       "      <td>3</td>\n",
       "      <td>75.00</td>\n",
       "    </tr>\n",
       "    <tr>\n",
       "      <th>4</th>\n",
       "      <td>1200</td>\n",
       "      <td>2</td>\n",
       "      <td>51.00</td>\n",
       "    </tr>\n",
       "  </tbody>\n",
       "</table>\n",
       "</div>"
      ],
      "text/plain": [
       "   area  bedrooms   price\n",
       "0  1056         2   39.07\n",
       "1  2600         4  120.00\n",
       "2  1440         3   62.00\n",
       "3  1521         3   75.00\n",
       "4  1200         2   51.00"
      ]
     },
     "execution_count": 3,
     "metadata": {},
     "output_type": "execute_result"
    }
   ],
   "source": [
    "df = pd.read_csv(\"files/homeprices_banglore.csv\")\n",
    "df.head()"
   ]
  },
  {
   "cell_type": "markdown",
   "id": "050f2d28",
   "metadata": {},
   "source": [
    "###### scaler transformer defination"
   ]
  },
  {
   "cell_type": "code",
   "execution_count": 4,
   "id": "9b4765b2",
   "metadata": {},
   "outputs": [],
   "source": [
    "sx = MinMaxScaler()\n",
    "sy = MinMaxScaler()"
   ]
  },
  {
   "cell_type": "markdown",
   "id": "f797ffa1",
   "metadata": {},
   "source": [
    "#### Scaling Data"
   ]
  },
  {
   "cell_type": "code",
   "execution_count": 5,
   "id": "e892dbe3",
   "metadata": {},
   "outputs": [],
   "source": [
    "X_scaled = sx.fit_transform(df.drop(\"price\", axis= 'columns'))\n",
    "y_scaled = sy.fit_transform(df[\"price\"].values.reshape(df.shape[0],1))"
   ]
  },
  {
   "cell_type": "code",
   "execution_count": 6,
   "id": "1a353f36",
   "metadata": {},
   "outputs": [
    {
     "data": {
      "text/plain": [
       "array([[0.08827586, 0.25      ],\n",
       "       [0.62068966, 0.75      ],\n",
       "       [0.22068966, 0.5       ],\n",
       "       [0.24862069, 0.5       ],\n",
       "       [0.13793103, 0.25      ],\n",
       "       [0.12758621, 0.25      ],\n",
       "       [0.6662069 , 0.75      ],\n",
       "       [0.86206897, 0.75      ],\n",
       "       [0.17586207, 0.5       ],\n",
       "       [1.        , 1.        ],\n",
       "       [0.34482759, 0.5       ],\n",
       "       [0.68448276, 0.75      ],\n",
       "       [0.06896552, 0.25      ],\n",
       "       [0.10344828, 0.25      ],\n",
       "       [0.5       , 0.5       ],\n",
       "       [0.12931034, 0.25      ],\n",
       "       [0.13103448, 0.5       ],\n",
       "       [0.25517241, 0.5       ],\n",
       "       [0.67931034, 0.5       ],\n",
       "       [0.        , 0.        ]])"
      ]
     },
     "execution_count": 6,
     "metadata": {},
     "output_type": "execute_result"
    }
   ],
   "source": [
    "X_scaled"
   ]
  },
  {
   "cell_type": "code",
   "execution_count": 7,
   "id": "8480a34e",
   "metadata": {},
   "outputs": [
    {
     "data": {
      "text/plain": [
       "array([[0.05237037],\n",
       "       [0.65185185],\n",
       "       [0.22222222],\n",
       "       [0.31851852],\n",
       "       [0.14074074],\n",
       "       [0.04444444],\n",
       "       [0.76296296],\n",
       "       [0.91111111],\n",
       "       [0.13333333],\n",
       "       [1.        ],\n",
       "       [0.37037037],\n",
       "       [0.8       ],\n",
       "       [0.04444444],\n",
       "       [0.05925926],\n",
       "       [0.51111111],\n",
       "       [0.07407407],\n",
       "       [0.11851852],\n",
       "       [0.20740741],\n",
       "       [0.51851852],\n",
       "       [0.        ]])"
      ]
     },
     "execution_count": 7,
     "metadata": {},
     "output_type": "execute_result"
    }
   ],
   "source": [
    "y_scaled"
   ]
  },
  {
   "cell_type": "markdown",
   "id": "04959b5d",
   "metadata": {},
   "source": [
    "### Implemating general purpose Batch Gradient Descent"
   ]
  },
  {
   "cell_type": "code",
   "execution_count": 8,
   "id": "64bcc149",
   "metadata": {},
   "outputs": [],
   "source": [
    "def bgd(X, y_true, epochs, learning_rate= 0.01):\n",
    "    number_of_feature = X.shape[1]  #no. of columns\n",
    "    w = np.ones(shape= (number_of_feature,))   # ndim = 1D--> rows\n",
    "    b = 0\n",
    "    total_sample = X.shape[0]\n",
    "\n",
    "    # compute derivative and update the weights and bias\n",
    "    # prediction based on current weights and dimention\n",
    "    cost_list = []\n",
    "    epoch_list = []\n",
    "    \n",
    "    for i in range(epochs):\n",
    "        \n",
    "        y_predicted = np.dot(w, X.T) + b  #bcz w = 1d(1,n) and X= 2d(m,n) n= no. of feature , m = no. of sample\n",
    "                                        # y_predicted shape = (1,m) and y_true= (m,1)\n",
    "        \n",
    "        \n",
    "    \n",
    "        wd = -(2/total_sample)*(X.T.dot(y_true - y_predicted))\n",
    "        bd = -(2/total_sample)*np.sum(y_true - y_predicted)\n",
    "        \n",
    "        w = w - learning_rate * wd\n",
    "        b = b - learning_rate * bd\n",
    "        \n",
    "        y_predicted = np.dot(w, X.T) + b\n",
    "        cost = np.mean(np.square(y_true - y_predicted))\n",
    "        \n",
    "        if i%10 == 0:\n",
    "            cost_list.append(cost)\n",
    "            epoch_list.append(i)\n",
    "            print(f\"epoch: {i}, w: {w}, b: {b}, loss: {cost}\")\n",
    "            \n",
    "    return w, b, cost, cost_list, epoch_list\n",
    "        \n",
    "        \n",
    "    \n",
    "    "
   ]
  },
  {
   "cell_type": "code",
   "execution_count": 9,
   "id": "d7bcbc13",
   "metadata": {},
   "outputs": [
    {
     "name": "stdout",
     "output_type": "stream",
     "text": [
      "epoch: 0, w: [0.99551317 0.99445655], b: -0.009603223499361428, loss: 0.26276673457254596\n",
      "epoch: 10, w: [0.95630831 0.94626642], b: -0.09163530752945695, loss: 0.15766501024727825\n",
      "epoch: 20, w: [0.92561534 0.90895369], b: -0.1526797697123304, loss: 0.09750510556972952\n",
      "epoch: 30, w: [0.9013738  0.87987065], b: -0.19789162051248474, loss: 0.0629845575622148\n",
      "epoch: 40, w: [0.88202714 0.8570175 ], b: -0.23116355287977375, loss: 0.04309454988915444\n",
      "epoch: 50, w: [0.86639945 0.8388837 ], b: -0.2554349736249456, loss: 0.03155627438599145\n",
      "epoch: 60, w: [0.85360224 0.82432823], b: -0.27292538144121864, loss: 0.02478853208737036\n",
      "epoch: 70, w: [0.8429641  0.81248913], b: -0.2853106120900698, loss: 0.020748623996523288\n",
      "epoch: 80, w: [0.83397757 0.80271516], b: -0.2938559373058315, loss: 0.01827129260602433\n",
      "epoch: 90, w: [0.826259   0.79451428], b: -0.2995165799588363, loss: 0.016691709532086003\n",
      "epoch: 100, w: [0.81951826 0.78751463], b: -0.30301362222683875, loss: 0.015630459085441334\n",
      "epoch: 110, w: [0.81353584 0.78143512], b: -0.3048913307554715, loss: 0.014870910662342376\n",
      "epoch: 120, w: [0.80814559 0.77606324], b: -0.30556044807220106, loss: 0.014289281932991772\n",
      "epoch: 130, w: [0.80322164 0.77123825], b: -0.30533088582370616, loss: 0.013814752426520225\n",
      "epoch: 140, w: [0.79866856 0.76683852], b: -0.3044364143529435, loss: 0.013406715338886484\n",
      "epoch: 150, w: [0.79441393 0.76277198], b: -0.3030533079748378, loss: 0.013041803549542546\n",
      "epoch: 160, w: [0.79040267 0.75896884], b: -0.30131442564353544, loss: 0.0127064900344388\n",
      "epoch: 170, w: [0.78659287 0.75537619], b: -0.2993198444640547, loss: 0.012392867456466413\n",
      "epoch: 180, w: [0.78295249 0.75195384], b: -0.29714488994018035, loss: 0.012096240902232668\n",
      "epoch: 190, w: [0.77945703 0.74867123], b: -0.2948462002592805, loss: 0.011813754695903993\n",
      "epoch: 200, w: [0.77608763 0.74550508], b: -0.29246630589863587, loss: 0.011543608974344921\n",
      "epoch: 210, w: [0.77282973 0.74243756], b: -0.29003708801571365, loss: 0.01128461262292548\n",
      "epoch: 220, w: [0.76967201 0.73945505], b: -0.28758239010641606, loss: 0.011035928053264832\n",
      "epoch: 230, w: [0.76660562 0.73654702], b: -0.28511999021952317, loss: 0.010796925401235127\n",
      "epoch: 240, w: [0.76362356 0.73370536], b: -0.28266309026978376, loss: 0.010567099138481847\n",
      "epoch: 250, w: [0.76072023 0.73092372], b: -0.28022144066929244, loss: 0.01034602028841897\n",
      "epoch: 260, w: [0.75789113 0.72819713], b: -0.27780218955569225, loss: 0.010133308956735382\n",
      "epoch: 270, w: [0.75513254 0.72552166], b: -0.2754105240396432, loss: 0.009928618455971719\n",
      "epoch: 280, w: [0.7524414  0.72289414], b: -0.2730501543884423, loss: 0.00973162605044101\n",
      "epoch: 290, w: [0.74981509 0.72031201], b: -0.2707236795978057, loss: 0.009542027484588527\n",
      "epoch: 300, w: [0.74725137 0.71777316], b: -0.2684328633904501, loss: 0.009359533676560769\n",
      "epoch: 310, w: [0.74474829 0.71527582], b: -0.2661788425712016, loss: 0.009183868653794528\n",
      "epoch: 320, w: [0.7423041 0.7128185], b: -0.2639622842997645, loss: 0.00901476820384037\n",
      "epoch: 330, w: [0.73991723 0.7103999 ], b: -0.26178350478796375, loss: 0.008851978939720862\n",
      "epoch: 340, w: [0.73758623 0.70801887], b: -0.259642558866484, loss: 0.00869525760807425\n",
      "epoch: 350, w: [0.73530976 0.70567439], b: -0.25753930755388427, loss: 0.008544370541886778\n",
      "epoch: 360, w: [0.73308658 0.70336553], b: -0.25547346901448403, loss: 0.008399093201574165\n",
      "epoch: 370, w: [0.7309155  0.70109145], b: -0.2534446569730072, loss: 0.008259209772111023\n",
      "epoch: 380, w: [0.72879539 0.69885134], b: -0.25145240965799764, loss: 0.00812451279756812\n",
      "epoch: 390, w: [0.72672516 0.69664447], b: -0.249496211593939, loss: 0.007994802842216568\n",
      "epoch: 400, w: [0.72470378 0.69447013], b: -0.24757550999405023, loss: 0.007869888171814783\n",
      "epoch: 410, w: [0.72273024 0.69232764], b: -0.24568972707680764, loss: 0.0077495844512429374\n",
      "epoch: 420, w: [0.72080356 0.69021635], b: -0.24383826930532643, loss: 0.007633714456111193\n",
      "epoch: 430, w: [0.7189228  0.68813565], b: -0.24202053430411505, loss: 0.007522107796808582\n",
      "epoch: 440, w: [0.71708702 0.68608491], b: -0.24023591602298297, loss: 0.007414600653945738\n",
      "epoch: 450, w: [0.71529533 0.68406357], b: -0.23848380857837115, loss: 0.00731103552442874\n",
      "epoch: 460, w: [0.71354684 0.68207104], b: -0.2367636090970201, loss: 0.0072112609775696656\n",
      "epoch: 470, w: [0.7118407  0.68010678], b: -0.23507471980732544, loss: 0.007115131420741586\n",
      "epoch: 480, w: [0.71017606 0.67817023], b: -0.23341654956364702, loss: 0.007022506874150053\n",
      "epoch: 490, w: [0.7085521  0.67626087], b: -0.23178851494346042, loss: 0.006933252754335208\n",
      "epoch: 500, w: [0.706968   0.67437818], b: -0.2301900410229738, loss: 0.00684723966604839\n",
      "epoch: 510, w: [0.70542299 0.67252165], b: -0.22862056191095523, loss: 0.006764343202169165\n",
      "epoch: 520, w: [0.70391628 0.67069079], b: -0.2270795211009728, loss: 0.0066844437513464165\n",
      "epoch: 530, w: [0.70244711 0.6688851 ], b: -0.22556637168749305, loss: 0.0066074263130619145\n",
      "epoch: 540, w: [0.70101475 0.66710411], b: -0.2240805764801373, loss: 0.006533180319828189\n",
      "epoch: 550, w: [0.69961846 0.66534736], b: -0.2226216080419813, loss: 0.006461599466244329\n",
      "epoch: 560, w: [0.69825752 0.66361438], b: -0.22118894867142677, loss: 0.006392581544644674\n",
      "epoch: 570, w: [0.69693124 0.66190473], b: -0.21978209034237497, loss: 0.006326028287085642\n",
      "epoch: 580, w: [0.69563894 0.66021796], b: -0.21840053461380904, loss: 0.00626184521342627\n",
      "epoch: 590, w: [0.69437992 0.65855365], b: -0.217043792517154, loss: 0.006199941485267054\n",
      "epoch: 600, w: [0.69315355 0.65691138], b: -0.2157113844277194, loss: 0.006140229765521482\n",
      "epoch: 610, w: [0.69195916 0.65529072], b: -0.21440283992496717, loss: 0.006082626083402694\n",
      "epoch: 620, w: [0.69079613 0.65369128], b: -0.2131176976451711, loss: 0.006027049704616554\n",
      "epoch: 630, w: [0.68966383 0.65211265], b: -0.21185550512914472, loss: 0.005973423006560443\n",
      "epoch: 640, w: [0.68856166 0.65055445], b: -0.2106158186670433, loss: 0.005921671358334497\n",
      "epoch: 650, w: [0.68748901 0.64901629], b: -0.2093982031417386, loss: 0.00587172300538\n",
      "epoch: 660, w: [0.68644529 0.64749779], b: -0.20820223187188386, loss: 0.00582350895856623\n",
      "epoch: 670, w: [0.68542994 0.64599859], b: -0.20702748645549693, loss: 0.005776962887554393\n",
      "epoch: 680, w: [0.68444239 0.64451833], b: -0.20587355661467313, loss: 0.005732021018273631\n",
      "epoch: 690, w: [0.68348209 0.64305664], b: -0.20474004004187457, loss: 0.005688622034350584\n",
      "epoch: 700, w: [0.68254848 0.6416132 ], b: -0.2036265422481193, loss: 0.005646706982339937\n",
      "epoch: 710, w: [0.68164106 0.64018764], b: -0.20253267641330144, loss: 0.005606219180609582\n",
      "epoch: 720, w: [0.68075928 0.63877965], b: -0.20145806323880233, loss: 0.005567104131739225\n",
      "epoch: 730, w: [0.67990265 0.63738889], b: -0.20040233080250036, loss: 0.005529309438297135\n",
      "epoch: 740, w: [0.67907065 0.63601505], b: -0.19936511441624913, loss: 0.005492784721864703\n",
      "epoch: 750, w: [0.67826281 0.6346578 ], b: -0.19834605648586157, loss: 0.005457481545183521\n",
      "epoch: 760, w: [0.67747863 0.63331684], b: -0.1973448063736176, loss: 0.0054233533373046665\n",
      "epoch: 770, w: [0.67671765 0.63199187], b: -0.19636102026329635, loss: 0.005390355321624357\n",
      "epoch: 780, w: [0.6759794  0.63068258], b: -0.19539436102771973, loss: 0.0053584444466946695\n",
      "epoch: 790, w: [0.67526343 0.6293887 ], b: -0.19444449809878836, loss: 0.005327579319702326\n",
      "epoch: 800, w: [0.67456929 0.62810992], b: -0.19351110733998206, loss: 0.005297720142512713\n",
      "epoch: 810, w: [0.67389655 0.62684598], b: -0.19259387092129232, loss: 0.005268828650180083\n",
      "epoch: 820, w: [0.67324478 0.6255966 ], b: -0.19169247719655327, loss: 0.005240868051828979\n",
      "epoch: 830, w: [0.67261356 0.62436151], b: -0.19080662058313194, loss: 0.005213802973815358\n",
      "epoch: 840, w: [0.67200247 0.62314045], b: -0.18993600144393993, loss: 0.0051875994050795075\n",
      "epoch: 850, w: [0.67141113 0.62193315], b: -0.18908032597172594, loss: 0.0051622246446062945\n",
      "epoch: 860, w: [0.67083912 0.62073936], b: -0.18823930607560932, loss: 0.005137647250911413\n",
      "epoch: 870, w: [0.67028606 0.61955884], b: -0.18741265926981318, loss: 0.005113836993475532\n",
      "epoch: 880, w: [0.66975157 0.61839134], b: -0.18660010856455725, loss: 0.005090764806051251\n",
      "epoch: 890, w: [0.66923529 0.61723662], b: -0.18580138235906976, loss: 0.005068402741770608\n",
      "epoch: 900, w: [0.66873683 0.61609445], b: -0.18501621433667848, loss: 0.005046723929983711\n",
      "epoch: 910, w: [0.66825585 0.61496459], b: -0.18424434336194134, loss: 0.0050257025347617956\n",
      "epoch: 920, w: [0.667792   0.61384683], b: -0.18348551337977773, loss: 0.005005313715000405\n",
      "epoch: 930, w: [0.66734492 0.61274093], b: -0.18273947331656204, loss: 0.004985533586061128\n",
      "epoch: 940, w: [0.66691429 0.61164669], b: -0.1820059769831415, loss: 0.004966339182892456\n",
      "epoch: 950, w: [0.66649976 0.61056389], b: -0.18128478297974174, loss: 0.004947708424572793\n",
      "epoch: 960, w: [0.66610102 0.60949231], b: -0.18057565460272287, loss: 0.004929620080220731\n",
      "epoch: 970, w: [0.66571775 0.60843177], b: -0.17987835975315036, loss: 0.004912053736219871\n",
      "epoch: 980, w: [0.66534963 0.60738205], b: -0.17919267084714594, loss: 0.004894989764707536\n",
      "epoch: 990, w: [0.66499636 0.60634296], b: -0.17851836472798374, loss: 0.004878409293278608\n"
     ]
    }
   ],
   "source": [
    "w, b, cost, cost_list, epocch_list = bgd(X_scaled, y_scaled.reshape(y_scaled.shape[0],), 1000,)"
   ]
  },
  {
   "cell_type": "code",
   "execution_count": 10,
   "id": "5789e640",
   "metadata": {},
   "outputs": [
    {
     "data": {
      "text/plain": [
       "(array([0.66469087, 0.60541671]), -0.17792104056392882, 0.004863885249279305)"
      ]
     },
     "execution_count": 10,
     "metadata": {},
     "output_type": "execute_result"
    }
   ],
   "source": [
    "w,b,cost"
   ]
  },
  {
   "cell_type": "markdown",
   "id": "edf427ea",
   "metadata": {},
   "source": [
    "##### ploting convergence of wiegths w.r.t epoch and cost"
   ]
  },
  {
   "cell_type": "code",
   "execution_count": 11,
   "id": "7742ab18",
   "metadata": {},
   "outputs": [
    {
     "data": {
      "text/plain": [
       "<Figure size 1440x1296 with 0 Axes>"
      ]
     },
     "execution_count": 11,
     "metadata": {},
     "output_type": "execute_result"
    },
    {
     "data": {
      "image/png": "[encoded data removed]",
      "text/plain": [
       "<Figure size 432x288 with 1 Axes>"
      ]
     },
     "metadata": {
      "needs_background": "light"
     },
     "output_type": "display_data"
    },
    {
     "data": {
      "text/plain": [
       "<Figure size 1440x1296 with 0 Axes>"
      ]
     },
     "metadata": {},
     "output_type": "display_data"
    }
   ],
   "source": [
    "import matplotlib.pyplot as plt\n",
    "plt.scatter(epocch_list, cost_list, alpha= 0.18, c= epocch_list)\n",
    "plt.xlabel(\"epochs\")\n",
    "plt.ylabel(\"loss\")\n",
    "plt.figure(figsize=(20,18))"
   ]
  },
  {
   "cell_type": "markdown",
   "id": "554d06bb",
   "metadata": {},
   "source": [
    "# SGD"
   ]
  },
  {
   "cell_type": "code",
   "execution_count": 27,
   "id": "2b57edd1",
   "metadata": {},
   "outputs": [],
   "source": [
    "def sgd(X, y_true, epochs, learning_rate= 0.01):\n",
    "    from random import randint\n",
    "    number_of_feature = X.shape[1]  #no. of columns\n",
    "    w = np.ones(shape= (number_of_feature,))   # ndim = 1D--> rows\n",
    "    b = 0\n",
    "    total_sample = X.shape[0]\n",
    "\n",
    "    # compute derivative and update the weights and bias\n",
    "    # prediction based on current weights and dimention\n",
    "    cost_list = []\n",
    "    epoch_list = []\n",
    "    \n",
    "    for i in range(epochs):\n",
    "        random_index = randint(0, X.shape[0]-1)\n",
    "        X_sample = X[random_index]\n",
    "        y_sample = y_true[random_index]\n",
    "        \n",
    "        y_predicted = np.dot(w, X_sample.T) + b  #bcz w = 1d(1,n) and X= 2d(m,n) n= no. of feature , m = no. of sample\n",
    "                                        # y_predicted shape = (1,m) and y_true= (m,1)\n",
    "        \n",
    "        \n",
    "    \n",
    "        wd = -(2/total_sample)*(X_sample.T.dot(y_sample - y_predicted))\n",
    "        bd = -(2/total_sample)*np.sum(y_sample - y_predicted)\n",
    "        \n",
    "        w = w - learning_rate * wd\n",
    "        b = b - learning_rate * bd\n",
    "        \n",
    "        y_predicted = np.dot(w, X_sample.T) + b\n",
    "        cost = np.mean(np.square(y_sample - y_predicted))\n",
    "        \n",
    "        if i%10 == 0:\n",
    "            cost_list.append(cost)\n",
    "            epoch_list.append(i)\n",
    "            print(f\"epoch: {i}, w: {w}, b: {b}, loss: {cost}\")\n",
    "            \n",
    "    return w, b, cost, cost_list, epoch_list"
   ]
  },
  {
   "cell_type": "code",
   "execution_count": 38,
   "id": "7637739c",
   "metadata": {},
   "outputs": [
    {
     "name": "stdout",
     "output_type": "stream",
     "text": [
      "epoch: 0, w: [0.99955112 0.9996696 ], b: -0.0006607918263090677, loss: 0.43515251070495414\n",
      "epoch: 10, w: [0.99799571 0.99761759], b: -0.0049135599353203495, loss: 0.24198562243105792\n",
      "epoch: 20, w: [0.99655446 0.99556144], b: -0.00911163697296083, loss: 0.055929302875296884\n",
      "epoch: 30, w: [0.99469284 0.9938324 ], b: -0.012891407242549434, loss: 0.053835584057114506\n",
      "epoch: 40, w: [0.99129082 0.99016703], b: -0.018729877930903947, loss: 0.386059930247229\n",
      "epoch: 50, w: [0.98903088 0.9877012 ], b: -0.023067855169053436, loss: 0.26151198653236907\n",
      "epoch: 60, w: [0.98715011 0.98540637], b: -0.0273559642298596, loss: 0.38119508347399716\n",
      "epoch: 70, w: [0.98417492 0.98196093], b: -0.03264101989679647, loss: 0.24808881304985989\n",
      "epoch: 80, w: [0.98118252 0.97875528], b: -0.03758974554714, loss: 0.053048403436256684\n",
      "epoch: 90, w: [0.97848409 0.9756245 ], b: -0.042549615051052266, loss: 0.2069879381827229\n",
      "epoch: 100, w: [0.97692972 0.97388903], b: -0.04634720121147458, loss: 0.17468309106991614\n",
      "epoch: 110, w: [0.97497856 0.97147865], b: -0.049924544134447836, loss: 0.16131783467704974\n",
      "epoch: 120, w: [0.97272182 0.96868115], b: -0.05427829917342296, loss: 0.3596097993524315\n",
      "epoch: 130, w: [0.97058206 0.96591198], b: -0.05883178765464796, loss: 0.21296327265150283\n",
      "epoch: 140, w: [0.9687789  0.96407252], b: -0.0625410591779422, loss: 0.31256844690162566\n",
      "epoch: 150, w: [0.9675905  0.96225058], b: -0.0662329126712972, loss: 0.268069242370948\n",
      "epoch: 160, w: [0.96589778 0.96037894], b: -0.069455544526695, loss: 0.32762807916150716\n",
      "epoch: 170, w: [0.96404671 0.95794756], b: -0.07352841658160691, loss: 0.19716804147839306\n",
      "epoch: 180, w: [0.96272614 0.95612916], b: -0.07648575594869077, loss: 0.005850070863042685\n",
      "epoch: 190, w: [0.96112449 0.95414597], b: -0.08008477487107203, loss: 0.1342777922825771\n",
      "epoch: 200, w: [0.95757002 0.95020545], b: -0.08518901940574933, loss: 0.18220241838049667\n",
      "epoch: 210, w: [0.95637107 0.94868535], b: -0.08770538095765472, loss: 0.051547738306630154\n",
      "epoch: 220, w: [0.95493237 0.94674111], b: -0.09122825759134352, loss: 0.17367668268681194\n",
      "epoch: 230, w: [0.95400113 0.9454126 ], b: -0.09410521836304452, loss: 0.11867372738558332\n",
      "epoch: 240, w: [0.95163122 0.94250995], b: -0.09842662139969115, loss: 0.2995062486775219\n",
      "epoch: 250, w: [0.950068   0.94045664], b: -0.10181092004058659, loss: 0.16276475149960984\n",
      "epoch: 260, w: [0.9487405  0.93865337], b: -0.10493316873259531, loss: 0.15926366027775532\n",
      "epoch: 270, w: [0.9466058  0.93625709], b: -0.10797590806830616, loss: 0.011658796723175303\n",
      "epoch: 280, w: [0.94424828 0.93379263], b: -0.11187793092216024, loss: 0.0735817287833056\n",
      "epoch: 290, w: [0.9423973 0.931726 ], b: -0.11528106699313351, loss: 0.20104646332022302\n",
      "epoch: 300, w: [0.94132778 0.93039783], b: -0.11740669973446577, loss: 0.018405662226205533\n",
      "epoch: 310, w: [0.93930667 0.92840496], b: -0.1205391871694565, loss: 0.1753128306073277\n",
      "epoch: 320, w: [0.93706336 0.92607159], b: -0.12374766952136398, loss: 0.2185638791480701\n",
      "epoch: 330, w: [0.93563766 0.92412413], b: -0.12669336461780897, loss: 0.018106802314776564\n",
      "epoch: 340, w: [0.93389449 0.92189539], b: -0.1303120260389562, loss: 0.0796920949911579\n",
      "epoch: 350, w: [0.93105476 0.91914381], b: -0.13451085566200555, loss: 0.19924555592084592\n",
      "epoch: 360, w: [0.93004771 0.91790906], b: -0.13679714095317552, loss: 0.1956193956924608\n",
      "epoch: 370, w: [0.92838568 0.91596392], b: -0.1395893515506237, loss: 0.16234257051103765\n",
      "epoch: 380, w: [0.92754306 0.91457254], b: -0.1421858699017127, loss: 0.11894683951050906\n",
      "epoch: 390, w: [0.92665783 0.91354477], b: -0.14425569036695254, loss: 0.02493708845849385\n",
      "epoch: 400, w: [0.92561196 0.91202875], b: -0.1470695585082439, loss: 0.08467842637145534\n",
      "epoch: 410, w: [0.9235735  0.90983738], b: -0.1502979276602602, loss: 0.17401666817914138\n",
      "epoch: 420, w: [0.92248464 0.90855505], b: -0.15273238341402068, loss: 0.14461787738237725\n",
      "epoch: 430, w: [0.92049548 0.90636617], b: -0.15595563331048354, loss: 0.0032330666723474266\n",
      "epoch: 440, w: [0.91800919 0.90372449], b: -0.1592884122688673, loss: 0.12031631307132776\n",
      "epoch: 450, w: [0.91751306 0.90302594], b: -0.1605529541870253, loss: 0.04022199760157061\n",
      "epoch: 460, w: [0.91640443 0.90176668], b: -0.16207176393659617, loss: 0.026267256665519753\n",
      "epoch: 470, w: [0.91477259 0.9001976 ], b: -0.1650671454834291, loss: 0.01085716905403612\n",
      "epoch: 480, w: [0.91411443 0.89899396], b: -0.1673717510363527, loss: 0.001825062183299306\n",
      "epoch: 490, w: [0.91350809 0.89793081], b: -0.16945892168594692, loss: 0.006937911344938417\n",
      "epoch: 500, w: [0.91197504 0.89646175], b: -0.1716059977342221, loss: 0.04906281928911806\n",
      "epoch: 510, w: [0.9113455 0.8953975], b: -0.17384969547348356, loss: 0.033091205465590676\n",
      "epoch: 520, w: [0.90960295 0.89332495], b: -0.1770686095503643, loss: 0.13614479595038684\n",
      "epoch: 530, w: [0.90819081 0.8913729 ], b: -0.17981229000961654, loss: 0.08422300136505348\n",
      "epoch: 540, w: [0.90636088 0.88935864], b: -0.18278809131548981, loss: 0.09279291218620056\n",
      "epoch: 550, w: [0.90559817 0.88816108], b: -0.18472528866922, loss: 0.056163869036052694\n",
      "epoch: 560, w: [0.90300576 0.88534545], b: -0.18825495900484387, loss: 0.005741898346985464\n",
      "epoch: 570, w: [0.90136952 0.8836073 ], b: -0.19082044625553995, loss: 0.14402322234146822\n",
      "epoch: 580, w: [0.89983109 0.88173491], b: -0.1936049543867998, loss: 0.11042433684647701\n",
      "epoch: 590, w: [0.89805264 0.87967789], b: -0.19653615363911414, loss: 0.07724164525447083\n",
      "epoch: 600, w: [0.89677598 0.8783225 ], b: -0.1982798455916783, loss: 0.1099267830321752\n",
      "epoch: 610, w: [0.89601473 0.8774554 ], b: -0.1996856303491328, loss: 0.0021533610296559373\n",
      "epoch: 620, w: [0.8949994  0.87624412], b: -0.2016438696088716, loss: 0.0012038688714665347\n",
      "epoch: 630, w: [0.89343523 0.87443704], b: -0.2042973684916287, loss: 0.06920657314832838\n",
      "epoch: 640, w: [0.89260958 0.87348399], b: -0.20585007304299638, loss: 0.02758442711857701\n",
      "epoch: 650, w: [0.89120881 0.87197227], b: -0.2084127624301682, loss: 0.026265603990621837\n",
      "epoch: 660, w: [0.89044081 0.87106239], b: -0.2098744502372756, loss: 0.07489920491243544\n",
      "epoch: 670, w: [0.8897983  0.87034092], b: -0.21077882135426534, loss: 0.0444277115314933\n",
      "epoch: 680, w: [0.88804975 0.86850724], b: -0.21331557330433648, loss: 0.11384975588344573\n",
      "epoch: 690, w: [0.88782354 0.86806382], b: -0.21430413706928406, loss: 0.000824541811179181\n",
      "epoch: 700, w: [0.88604723 0.86621647], b: -0.21631393278285085, loss: 0.0010654338627929885\n",
      "epoch: 710, w: [0.88490136 0.8651605 ], b: -0.2181683850394234, loss: 0.021243479835033396\n",
      "epoch: 720, w: [0.88351138 0.86365999], b: -0.22030956707116495, loss: 0.05390928362177401\n",
      "epoch: 730, w: [0.8828899  0.86287421], b: -0.22140032118694067, loss: 0.020768040001389626\n",
      "epoch: 740, w: [0.88240098 0.86211252], b: -0.22270516781632604, loss: 0.001079284351420764\n",
      "epoch: 750, w: [0.88138372 0.86075446], b: -0.22486657220528644, loss: 0.019339271440954323\n",
      "epoch: 760, w: [0.87934491 0.85864703], b: -0.22732577959081757, loss: 1.250336703077348e-05\n",
      "epoch: 770, w: [0.87842008 0.85743142], b: -0.2288717699702549, loss: 0.04690910777490171\n",
      "epoch: 780, w: [0.87779724 0.85672381], b: -0.22923397460501982, loss: 0.0670393216834834\n",
      "epoch: 790, w: [0.87740908 0.85593564], b: -0.23069773633296956, loss: 0.0005139366212735823\n",
      "epoch: 800, w: [0.87646242 0.85497366], b: -0.2321229147063533, loss: 0.0642963596193405\n",
      "epoch: 810, w: [0.87507894 0.8534229 ], b: -0.23388803895659613, loss: 0.24464281555394565\n",
      "epoch: 820, w: [0.87446105 0.8526622 ], b: -0.23523604559017855, loss: 0.0002867024794673021\n",
      "epoch: 830, w: [0.87383196 0.85192476], b: -0.23609415848396587, loss: 0.013380264124692346\n",
      "epoch: 840, w: [0.87324656 0.85118357], b: -0.23736924321421007, loss: 0.05890624314992626\n",
      "epoch: 850, w: [0.87150885 0.84937563], b: -0.2397088762449407, loss: 0.06681469944987817\n",
      "epoch: 860, w: [0.87074728 0.84855786], b: -0.24083715591136157, loss: 0.02352679494250188\n",
      "epoch: 870, w: [0.87044082 0.84805475], b: -0.24151734071322054, loss: 0.02322121727468515\n",
      "epoch: 880, w: [0.87001433 0.8474908 ], b: -0.24243348659173766, loss: 0.01230912278553951\n",
      "epoch: 890, w: [0.86967054 0.84695336], b: -0.24326090647332418, loss: 0.0012243668008548425\n",
      "epoch: 900, w: [0.86905867 0.84626456], b: -0.2445228914837447, loss: 0.010409633679878487\n",
      "epoch: 910, w: [0.86837903 0.84537777], b: -0.24590090746724078, loss: 0.029603631352641598\n",
      "epoch: 920, w: [0.86740027 0.84453164], b: -0.24669430604262457, loss: 0.00040743954558038843\n",
      "epoch: 930, w: [0.86704479 0.84396857], b: -0.24729496020977762, loss: 0.02068273149830098\n",
      "epoch: 940, w: [0.86615157 0.84294467], b: -0.248878863923592, loss: 0.04791760981091272\n",
      "epoch: 950, w: [0.86553787 0.84220864], b: -0.24995366072672848, loss: 0.057888825968621355\n",
      "epoch: 960, w: [0.86514208 0.84188283], b: -0.25042389322271313, loss: 0.0006117044363091814\n",
      "epoch: 970, w: [0.86416551 0.84084782], b: -0.25185181288733277, loss: 0.0005842515998579134\n",
      "epoch: 980, w: [0.86337812 0.83966519], b: -0.25338021034919583, loss: 0.025942311869434336\n",
      "epoch: 990, w: [0.86260235 0.83869313], b: -0.2547213593309159, loss: 0.025324693415364384\n",
      "epoch: 1000, w: [0.86190092 0.83776084], b: -0.25586246692821873, loss: 0.06532077691840862\n",
      "epoch: 1010, w: [0.86108635 0.8367941 ], b: -0.2573458641311978, loss: 0.00011824476779075964\n",
      "epoch: 1020, w: [0.86065867 0.83616621], b: -0.258262045036936, loss: 0.007435533787298279\n",
      "epoch: 1030, w: [0.86003951 0.83545793], b: -0.2590712017432398, loss: 0.0002273465172727822\n",
      "epoch: 1040, w: [0.85938416 0.83465533], b: -0.2598925022943673, loss: 0.030707271698300554\n",
      "epoch: 1050, w: [0.85889081 0.83404386], b: -0.2603467595367808, loss: 0.0026723397075214283\n",
      "epoch: 1060, w: [0.85728957 0.83241125], b: -0.2624720011860061, loss: 0.02725235216790947\n",
      "epoch: 1070, w: [0.85686851 0.83170006], b: -0.26364691568043097, loss: 0.021305464598378406\n",
      "epoch: 1080, w: [0.85623214 0.83103411], b: -0.2644010718698533, loss: 0.004640463065363464\n",
      "epoch: 1090, w: [0.8557108  0.83053877], b: -0.2650876634894474, loss: 0.03399857545716456\n",
      "epoch: 1100, w: [0.85537281 0.83005401], b: -0.2658483649524469, loss: 0.026759869544008694\n",
      "epoch: 1110, w: [0.85456314 0.82914295], b: -0.2669618310885984, loss: 0.027080504051389672\n",
      "epoch: 1120, w: [0.85356623 0.82803266], b: -0.26847924593957284, loss: 0.0015392117958312613\n",
      "epoch: 1130, w: [0.85335714 0.82773176], b: -0.2689898610206233, loss: 0.01909280348763433\n",
      "epoch: 1140, w: [0.85249968 0.82686235], b: -0.27039235969006864, loss: 0.030121965311519127\n",
      "epoch: 1150, w: [0.85206116 0.82630414], b: -0.2711796271963843, loss: 0.011618965176765868\n",
      "epoch: 1160, w: [0.85188155 0.82608863], b: -0.2710647949042055, loss: 0.0008099497304953908\n",
      "epoch: 1170, w: [0.85156495 0.82572565], b: -0.2713340817406, loss: 0.0008329333651823595\n",
      "epoch: 1180, w: [0.85086887 0.82486629], b: -0.27237513003190633, loss: 0.024448525621729958\n",
      "epoch: 1190, w: [0.85029831 0.82416311], b: -0.2732259686389734, loss: 0.003805844905696234\n",
      "epoch: 1200, w: [0.84979473 0.82358475], b: -0.27407661836992375, loss: 0.04805692440630945\n",
      "epoch: 1210, w: [0.84928407 0.82298215], b: -0.27444179923445317, loss: 0.016852259758212616\n",
      "epoch: 1220, w: [0.84830341 0.82210244], b: -0.2755867071569735, loss: 0.025977396934924714\n",
      "epoch: 1230, w: [0.84755269 0.82115537], b: -0.27654808128311603, loss: 0.003126910208418437\n",
      "epoch: 1240, w: [0.84737404 0.82092175], b: -0.2763868186374236, loss: 0.03655189057531751\n",
      "epoch: 1250, w: [0.84702974 0.82049876], b: -0.27703240029701914, loss: 0.0013287539020377086\n",
      "epoch: 1260, w: [0.84674286 0.82012927], b: -0.2774960767453549, loss: 0.04465342007865119\n",
      "epoch: 1270, w: [0.84660147 0.81990942], b: -0.2776795760225363, loss: 0.04446928265907515\n",
      "epoch: 1280, w: [0.84639382 0.81957932], b: -0.2780904723518074, loss: 0.01539769444232876\n",
      "epoch: 1290, w: [0.84598916 0.81902221], b: -0.27892464188310706, loss: 0.002697399188683486\n",
      "epoch: 1300, w: [0.84534726 0.81824618], b: -0.27991068142929326, loss: 0.017952560111254175\n",
      "epoch: 1310, w: [0.84500564 0.81783101], b: -0.28042480010737975, loss: 0.012396651359502808\n",
      "epoch: 1320, w: [0.84457115 0.81734651], b: -0.2811814915130412, loss: 0.018386170634754253\n",
      "epoch: 1330, w: [0.8437963 0.8164792], b: -0.2821379641504008, loss: 0.00021921286500689311\n",
      "epoch: 1340, w: [0.84322005 0.81586166], b: -0.2826615782664549, loss: 0.14169211233089585\n",
      "epoch: 1350, w: [0.84296999 0.81567311], b: -0.28272326403263287, loss: 0.0042397770305516135\n",
      "epoch: 1360, w: [0.84228764 0.81497767], b: -0.28354375785150016, loss: 0.0011544898207543396\n",
      "epoch: 1370, w: [0.84211497 0.8148002 ], b: -0.28351112158402725, loss: 0.08037855606183308\n",
      "epoch: 1380, w: [0.84185268 0.81449713], b: -0.2836631027616248, loss: 0.019127466320239168\n",
      "epoch: 1390, w: [0.84162441 0.81414224], b: -0.2839371238395671, loss: 0.08062029029428566\n",
      "epoch: 1400, w: [0.84057556 0.81299505], b: -0.2852918658244312, loss: 0.00713852091412776\n",
      "epoch: 1410, w: [0.83926647 0.81164811], b: -0.28661521133828644, loss: 0.004937476764459924\n",
      "epoch: 1420, w: [0.83892012 0.81116844], b: -0.28735864989604754, loss: 0.013677087530305837\n",
      "epoch: 1430, w: [0.83852856 0.81062309], b: -0.2878851164118188, loss: 0.015373117430751801\n",
      "epoch: 1440, w: [0.8383061  0.81042441], b: -0.28802757660861134, loss: 0.02826975391229925\n",
      "epoch: 1450, w: [0.83756643 0.80970412], b: -0.28872515708703445, loss: 0.02774753757385863\n",
      "epoch: 1460, w: [0.83691724 0.80903086], b: -0.2894537912358752, loss: 0.014692452232590084\n",
      "epoch: 1470, w: [0.83659662 0.80861551], b: -0.2896814516342238, loss: 0.016096771686724964\n",
      "epoch: 1480, w: [0.8362076  0.80810363], b: -0.29039920725368795, loss: 0.03343487924892283\n",
      "epoch: 1490, w: [0.83601799 0.80785664], b: -0.29074756210731717, loss: 0.01609632144010138\n",
      "epoch: 1500, w: [0.83531546 0.80708589], b: -0.29156448147119157, loss: 0.032533248471124585\n",
      "epoch: 1510, w: [0.83461092 0.80631359], b: -0.2923596719823504, loss: 0.015435625694171286\n",
      "epoch: 1520, w: [0.83438518 0.8060409 ], b: -0.29237347211317305, loss: 0.011039158789020204\n",
      "epoch: 1530, w: [0.8339348  0.80556442], b: -0.2924750640981109, loss: 0.0007562774527237754\n",
      "epoch: 1540, w: [0.83308511 0.80472439], b: -0.2935651678148839, loss: 0.0034494034031552724\n",
      "epoch: 1550, w: [0.83302813 0.80465912], b: -0.2929393963160509, loss: 4.081720725081261e-06\n",
      "epoch: 1560, w: [0.83285433 0.80444719], b: -0.2928174573686049, loss: 0.0008933749297619683\n",
      "epoch: 1570, w: [0.83257655 0.80420208], b: -0.2930170049347184, loss: 0.005018368478527089\n",
      "epoch: 1580, w: [0.83225295 0.8039125 ], b: -0.29333028881037343, loss: 0.0034583012158851353\n",
      "epoch: 1590, w: [0.83217247 0.80376832], b: -0.2931177516033779, loss: 0.013955642599402235\n",
      "epoch: 1600, w: [0.8320092  0.80364103], b: -0.2927252145271904, loss: 0.08568805121998965\n",
      "epoch: 1610, w: [0.83149242 0.80317647], b: -0.29323375312709643, loss: 0.013188524055174426\n",
      "epoch: 1620, w: [0.83135538 0.80302837], b: -0.29330487288430035, loss: 1.3083111044320081e-05\n",
      "epoch: 1630, w: [0.8303294  0.80197501], b: -0.29445408218995395, loss: 0.009454719474989643\n",
      "epoch: 1640, w: [0.8302163  0.80191162], b: -0.2941758150890223, loss: 2.840436041320609e-05\n",
      "epoch: 1650, w: [0.8298247  0.80147048], b: -0.29471653049771324, loss: 0.005533429965272284\n",
      "epoch: 1660, w: [0.82954294 0.80126093], b: -0.2949324328327872, loss: 0.012105584104523231\n",
      "epoch: 1670, w: [0.82926201 0.80102036], b: -0.29505671641908077, loss: 0.011985538712319938\n",
      "epoch: 1680, w: [0.82907311 0.80069735], b: -0.29563144900684263, loss: 0.008993843326861536\n",
      "epoch: 1690, w: [0.82790204 0.79951452], b: -0.2968331447599427, loss: 0.004828501018623589\n",
      "epoch: 1700, w: [0.82763914 0.79912906], b: -0.2974216136369782, loss: 0.004682651455375852\n",
      "epoch: 1710, w: [0.82713996 0.79863443], b: -0.29783544897746667, loss: 0.004263196958103178\n",
      "epoch: 1720, w: [0.82663715 0.79804518], b: -0.2985206403866724, loss: 0.10638144627801663\n",
      "epoch: 1730, w: [0.82653929 0.79789579], b: -0.2983258920079141, loss: 0.004362065751635114\n",
      "epoch: 1740, w: [0.82636875 0.79767383], b: -0.29827325930995857, loss: 0.004305626489523687\n",
      "epoch: 1750, w: [0.82601399 0.79724946], b: -0.29893329342926367, loss: 0.02555211452040239\n",
      "epoch: 1760, w: [0.82578394 0.79701892], b: -0.2991613120095068, loss: 0.007638831468206468\n",
      "epoch: 1770, w: [0.82493442 0.79623076], b: -0.2996140189519097, loss: 0.0038703874644913264\n",
      "epoch: 1780, w: [0.82454642 0.79589534], b: -0.2999583911266468, loss: 0.019486393767160878\n",
      "epoch: 1790, w: [0.82453356 0.79584522], b: -0.2998962188927572, loss: 0.016370405658776642\n",
      "epoch: 1800, w: [0.82442392 0.79576785], b: -0.29980614044877013, loss: 0.001609895370536491\n",
      "epoch: 1810, w: [0.82381393 0.79513654], b: -0.3005412996229529, loss: 0.00027803438879899726\n",
      "epoch: 1820, w: [0.82340164 0.79468425], b: -0.30123322325453633, loss: 0.003091682855078012\n",
      "epoch: 1830, w: [0.823275   0.79456352], b: -0.301297427411078, loss: 0.0003186577126645288\n",
      "epoch: 1840, w: [0.82313597 0.79446491], b: -0.3013048849817324, loss: 0.0030650550541690123\n",
      "epoch: 1850, w: [0.82268012 0.79398668], b: -0.3012513479982808, loss: 1.623328132458441e-05\n",
      "epoch: 1860, w: [0.82188506 0.79313148], b: -0.30210746032865027, loss: 0.011164743783438041\n",
      "epoch: 1870, w: [0.82165362 0.7928487 ], b: -0.3024796760825611, loss: 0.005865291939115363\n",
      "epoch: 1880, w: [0.82151834 0.79278885], b: -0.3020564514297329, loss: 3.616779077963321e-05\n",
      "epoch: 1890, w: [0.82080913 0.79200724], b: -0.3022918617309041, loss: 0.0019369303843828841\n",
      "epoch: 1900, w: [0.82041635 0.79155433], b: -0.3027564464967095, loss: 0.002753116673442591\n",
      "epoch: 1910, w: [0.81970196 0.79090352], b: -0.302918006654105, loss: 0.09467158261472927\n",
      "epoch: 1920, w: [0.8195113  0.79071812], b: -0.30302400032914073, loss: 0.007289528837200912\n",
      "epoch: 1930, w: [0.81925675 0.79037534], b: -0.3034798834666859, loss: 9.554957048577563e-05\n",
      "epoch: 1940, w: [0.81917534 0.7902867 ], b: -0.30321524218079854, loss: 0.005223976852722717\n",
      "epoch: 1950, w: [0.81898239 0.79011325], b: -0.3033039268872681, loss: 0.00645010711262983\n",
      "epoch: 1960, w: [0.81871093 0.78987004], b: -0.3029245419555792, loss: 0.0025471492674519814\n",
      "epoch: 1970, w: [0.81800247 0.78918186], b: -0.30328688254150016, loss: 0.0005684472884358638\n",
      "epoch: 1980, w: [0.81779729 0.78896957], b: -0.30292248708373515, loss: 0.016533313598944874\n",
      "epoch: 1990, w: [0.81762115 0.78878087], b: -0.30299183201528773, loss: 0.006402664097032673\n",
      "epoch: 2000, w: [0.81722848 0.7883313 ], b: -0.30315303812450367, loss: 0.0074475233990487725\n",
      "epoch: 2010, w: [0.81706371 0.78813015], b: -0.3030752142713722, loss: 0.0024093517543610273\n",
      "epoch: 2020, w: [0.81686692 0.78790388], b: -0.3032645176709947, loss: 0.006568183848238\n",
      "epoch: 2030, w: [0.81672154 0.78784099], b: -0.30283344440442844, loss: 0.008834499480695625\n",
      "epoch: 2040, w: [0.81650628 0.78761067], b: -0.3030342080718984, loss: 0.01020711695339596\n",
      "epoch: 2050, w: [0.81606739 0.78710515], b: -0.30352269112106023, loss: 0.02001628074115582\n",
      "epoch: 2060, w: [0.81566407 0.78678602], b: -0.303870463577072, loss: 0.01564827696122082\n",
      "epoch: 2070, w: [0.81506858 0.78620757], b: -0.30427763643129074, loss: 0.0002175822950016893\n",
      "epoch: 2080, w: [0.81439418 0.78552763], b: -0.3047762899519478, loss: 0.08711087582847996\n",
      "epoch: 2090, w: [0.81422125 0.78529971], b: -0.30504514365685587, loss: 0.0002688213991518433\n",
      "epoch: 2100, w: [0.81340138 0.78445201], b: -0.3058888968370461, loss: 0.08524326605902885\n",
      "epoch: 2110, w: [0.81329596 0.78426364], b: -0.30584296449317894, loss: 0.018308065600413433\n",
      "epoch: 2120, w: [0.8131925  0.78415949], b: -0.30583710068219505, loss: 0.00521275631342102\n",
      "epoch: 2130, w: [0.81288721 0.78390629], b: -0.3062129274947177, loss: 0.007354640651566303\n",
      "epoch: 2140, w: [0.81248021 0.78346251], b: -0.3065936742445671, loss: 0.008349578023901088\n",
      "epoch: 2150, w: [0.81232817 0.78330404], b: -0.3067427233900626, loss: 0.002674884638934616\n",
      "epoch: 2160, w: [0.81221159 0.78317084], b: -0.30654778881840905, loss: 0.0013524132302761172\n",
      "epoch: 2170, w: [0.81171874 0.78274152], b: -0.3069300137187262, loss: 0.013766602189357704\n",
      "epoch: 2180, w: [0.81165351 0.78261951], b: -0.30677026653499284, loss: 0.0010358852845292952\n",
      "epoch: 2190, w: [0.81131454 0.78229789], b: -0.30712817193379605, loss: 0.0087173763742523\n",
      "epoch: 2200, w: [0.81119601 0.78217195], b: -0.3068982508892572, loss: 0.0032709394827679745\n",
      "epoch: 2210, w: [0.81020313 0.78117636], b: -0.30789166062276735, loss: 0.004268069755870472\n",
      "epoch: 2220, w: [0.80976926 0.78077234], b: -0.3082073065737416, loss: 0.02018179626958615\n",
      "epoch: 2230, w: [0.80941635 0.78041365], b: -0.3084934076271365, loss: 0.012777995887522637\n",
      "epoch: 2240, w: [0.80898474 0.78002189], b: -0.3085237216187181, loss: 0.002754250061660094\n",
      "epoch: 2250, w: [0.80877401 0.77979495], b: -0.3087975509908169, loss: 0.0013206422503965838\n",
      "epoch: 2260, w: [0.80850453 0.7795736 ], b: -0.3087184862280379, loss: 0.0026656616209200165\n",
      "epoch: 2270, w: [0.80797415 0.77907718], b: -0.3089396935198999, loss: 0.007984775049194604\n",
      "epoch: 2280, w: [0.80765811 0.77877905], b: -0.30912010179169824, loss: 0.010643889050607565\n",
      "epoch: 2290, w: [0.80764222 0.77880061], b: -0.3089162482502363, loss: 0.0007840776707573967\n",
      "epoch: 2300, w: [0.80718206 0.77836309], b: -0.30913656436225667, loss: 0.0031365531581200633\n",
      "epoch: 2310, w: [0.80715744 0.77836054], b: -0.30901222763216546, loss: 0.0007488073693562827\n",
      "epoch: 2320, w: [0.80683893 0.77805514], b: -0.30910308820159127, loss: 0.011990249472787767\n",
      "epoch: 2330, w: [0.80640535 0.77762638], b: -0.3089117993921316, loss: 0.006125626942663991\n",
      "epoch: 2340, w: [0.80629829 0.77751332], b: -0.3086874046840906, loss: 0.0023664433109723843\n",
      "epoch: 2350, w: [0.80627957 0.77746437], b: -0.3086209457006058, loss: 0.0006949441440322156\n",
      "epoch: 2360, w: [0.80592548 0.77712476], b: -0.30852297212334745, loss: 0.09518642432782383\n",
      "epoch: 2370, w: [0.8057002  0.77686708], b: -0.30873162383085556, loss: 0.010690271269417184\n",
      "epoch: 2380, w: [0.80556278 0.77672506], b: -0.3084629650855704, loss: 0.0032971006602208705\n",
      "epoch: 2390, w: [0.80519236 0.77623056], b: -0.3088290415481652, loss: 0.004392466005548618\n",
      "epoch: 2400, w: [0.80481675 0.77588309], b: -0.30871121249140115, loss: 0.007181440732815328\n",
      "epoch: 2410, w: [0.80451619 0.77557883], b: -0.3090756681343393, loss: 0.014426767480925206\n",
      "epoch: 2420, w: [0.80409123 0.77516131], b: -0.3095532163785795, loss: 0.0011062163619060977\n",
      "epoch: 2430, w: [0.8039367  0.77501471], b: -0.3092898246319983, loss: 0.014188275389684672\n",
      "epoch: 2440, w: [0.80383353 0.77488084], b: -0.3089948337050329, loss: 0.004258473210401543\n",
      "epoch: 2450, w: [0.80344329 0.77455866], b: -0.30914804983961036, loss: 0.0009770741576321774\n",
      "epoch: 2460, w: [0.803284  0.7744406], b: -0.3090993402204057, loss: 0.005728895817868575\n",
      "epoch: 2470, w: [0.80318545 0.77433618], b: -0.3090796233910553, loss: 0.007346112478941791\n",
      "epoch: 2480, w: [0.80276316 0.77396161], b: -0.3092530130327517, loss: 0.0056495365962742706\n",
      "epoch: 2490, w: [0.80263401 0.7738746 ], b: -0.30924566050285157, loss: 0.010997168440286378\n",
      "epoch: 2500, w: [0.8023724  0.77360524], b: -0.3091064711762284, loss: 0.007305067096943564\n",
      "epoch: 2510, w: [0.80206321 0.77333104], b: -0.30884556766273924, loss: 0.001040678955771596\n",
      "epoch: 2520, w: [0.80193785 0.77319484], b: -0.3088805997396562, loss: 0.013669866075762043\n",
      "epoch: 2530, w: [0.80181491 0.77305524], b: -0.30890920988869286, loss: 0.005596842353100738\n",
      "epoch: 2540, w: [0.8017812  0.77298763], b: -0.30850741055869707, loss: 0.007336945705169775\n",
      "epoch: 2550, w: [0.80139464 0.77263375], b: -0.30862797570800765, loss: 0.008431996773206394\n",
      "epoch: 2560, w: [0.80087199 0.77211935], b: -0.30886466288591824, loss: 0.01333238810647781\n",
      "epoch: 2570, w: [0.80075083 0.7720527 ], b: -0.3084881180462536, loss: 0.008445226022904857\n",
      "epoch: 2580, w: [0.8004702  0.77179783], b: -0.30812137481240254, loss: 0.013390822601924717\n",
      "epoch: 2590, w: [0.80042855 0.77175387], b: -0.30796990571384775, loss: 0.0003506271476645488\n",
      "epoch: 2600, w: [0.80037495 0.77175788], b: -0.3071761718773763, loss: 0.09435720056923941\n",
      "epoch: 2610, w: [0.80003983 0.77141126], b: -0.30740457835540763, loss: 0.008289789694518422\n",
      "epoch: 2620, w: [0.79981814 0.77123682], b: -0.3067427279704542, loss: 0.008181740880313915\n",
      "epoch: 2630, w: [0.79978138 0.77117546], b: -0.30641143853288855, loss: 0.007481240638619407\n",
      "epoch: 2640, w: [0.79968884 0.77108757], b: -0.30630663811137787, loss: 0.00037567213681159695\n",
      "epoch: 2650, w: [0.79947164 0.77078372], b: -0.30619315088044935, loss: 0.0024983223488556795\n",
      "epoch: 2660, w: [0.79935638 0.77070827], b: -0.3058714880605209, loss: 0.009025174371459412\n",
      "epoch: 2670, w: [0.79889    0.77016142], b: -0.3059146209182896, loss: 0.013390504830753575\n",
      "epoch: 2680, w: [0.7988841  0.77024672], b: -0.305524935373846, loss: 0.003078153186491301\n",
      "epoch: 2690, w: [0.79871155 0.77002832], b: -0.30572598430728815, loss: 0.0010541166054999342\n",
      "epoch: 2700, w: [0.79876582 0.77014498], b: -0.3049672289842294, loss: 0.0010000104448937537\n",
      "epoch: 2710, w: [0.79857247 0.76999737], b: -0.30505668896295085, loss: 0.0011530410014592236\n",
      "epoch: 2720, w: [0.79857239 0.76998757], b: -0.3048905600745089, loss: 0.0010062657171266945\n",
      "epoch: 2730, w: [0.7980855 0.7694817], b: -0.3055319339475668, loss: 0.00025470741790321096\n",
      "epoch: 2740, w: [0.79818822 0.76970845], b: -0.3046281535984477, loss: 0.008856816055079148\n",
      "epoch: 2750, w: [0.79817442 0.76975239], b: -0.30420527214538795, loss: 0.0017552209789401974\n",
      "epoch: 2760, w: [0.79788062 0.76948041], b: -0.3036610986592036, loss: 0.0009666933265412664\n",
      "epoch: 2770, w: [0.79789548 0.76953206], b: -0.3023932977919131, loss: 0.09144170654946863\n",
      "epoch: 2780, w: [0.79779045 0.76948844], b: -0.30223716171360765, loss: 0.0018844025154682734\n",
      "epoch: 2790, w: [0.79739989 0.76907562], b: -0.3026815059676095, loss: 0.002542962479172318\n",
      "epoch: 2800, w: [0.79699033 0.76865006], b: -0.3031232667611127, loss: 0.00774906934620121\n",
      "epoch: 2810, w: [0.79671209 0.76841767], b: -0.30331563194209993, loss: 0.02018122357439721\n",
      "epoch: 2820, w: [0.79649423 0.76823853], b: -0.30288665491436506, loss: 0.02008072941661107\n",
      "epoch: 2830, w: [0.79634691 0.76812957], b: -0.3029295081430014, loss: 0.0016594634102959486\n",
      "epoch: 2840, w: [0.79598266 0.76781336], b: -0.3027929118101978, loss: 0.01067388623352955\n",
      "epoch: 2850, w: [0.79570627 0.76755153], b: -0.30290241301399984, loss: 0.06778493042720148\n",
      "epoch: 2860, w: [0.79559862 0.76753687], b: -0.30269314307684003, loss: 0.007702674247097559\n",
      "epoch: 2870, w: [0.79552707 0.76744678], b: -0.30236648214099754, loss: 0.013257720060658715\n",
      "epoch: 2880, w: [0.7954188  0.76728877], b: -0.30217839207143393, loss: 0.0059332387873979\n",
      "epoch: 2890, w: [0.79516758 0.76705679], b: -0.3015982170629635, loss: 0.09096148453555847\n",
      "epoch: 2900, w: [0.79488502 0.76669201], b: -0.30181637669022743, loss: 0.0022408127118217825\n",
      "epoch: 2910, w: [0.79467296 0.76647539], b: -0.30195909751032013, loss: 0.020014023341619416\n",
      "epoch: 2920, w: [0.79440444 0.76618266], b: -0.3022135706569835, loss: 0.00580346097063528\n",
      "epoch: 2930, w: [0.79424826 0.76598804], b: -0.3022840810805011, loss: 0.012845224967038408\n",
      "epoch: 2940, w: [0.79417632 0.7659595 ], b: -0.30192050962641115, loss: 0.01041071423545131\n",
      "epoch: 2950, w: [0.79360686 0.76539909], b: -0.30213044864406613, loss: 0.06598502450551985\n",
      "epoch: 2960, w: [0.79318608 0.76502487], b: -0.302095593960405, loss: 0.004333990563064169\n",
      "epoch: 2970, w: [0.79264885 0.76450186], b: -0.3022488015815118, loss: 0.008746354412565606\n",
      "epoch: 2980, w: [0.79254637 0.76441954], b: -0.3022569489118391, loss: 0.0018641862749873303\n",
      "epoch: 2990, w: [0.79195821 0.7638298 ], b: -0.3023816086208158, loss: 0.007306038641439139\n"
     ]
    }
   ],
   "source": [
    "w_sgd, b_sgd, cost_sgd, cost_list_sgd, epoch_list_sgd = sgd(X_scaled, y_scaled.reshape(y_scaled.shape[0],), 3000,)"
   ]
  },
  {
   "cell_type": "code",
   "execution_count": 39,
   "id": "d467b4cd",
   "metadata": {},
   "outputs": [
    {
     "data": {
      "text/plain": [
       "(array([0.79202751, 0.76393618]), -0.30194308710085105, 0.004262705678444539)"
      ]
     },
     "execution_count": 39,
     "metadata": {},
     "output_type": "execute_result"
    }
   ],
   "source": [
    "w_sgd, b_sgd, cost_sgd"
   ]
  },
  {
   "cell_type": "markdown",
   "id": "7b5748a6",
   "metadata": {},
   "source": [
    "#### sgd cost coversion"
   ]
  },
  {
   "cell_type": "code",
   "execution_count": 40,
   "id": "005d0f53",
   "metadata": {},
   "outputs": [
    {
     "data": {
      "text/plain": [
       "Text(0, 0.5, 'loss')"
      ]
     },
     "execution_count": 40,
     "metadata": {},
     "output_type": "execute_result"
    },
    {
     "data": {
      "image/png": "[encoded data removed]",
      "text/plain": [
       "<Figure size 432x288 with 1 Axes>"
      ]
     },
     "metadata": {
      "needs_background": "light"
     },
     "output_type": "display_data"
    }
   ],
   "source": [
    "plt.plot(epoch_list_sgd, cost_list_sgd,  alpha= 0.2)\n",
    "plt.title(\"sgd conversion\")\n",
    "plt.xlabel(\"epochs\")\n",
    "plt.ylabel(\"loss\")"
   ]
  },
  {
   "cell_type": "markdown",
   "id": "4a4fc171",
   "metadata": {},
   "source": [
    "# Mini- Batch Gradient Descent"
   ]
  },
  {
   "cell_type": "code",
   "execution_count": 41,
   "id": "401a25a9",
   "metadata": {},
   "outputs": [
    {
     "data": {
      "text/plain": [
       "<function RandomState.permutation>"
      ]
     },
     "execution_count": 41,
     "metadata": {},
     "output_type": "execute_result"
    }
   ],
   "source": [
    "np.random.permutation()"
   ]
  },
  {
   "cell_type": "code",
   "execution_count": null,
   "id": "def601ae",
   "metadata": {},
   "outputs": [],
   "source": []
  },
  {
   "cell_type": "code",
   "execution_count": null,
   "id": "656da7e9",
   "metadata": {},
   "outputs": [],
   "source": [
    "def sgd(X, y_true, epochs, learning_rate= 0.01):\n",
    "    from random import randint\n",
    "    number_of_feature = X.shape[1]  #no. of columns\n",
    "    w = np.ones(shape= (number_of_feature,))   # ndim = 1D--> rows\n",
    "    b = 0\n",
    "    total_sample = X.shape[0]\n",
    "\n",
    "    # compute derivative and update the weights and bias\n",
    "    # prediction based on current weights and dimention\n",
    "    cost_list = []\n",
    "    epoch_list = []\n",
    "    \n",
    "    for i in range(epochs):\n",
    "        random_index = randint(0, X.shape[0]-1)\n",
    "        X_sample = X[random_index]\n",
    "        y_sample = y_true[random_index]\n",
    "        \n",
    "        y_predicted = np.dot(w, X_sample.T) + b  #bcz w = 1d(1,n) and X= 2d(m,n) n= no. of feature , m = no. of sample\n",
    "                                        # y_predicted shape = (1,m) and y_true= (m,1)\n",
    "        \n",
    "        \n",
    "    \n",
    "        wd = -(2/total_sample)*(X_sample.T.dot(y_sample - y_predicted))\n",
    "        bd = -(2/total_sample)*np.sum(y_sample - y_predicted)\n",
    "        \n",
    "        w = w - learning_rate * wd\n",
    "        b = b - learning_rate * bd\n",
    "        \n",
    "        y_predicted = np.dot(w, X_sample.T) + b\n",
    "        cost = np.mean(np.square(y_sample - y_predicted))\n",
    "        \n",
    "        if i%10 == 0:\n",
    "            cost_list.append(cost)\n",
    "            epoch_list.append(i)\n",
    "            print(f\"epoch: {i}, w: {w}, b: {b}, loss: {cost}\")\n",
    "            \n",
    "    return w, b, cost, cost_list, epoch_list"
   ]
  }
 ],
 "metadata": {
  "kernelspec": {
   "display_name": "Python 3",
   "language": "python",
   "name": "python3"
  },
  "language_info": {
   "codemirror_mode": {
    "name": "ipython",
    "version": 3
   },
   "file_extension": ".py",
   "mimetype": "text/x-python",
   "name": "python",
   "nbconvert_exporter": "python",
   "pygments_lexer": "ipython3",
   "version": "3.6.13"
  }
 },
 "nbformat": 4,
 "nbformat_minor": 5
}
